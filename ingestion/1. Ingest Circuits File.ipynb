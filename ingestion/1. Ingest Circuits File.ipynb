{
 "cells": [
  {
   "cell_type": "markdown",
   "metadata": {
    "application/vnd.databricks.v1+cell": {
     "cellMetadata": {},
     "inputWidgets": {},
     "nuid": "99987eba-2199-4a88-a7fc-3f95f5ddc9cb",
     "showTitle": false,
     "title": ""
    }
   },
   "source": [
    "### Read the csv file using spark reader API"
   ]
  },
  {
   "cell_type": "code",
   "execution_count": 0,
   "metadata": {
    "application/vnd.databricks.v1+cell": {
     "cellMetadata": {
      "byteLimit": 2048000,
      "rowLimit": 10000
     },
     "inputWidgets": {},
     "nuid": "11c7b775-de1c-4be4-b776-e3de40dfc973",
     "showTitle": false,
     "title": ""
    }
   },
   "outputs": [],
   "source": [
    "from pyspark.sql.types import StructType, StructField,IntegerType,StringType,DoubleType"
   ]
  },
  {
   "cell_type": "code",
   "execution_count": 0,
   "metadata": {
    "application/vnd.databricks.v1+cell": {
     "cellMetadata": {
      "byteLimit": 2048000,
      "rowLimit": 10000
     },
     "inputWidgets": {},
     "nuid": "be751fa5-adfd-4ff7-b6c5-bdb88319336f",
     "showTitle": false,
     "title": ""
    }
   },
   "outputs": [],
   "source": [
    "circuits_schema = StructType(fields=[StructField(\"circuitId\",IntegerType(),False),\n",
    "                                     StructField(\"circuitRef\",StringType(),True),\n",
    "                                     StructField(\"name\",StringType(),True),\n",
    "                                     StructField(\"location\",StringType(),True),\n",
    "                                     StructField(\"country\",StringType(),True),\n",
    "                                     StructField(\"lat\",DoubleType(),True),\n",
    "                                     StructField(\"lng\",DoubleType(),True),\n",
    "                                     StructField(\"alt\",DoubleType(),True),\n",
    "                                     StructField(\"url\",StringType(),True)\n",
    "                                     ])"
   ]
  },
  {
   "cell_type": "code",
   "execution_count": 0,
   "metadata": {
    "application/vnd.databricks.v1+cell": {
     "cellMetadata": {
      "byteLimit": 2048000,
      "rowLimit": 10000
     },
     "inputWidgets": {},
     "nuid": "0f762716-2fcf-462d-89fb-25aada010f3f",
     "showTitle": false,
     "title": ""
    }
   },
   "outputs": [],
   "source": [
    "circuits_df =spark.read \\\n",
    "    .option(\"header\",True) \\\n",
    "        .schema(circuits_schema) \\\n",
    "        .csv(\"abfss://raw@formulaonedl01.dfs.core.windows.net/circuits.csv\")"
   ]
  },
  {
   "cell_type": "code",
   "execution_count": 0,
   "metadata": {
    "application/vnd.databricks.v1+cell": {
     "cellMetadata": {
      "byteLimit": 2048000,
      "rowLimit": 10000
     },
     "inputWidgets": {},
     "nuid": "20acd446-993f-4c29-8092-24d0b15464ed",
     "showTitle": false,
     "title": ""
    }
   },
   "outputs": [
    {
     "output_type": "display_data",
     "data": {
      "text/html": [
       "<style scoped>\n",
       "  .table-result-container {\n",
       "    max-height: 300px;\n",
       "    overflow: auto;\n",
       "  }\n",
       "  table, th, td {\n",
       "    border: 1px solid black;\n",
       "    border-collapse: collapse;\n",
       "  }\n",
       "  th, td {\n",
       "    padding: 5px;\n",
       "  }\n",
       "  th {\n",
       "    text-align: left;\n",
       "  }\n",
       "</style><div class='table-result-container'><table class='table-result'><thead style='background-color: white'><tr><th>circuitId</th><th>circuitRef</th><th>name</th><th>location</th><th>country</th><th>lat</th><th>lng</th><th>alt</th><th>url</th></tr></thead><tbody><tr><td>1</td><td>albert_park</td><td>Albert Park Grand Prix Circuit</td><td>Melbourne</td><td>Australia</td><td>-37.8497</td><td>144.968</td><td>10.0</td><td>http://en.wikipedia.org/wiki/Melbourne_Grand_Prix_Circuit</td></tr><tr><td>2</td><td>sepang</td><td>Sepang International Circuit</td><td>Kuala Lumpur</td><td>Malaysia</td><td>2.76083</td><td>101.738</td><td>18.0</td><td>http://en.wikipedia.org/wiki/Sepang_International_Circuit</td></tr><tr><td>3</td><td>bahrain</td><td>Bahrain International Circuit</td><td>Sakhir</td><td>Bahrain</td><td>26.0325</td><td>50.5106</td><td>7.0</td><td>http://en.wikipedia.org/wiki/Bahrain_International_Circuit</td></tr><tr><td>4</td><td>catalunya</td><td>Circuit de Barcelona-Catalunya</td><td>Montmeló</td><td>Spain</td><td>41.57</td><td>2.26111</td><td>109.0</td><td>http://en.wikipedia.org/wiki/Circuit_de_Barcelona-Catalunya</td></tr><tr><td>5</td><td>istanbul</td><td>Istanbul Park</td><td>Istanbul</td><td>Turkey</td><td>40.9517</td><td>29.405</td><td>130.0</td><td>http://en.wikipedia.org/wiki/Istanbul_Park</td></tr><tr><td>6</td><td>monaco</td><td>Circuit de Monaco</td><td>Monte-Carlo</td><td>Monaco</td><td>43.7347</td><td>7.42056</td><td>7.0</td><td>http://en.wikipedia.org/wiki/Circuit_de_Monaco</td></tr><tr><td>7</td><td>villeneuve</td><td>Circuit Gilles Villeneuve</td><td>Montreal</td><td>Canada</td><td>45.5</td><td>-73.5228</td><td>13.0</td><td>http://en.wikipedia.org/wiki/Circuit_Gilles_Villeneuve</td></tr><tr><td>8</td><td>magny_cours</td><td>Circuit de Nevers Magny-Cours</td><td>Magny Cours</td><td>France</td><td>46.8642</td><td>3.16361</td><td>228.0</td><td>http://en.wikipedia.org/wiki/Circuit_de_Nevers_Magny-Cours</td></tr><tr><td>9</td><td>silverstone</td><td>Silverstone Circuit</td><td>Silverstone</td><td>UK</td><td>52.0786</td><td>-1.01694</td><td>153.0</td><td>http://en.wikipedia.org/wiki/Silverstone_Circuit</td></tr><tr><td>10</td><td>hockenheimring</td><td>Hockenheimring</td><td>Hockenheim</td><td>Germany</td><td>49.3278</td><td>8.56583</td><td>103.0</td><td>http://en.wikipedia.org/wiki/Hockenheimring</td></tr><tr><td>11</td><td>hungaroring</td><td>Hungaroring</td><td>Budapest</td><td>Hungary</td><td>47.5789</td><td>19.2486</td><td>264.0</td><td>http://en.wikipedia.org/wiki/Hungaroring</td></tr><tr><td>12</td><td>valencia</td><td>Valencia Street Circuit</td><td>Valencia</td><td>Spain</td><td>39.4589</td><td>-0.331667</td><td>4.0</td><td>http://en.wikipedia.org/wiki/Valencia_Street_Circuit</td></tr><tr><td>13</td><td>spa</td><td>Circuit de Spa-Francorchamps</td><td>Spa</td><td>Belgium</td><td>50.4372</td><td>5.97139</td><td>401.0</td><td>http://en.wikipedia.org/wiki/Circuit_de_Spa-Francorchamps</td></tr><tr><td>14</td><td>monza</td><td>Autodromo Nazionale di Monza</td><td>Monza</td><td>Italy</td><td>45.6156</td><td>9.28111</td><td>162.0</td><td>http://en.wikipedia.org/wiki/Autodromo_Nazionale_Monza</td></tr><tr><td>15</td><td>marina_bay</td><td>Marina Bay Street Circuit</td><td>Marina Bay</td><td>Singapore</td><td>1.2914</td><td>103.864</td><td>18.0</td><td>http://en.wikipedia.org/wiki/Marina_Bay_Street_Circuit</td></tr><tr><td>16</td><td>fuji</td><td>Fuji Speedway</td><td>Oyama</td><td>Japan</td><td>35.3717</td><td>138.927</td><td>583.0</td><td>http://en.wikipedia.org/wiki/Fuji_Speedway</td></tr><tr><td>17</td><td>shanghai</td><td>Shanghai International Circuit</td><td>Shanghai</td><td>China</td><td>31.3389</td><td>121.22</td><td>5.0</td><td>http://en.wikipedia.org/wiki/Shanghai_International_Circuit</td></tr><tr><td>18</td><td>interlagos</td><td>Autódromo José Carlos Pace</td><td>São Paulo</td><td>Brazil</td><td>-23.7036</td><td>-46.6997</td><td>785.0</td><td>http://en.wikipedia.org/wiki/Aut%C3%B3dromo_Jos%C3%A9_Carlos_Pace</td></tr><tr><td>19</td><td>indianapolis</td><td>Indianapolis Motor Speedway</td><td>Indianapolis</td><td>USA</td><td>39.795</td><td>-86.2347</td><td>223.0</td><td>http://en.wikipedia.org/wiki/Indianapolis_Motor_Speedway</td></tr><tr><td>20</td><td>nurburgring</td><td>Nürburgring</td><td>Nürburg</td><td>Germany</td><td>50.3356</td><td>6.9475</td><td>578.0</td><td>http://en.wikipedia.org/wiki/N%C3%BCrburgring</td></tr><tr><td>21</td><td>imola</td><td>Autodromo Enzo e Dino Ferrari</td><td>Imola</td><td>Italy</td><td>44.3439</td><td>11.7167</td><td>37.0</td><td>http://en.wikipedia.org/wiki/Autodromo_Enzo_e_Dino_Ferrari</td></tr><tr><td>22</td><td>suzuka</td><td>Suzuka Circuit</td><td>Suzuka</td><td>Japan</td><td>34.8431</td><td>136.541</td><td>45.0</td><td>http://en.wikipedia.org/wiki/Suzuka_Circuit</td></tr><tr><td>23</td><td>osterreichring</td><td>A1-Ring</td><td>Spielburg</td><td>Austria</td><td>47.2197</td><td>14.7647</td><td>678.0</td><td>http://en.wikipedia.org/wiki/A1-Ring</td></tr><tr><td>24</td><td>yas_marina</td><td>Yas Marina Circuit</td><td>Abu Dhabi</td><td>UAE</td><td>24.4672</td><td>54.6031</td><td>3.0</td><td>http://en.wikipedia.org/wiki/Yas_Marina_Circuit</td></tr><tr><td>25</td><td>galvez</td><td>Autódromo Juan y Oscar Gálvez</td><td>Buenos Aires</td><td>Argentina</td><td>-34.6943</td><td>-58.4593</td><td>8.0</td><td>http://en.wikipedia.org/wiki/Aut%C3%B3dromo_Oscar_Alfredo_G%C3%A1lvez</td></tr><tr><td>26</td><td>jerez</td><td>Circuito de Jerez</td><td>Jerez de la Frontera</td><td>Spain</td><td>36.7083</td><td>-6.03417</td><td>37.0</td><td>http://en.wikipedia.org/wiki/Circuito_Permanente_de_Jerez</td></tr><tr><td>27</td><td>estoril</td><td>Autódromo do Estoril</td><td>Estoril</td><td>Portugal</td><td>38.7506</td><td>-9.39417</td><td>130.0</td><td>http://en.wikipedia.org/wiki/Aut%C3%B3dromo_do_Estoril</td></tr><tr><td>28</td><td>okayama</td><td>Okayama International Circuit</td><td>Okayama</td><td>Japan</td><td>34.915</td><td>134.221</td><td>266.0</td><td>http://en.wikipedia.org/wiki/TI_Circuit</td></tr><tr><td>29</td><td>adelaide</td><td>Adelaide Street Circuit</td><td>Adelaide</td><td>Australia</td><td>-34.9272</td><td>138.617</td><td>58.0</td><td>http://en.wikipedia.org/wiki/Adelaide_Street_Circuit</td></tr><tr><td>30</td><td>kyalami</td><td>Kyalami</td><td>Midrand</td><td>South Africa</td><td>-25.9894</td><td>28.0767</td><td>1460.0</td><td>http://en.wikipedia.org/wiki/Kyalami</td></tr><tr><td>31</td><td>donington</td><td>Donington Park</td><td>Castle Donington</td><td>UK</td><td>52.8306</td><td>-1.37528</td><td>88.0</td><td>http://en.wikipedia.org/wiki/Donington_Park</td></tr><tr><td>32</td><td>rodriguez</td><td>Autódromo Hermanos Rodríguez</td><td>Mexico City</td><td>Mexico</td><td>19.4042</td><td>-99.0907</td><td>2227.0</td><td>http://en.wikipedia.org/wiki/Aut%C3%B3dromo_Hermanos_Rodr%C3%ADguez</td></tr><tr><td>33</td><td>phoenix</td><td>Phoenix street circuit</td><td>Phoenix</td><td>USA</td><td>33.4479</td><td>-112.075</td><td>345.0</td><td>http://en.wikipedia.org/wiki/Phoenix_street_circuit</td></tr><tr><td>34</td><td>ricard</td><td>Circuit Paul Ricard</td><td>Le Castellet</td><td>France</td><td>43.2506</td><td>5.79167</td><td>432.0</td><td>http://en.wikipedia.org/wiki/Paul_Ricard_Circuit</td></tr><tr><td>35</td><td>yeongam</td><td>Korean International Circuit</td><td>Yeongam County</td><td>Korea</td><td>34.7333</td><td>126.417</td><td>0.0</td><td>http://en.wikipedia.org/wiki/Korean_International_Circuit</td></tr><tr><td>36</td><td>jacarepagua</td><td>Autódromo Internacional Nelson Piquet</td><td>Rio de Janeiro</td><td>Brazil</td><td>-22.9756</td><td>-43.395</td><td>1126.0</td><td>http://en.wikipedia.org/wiki/Aut%C3%B3dromo_Internacional_Nelson_Piquet</td></tr><tr><td>37</td><td>detroit</td><td>Detroit Street Circuit</td><td>Detroit</td><td>USA</td><td>42.3298</td><td>-83.0401</td><td>177.0</td><td>http://en.wikipedia.org/wiki/Detroit_street_circuit</td></tr><tr><td>38</td><td>brands_hatch</td><td>Brands Hatch</td><td>Kent</td><td>UK</td><td>51.3569</td><td>0.263056</td><td>145.0</td><td>http://en.wikipedia.org/wiki/Brands_Hatch</td></tr><tr><td>39</td><td>zandvoort</td><td>Circuit Park Zandvoort</td><td>Zandvoort</td><td>Netherlands</td><td>52.3888</td><td>4.54092</td><td>6.0</td><td>http://en.wikipedia.org/wiki/Circuit_Zandvoort</td></tr><tr><td>40</td><td>zolder</td><td>Zolder</td><td>Heusden-Zolder</td><td>Belgium</td><td>50.9894</td><td>5.25694</td><td>36.0</td><td>http://en.wikipedia.org/wiki/Zolder</td></tr><tr><td>41</td><td>dijon</td><td>Dijon-Prenois</td><td>Dijon</td><td>France</td><td>47.3625</td><td>4.89913</td><td>484.0</td><td>http://en.wikipedia.org/wiki/Dijon-Prenois</td></tr><tr><td>42</td><td>dallas</td><td>Fair Park</td><td>Dallas</td><td>USA</td><td>32.7774</td><td>-96.7587</td><td>139.0</td><td>http://en.wikipedia.org/wiki/Fair_Park</td></tr><tr><td>43</td><td>long_beach</td><td>Long Beach</td><td>California</td><td>USA</td><td>33.7651</td><td>-118.189</td><td>12.0</td><td>http://en.wikipedia.org/wiki/Long_Beach,_California</td></tr><tr><td>44</td><td>las_vegas</td><td>Las Vegas Street Circuit</td><td>Nevada</td><td>USA</td><td>36.1162</td><td>-115.174</td><td>639.0</td><td>http://en.wikipedia.org/wiki/Las_Vegas,_Nevada</td></tr><tr><td>45</td><td>jarama</td><td>Jarama</td><td>Madrid</td><td>Spain</td><td>40.6171</td><td>-3.58558</td><td>609.0</td><td>http://en.wikipedia.org/wiki/Circuito_Permanente_Del_Jarama</td></tr><tr><td>46</td><td>watkins_glen</td><td>Watkins Glen</td><td>New York State</td><td>USA</td><td>42.3369</td><td>-76.9272</td><td>485.0</td><td>http://en.wikipedia.org/wiki/Watkins_Glen_International</td></tr><tr><td>47</td><td>anderstorp</td><td>Scandinavian Raceway</td><td>Anderstorp</td><td>Sweden</td><td>57.2653</td><td>13.6042</td><td>153.0</td><td>http://en.wikipedia.org/wiki/Scandinavian_Raceway</td></tr><tr><td>48</td><td>mosport</td><td>Mosport International Raceway</td><td>Ontario</td><td>Canada</td><td>44.0481</td><td>-78.6756</td><td>332.0</td><td>http://en.wikipedia.org/wiki/Mosport</td></tr><tr><td>49</td><td>montjuic</td><td>Montjuïc</td><td>Barcelona</td><td>Spain</td><td>41.3664</td><td>2.15167</td><td>79.0</td><td>http://en.wikipedia.org/wiki/Montju%C3%AFc_circuit</td></tr><tr><td>50</td><td>nivelles</td><td>Nivelles-Baulers</td><td>Brussels</td><td>Belgium</td><td>50.6211</td><td>4.32694</td><td>139.0</td><td>http://en.wikipedia.org/wiki/Nivelles-Baulers</td></tr><tr><td>51</td><td>charade</td><td>Charade Circuit</td><td>Clermont-Ferrand</td><td>France</td><td>45.7472</td><td>3.03889</td><td>790.0</td><td>http://en.wikipedia.org/wiki/Charade_Circuit</td></tr><tr><td>52</td><td>tremblant</td><td>Circuit Mont-Tremblant</td><td>Quebec</td><td>Canada</td><td>46.1877</td><td>-74.6099</td><td>214.0</td><td>http://en.wikipedia.org/wiki/Circuit_Mont-Tremblant</td></tr><tr><td>53</td><td>essarts</td><td>Rouen-Les-Essarts</td><td>Rouen</td><td>France</td><td>49.3306</td><td>1.00458</td><td>81.0</td><td>http://en.wikipedia.org/wiki/Rouen-Les-Essarts</td></tr><tr><td>54</td><td>lemans</td><td>Le Mans</td><td>Le Mans</td><td>France</td><td>47.95</td><td>0.224231</td><td>67.0</td><td>http://en.wikipedia.org/wiki/Circuit_de_la_Sarthe#Bugatti_Circuit</td></tr><tr><td>55</td><td>reims</td><td>Reims-Gueux</td><td>Reims</td><td>France</td><td>49.2542</td><td>3.93083</td><td>88.0</td><td>http://en.wikipedia.org/wiki/Reims-Gueux</td></tr><tr><td>56</td><td>george</td><td>Prince George Circuit</td><td>Eastern Cape Province</td><td>South Africa</td><td>-33.0486</td><td>27.8736</td><td>15.0</td><td>http://en.wikipedia.org/wiki/Prince_George_Circuit</td></tr><tr><td>57</td><td>zeltweg</td><td>Zeltweg</td><td>Styria</td><td>Austria</td><td>47.2039</td><td>14.7478</td><td>676.0</td><td>http://en.wikipedia.org/wiki/Zeltweg_Airfield</td></tr><tr><td>58</td><td>aintree</td><td>Aintree</td><td>Liverpool</td><td>UK</td><td>53.4769</td><td>-2.94056</td><td>20.0</td><td>http://en.wikipedia.org/wiki/Aintree_Motor_Racing_Circuit</td></tr><tr><td>59</td><td>boavista</td><td>Circuito da Boavista</td><td>Oporto</td><td>Portugal</td><td>41.1705</td><td>-8.67325</td><td>28.0</td><td>http://en.wikipedia.org/wiki/Circuito_da_Boavista</td></tr><tr><td>60</td><td>riverside</td><td>Riverside International Raceway</td><td>California</td><td>USA</td><td>33.937</td><td>-117.273</td><td>470.0</td><td>http://en.wikipedia.org/wiki/Riverside_International_Raceway</td></tr><tr><td>61</td><td>avus</td><td>AVUS</td><td>Berlin</td><td>Germany</td><td>52.4806</td><td>13.2514</td><td>53.0</td><td>http://en.wikipedia.org/wiki/AVUS</td></tr><tr><td>62</td><td>monsanto</td><td>Monsanto Park Circuit</td><td>Lisbon</td><td>Portugal</td><td>38.7197</td><td>-9.20306</td><td>158.0</td><td>http://en.wikipedia.org/wiki/Monsanto_Park_Circuit</td></tr><tr><td>63</td><td>sebring</td><td>Sebring International Raceway</td><td>Florida</td><td>USA</td><td>27.4547</td><td>-81.3483</td><td>18.0</td><td>http://en.wikipedia.org/wiki/Sebring_Raceway</td></tr><tr><td>64</td><td>ain-diab</td><td>Ain Diab</td><td>Casablanca</td><td>Morocco</td><td>33.5786</td><td>-7.6875</td><td>19.0</td><td>http://en.wikipedia.org/wiki/Ain-Diab_Circuit</td></tr><tr><td>65</td><td>pescara</td><td>Pescara Circuit</td><td>Pescara</td><td>Italy</td><td>42.475</td><td>14.1508</td><td>129.0</td><td>http://en.wikipedia.org/wiki/Pescara_Circuit</td></tr><tr><td>66</td><td>bremgarten</td><td>Circuit Bremgarten</td><td>Bern</td><td>Switzerland</td><td>46.9589</td><td>7.40194</td><td>551.0</td><td>http://en.wikipedia.org/wiki/Circuit_Bremgarten</td></tr><tr><td>67</td><td>pedralbes</td><td>Circuit de Pedralbes</td><td>Barcelona</td><td>Spain</td><td>41.3903</td><td>2.11667</td><td>85.0</td><td>http://en.wikipedia.org/wiki/Pedralbes_Circuit</td></tr><tr><td>68</td><td>buddh</td><td>Buddh International Circuit</td><td>Uttar Pradesh</td><td>India</td><td>28.3487</td><td>77.5331</td><td>194.0</td><td>http://en.wikipedia.org/wiki/Buddh_International_Circuit</td></tr><tr><td>69</td><td>americas</td><td>Circuit of the Americas</td><td>Austin</td><td>USA</td><td>30.1328</td><td>-97.6411</td><td>161.0</td><td>http://en.wikipedia.org/wiki/Circuit_of_the_Americas</td></tr><tr><td>70</td><td>red_bull_ring</td><td>Red Bull Ring</td><td>Spielburg</td><td>Austria</td><td>47.2197</td><td>14.7647</td><td>678.0</td><td>http://en.wikipedia.org/wiki/Red_Bull_Ring</td></tr><tr><td>71</td><td>sochi</td><td>Sochi Autodrom</td><td>Sochi</td><td>Russia</td><td>43.4057</td><td>39.9578</td><td>2.0</td><td>http://en.wikipedia.org/wiki/Sochi_Autodrom</td></tr><tr><td>72</td><td>port_imperial</td><td>Port Imperial Street Circuit</td><td>New Jersey</td><td>USA</td><td>40.7769</td><td>-74.0111</td><td>4.0</td><td>http://en.wikipedia.org/wiki/Port_Imperial_Street_Circuit</td></tr><tr><td>73</td><td>BAK</td><td>Baku City Circuit</td><td>Baku</td><td>Azerbaijan</td><td>40.3725</td><td>49.8533</td><td>-7.0</td><td>http://en.wikipedia.org/wiki/Baku_City_Circuit</td></tr><tr><td>74</td><td>hanoi</td><td>Hanoi Street Circuit</td><td>Hanoi</td><td>Vietnam</td><td>21.0166</td><td>105.766</td><td>9.0</td><td>http://en.wikipedia.org/wiki/Hanoi_Street_Circuit</td></tr><tr><td>75</td><td>portimao</td><td>Autódromo Internacional do Algarve</td><td>Portimão</td><td>Portugal</td><td>37.227</td><td>-8.6267</td><td>108.0</td><td>http://en.wikipedia.org/wiki/Algarve_International_Circuit</td></tr><tr><td>76</td><td>mugello</td><td>Autodromo Internazionale del Mugello</td><td>Mugello</td><td>Italy</td><td>43.9975</td><td>11.3719</td><td>255.0</td><td>http://en.wikipedia.org/wiki/Mugello_Circuit</td></tr><tr><td>77</td><td>jeddah</td><td>Jeddah Street Circuit</td><td>Jeddah</td><td>Saudi Arabia</td><td>21.5433</td><td>39.1728</td><td>15.0</td><td>http://en.wikipedia.org/wiki/Jeddah_Street_Circuit</td></tr></tbody></table></div>"
      ]
     },
     "metadata": {
      "application/vnd.databricks.v1+output": {
       "addedWidgets": {},
       "aggData": [],
       "aggError": "",
       "aggOverflow": false,
       "aggSchema": [],
       "aggSeriesLimitReached": false,
       "aggType": "",
       "arguments": {},
       "columnCustomDisplayInfos": {},
       "data": [
        [
         1,
         "albert_park",
         "Albert Park Grand Prix Circuit",
         "Melbourne",
         "Australia",
         -37.8497,
         144.968,
         10.0,
         "http://en.wikipedia.org/wiki/Melbourne_Grand_Prix_Circuit"
        ],
        [
         2,
         "sepang",
         "Sepang International Circuit",
         "Kuala Lumpur",
         "Malaysia",
         2.76083,
         101.738,
         18.0,
         "http://en.wikipedia.org/wiki/Sepang_International_Circuit"
        ],
        [
         3,
         "bahrain",
         "Bahrain International Circuit",
         "Sakhir",
         "Bahrain",
         26.0325,
         50.5106,
         7.0,
         "http://en.wikipedia.org/wiki/Bahrain_International_Circuit"
        ],
        [
         4,
         "catalunya",
         "Circuit de Barcelona-Catalunya",
         "Montmeló",
         "Spain",
         41.57,
         2.26111,
         109.0,
         "http://en.wikipedia.org/wiki/Circuit_de_Barcelona-Catalunya"
        ],
        [
         5,
         "istanbul",
         "Istanbul Park",
         "Istanbul",
         "Turkey",
         40.9517,
         29.405,
         130.0,
         "http://en.wikipedia.org/wiki/Istanbul_Park"
        ],
        [
         6,
         "monaco",
         "Circuit de Monaco",
         "Monte-Carlo",
         "Monaco",
         43.7347,
         7.42056,
         7.0,
         "http://en.wikipedia.org/wiki/Circuit_de_Monaco"
        ],
        [
         7,
         "villeneuve",
         "Circuit Gilles Villeneuve",
         "Montreal",
         "Canada",
         45.5,
         -73.5228,
         13.0,
         "http://en.wikipedia.org/wiki/Circuit_Gilles_Villeneuve"
        ],
        [
         8,
         "magny_cours",
         "Circuit de Nevers Magny-Cours",
         "Magny Cours",
         "France",
         46.8642,
         3.16361,
         228.0,
         "http://en.wikipedia.org/wiki/Circuit_de_Nevers_Magny-Cours"
        ],
        [
         9,
         "silverstone",
         "Silverstone Circuit",
         "Silverstone",
         "UK",
         52.0786,
         -1.01694,
         153.0,
         "http://en.wikipedia.org/wiki/Silverstone_Circuit"
        ],
        [
         10,
         "hockenheimring",
         "Hockenheimring",
         "Hockenheim",
         "Germany",
         49.3278,
         8.56583,
         103.0,
         "http://en.wikipedia.org/wiki/Hockenheimring"
        ],
        [
         11,
         "hungaroring",
         "Hungaroring",
         "Budapest",
         "Hungary",
         47.5789,
         19.2486,
         264.0,
         "http://en.wikipedia.org/wiki/Hungaroring"
        ],
        [
         12,
         "valencia",
         "Valencia Street Circuit",
         "Valencia",
         "Spain",
         39.4589,
         -0.331667,
         4.0,
         "http://en.wikipedia.org/wiki/Valencia_Street_Circuit"
        ],
        [
         13,
         "spa",
         "Circuit de Spa-Francorchamps",
         "Spa",
         "Belgium",
         50.4372,
         5.97139,
         401.0,
         "http://en.wikipedia.org/wiki/Circuit_de_Spa-Francorchamps"
        ],
        [
         14,
         "monza",
         "Autodromo Nazionale di Monza",
         "Monza",
         "Italy",
         45.6156,
         9.28111,
         162.0,
         "http://en.wikipedia.org/wiki/Autodromo_Nazionale_Monza"
        ],
        [
         15,
         "marina_bay",
         "Marina Bay Street Circuit",
         "Marina Bay",
         "Singapore",
         1.2914,
         103.864,
         18.0,
         "http://en.wikipedia.org/wiki/Marina_Bay_Street_Circuit"
        ],
        [
         16,
         "fuji",
         "Fuji Speedway",
         "Oyama",
         "Japan",
         35.3717,
         138.927,
         583.0,
         "http://en.wikipedia.org/wiki/Fuji_Speedway"
        ],
        [
         17,
         "shanghai",
         "Shanghai International Circuit",
         "Shanghai",
         "China",
         31.3389,
         121.22,
         5.0,
         "http://en.wikipedia.org/wiki/Shanghai_International_Circuit"
        ],
        [
         18,
         "interlagos",
         "Autódromo José Carlos Pace",
         "São Paulo",
         "Brazil",
         -23.7036,
         -46.6997,
         785.0,
         "http://en.wikipedia.org/wiki/Aut%C3%B3dromo_Jos%C3%A9_Carlos_Pace"
        ],
        [
         19,
         "indianapolis",
         "Indianapolis Motor Speedway",
         "Indianapolis",
         "USA",
         39.795,
         -86.2347,
         223.0,
         "http://en.wikipedia.org/wiki/Indianapolis_Motor_Speedway"
        ],
        [
         20,
         "nurburgring",
         "Nürburgring",
         "Nürburg",
         "Germany",
         50.3356,
         6.9475,
         578.0,
         "http://en.wikipedia.org/wiki/N%C3%BCrburgring"
        ],
        [
         21,
         "imola",
         "Autodromo Enzo e Dino Ferrari",
         "Imola",
         "Italy",
         44.3439,
         11.7167,
         37.0,
         "http://en.wikipedia.org/wiki/Autodromo_Enzo_e_Dino_Ferrari"
        ],
        [
         22,
         "suzuka",
         "Suzuka Circuit",
         "Suzuka",
         "Japan",
         34.8431,
         136.541,
         45.0,
         "http://en.wikipedia.org/wiki/Suzuka_Circuit"
        ],
        [
         23,
         "osterreichring",
         "A1-Ring",
         "Spielburg",
         "Austria",
         47.2197,
         14.7647,
         678.0,
         "http://en.wikipedia.org/wiki/A1-Ring"
        ],
        [
         24,
         "yas_marina",
         "Yas Marina Circuit",
         "Abu Dhabi",
         "UAE",
         24.4672,
         54.6031,
         3.0,
         "http://en.wikipedia.org/wiki/Yas_Marina_Circuit"
        ],
        [
         25,
         "galvez",
         "Autódromo Juan y Oscar Gálvez",
         "Buenos Aires",
         "Argentina",
         -34.6943,
         -58.4593,
         8.0,
         "http://en.wikipedia.org/wiki/Aut%C3%B3dromo_Oscar_Alfredo_G%C3%A1lvez"
        ],
        [
         26,
         "jerez",
         "Circuito de Jerez",
         "Jerez de la Frontera",
         "Spain",
         36.7083,
         -6.03417,
         37.0,
         "http://en.wikipedia.org/wiki/Circuito_Permanente_de_Jerez"
        ],
        [
         27,
         "estoril",
         "Autódromo do Estoril",
         "Estoril",
         "Portugal",
         38.7506,
         -9.39417,
         130.0,
         "http://en.wikipedia.org/wiki/Aut%C3%B3dromo_do_Estoril"
        ],
        [
         28,
         "okayama",
         "Okayama International Circuit",
         "Okayama",
         "Japan",
         34.915,
         134.221,
         266.0,
         "http://en.wikipedia.org/wiki/TI_Circuit"
        ],
        [
         29,
         "adelaide",
         "Adelaide Street Circuit",
         "Adelaide",
         "Australia",
         -34.9272,
         138.617,
         58.0,
         "http://en.wikipedia.org/wiki/Adelaide_Street_Circuit"
        ],
        [
         30,
         "kyalami",
         "Kyalami",
         "Midrand",
         "South Africa",
         -25.9894,
         28.0767,
         1460.0,
         "http://en.wikipedia.org/wiki/Kyalami"
        ],
        [
         31,
         "donington",
         "Donington Park",
         "Castle Donington",
         "UK",
         52.8306,
         -1.37528,
         88.0,
         "http://en.wikipedia.org/wiki/Donington_Park"
        ],
        [
         32,
         "rodriguez",
         "Autódromo Hermanos Rodríguez",
         "Mexico City",
         "Mexico",
         19.4042,
         -99.0907,
         2227.0,
         "http://en.wikipedia.org/wiki/Aut%C3%B3dromo_Hermanos_Rodr%C3%ADguez"
        ],
        [
         33,
         "phoenix",
         "Phoenix street circuit",
         "Phoenix",
         "USA",
         33.4479,
         -112.075,
         345.0,
         "http://en.wikipedia.org/wiki/Phoenix_street_circuit"
        ],
        [
         34,
         "ricard",
         "Circuit Paul Ricard",
         "Le Castellet",
         "France",
         43.2506,
         5.79167,
         432.0,
         "http://en.wikipedia.org/wiki/Paul_Ricard_Circuit"
        ],
        [
         35,
         "yeongam",
         "Korean International Circuit",
         "Yeongam County",
         "Korea",
         34.7333,
         126.417,
         0.0,
         "http://en.wikipedia.org/wiki/Korean_International_Circuit"
        ],
        [
         36,
         "jacarepagua",
         "Autódromo Internacional Nelson Piquet",
         "Rio de Janeiro",
         "Brazil",
         -22.9756,
         -43.395,
         1126.0,
         "http://en.wikipedia.org/wiki/Aut%C3%B3dromo_Internacional_Nelson_Piquet"
        ],
        [
         37,
         "detroit",
         "Detroit Street Circuit",
         "Detroit",
         "USA",
         42.3298,
         -83.0401,
         177.0,
         "http://en.wikipedia.org/wiki/Detroit_street_circuit"
        ],
        [
         38,
         "brands_hatch",
         "Brands Hatch",
         "Kent",
         "UK",
         51.3569,
         0.263056,
         145.0,
         "http://en.wikipedia.org/wiki/Brands_Hatch"
        ],
        [
         39,
         "zandvoort",
         "Circuit Park Zandvoort",
         "Zandvoort",
         "Netherlands",
         52.3888,
         4.54092,
         6.0,
         "http://en.wikipedia.org/wiki/Circuit_Zandvoort"
        ],
        [
         40,
         "zolder",
         "Zolder",
         "Heusden-Zolder",
         "Belgium",
         50.9894,
         5.25694,
         36.0,
         "http://en.wikipedia.org/wiki/Zolder"
        ],
        [
         41,
         "dijon",
         "Dijon-Prenois",
         "Dijon",
         "France",
         47.3625,
         4.89913,
         484.0,
         "http://en.wikipedia.org/wiki/Dijon-Prenois"
        ],
        [
         42,
         "dallas",
         "Fair Park",
         "Dallas",
         "USA",
         32.7774,
         -96.7587,
         139.0,
         "http://en.wikipedia.org/wiki/Fair_Park"
        ],
        [
         43,
         "long_beach",
         "Long Beach",
         "California",
         "USA",
         33.7651,
         -118.189,
         12.0,
         "http://en.wikipedia.org/wiki/Long_Beach,_California"
        ],
        [
         44,
         "las_vegas",
         "Las Vegas Street Circuit",
         "Nevada",
         "USA",
         36.1162,
         -115.174,
         639.0,
         "http://en.wikipedia.org/wiki/Las_Vegas,_Nevada"
        ],
        [
         45,
         "jarama",
         "Jarama",
         "Madrid",
         "Spain",
         40.6171,
         -3.58558,
         609.0,
         "http://en.wikipedia.org/wiki/Circuito_Permanente_Del_Jarama"
        ],
        [
         46,
         "watkins_glen",
         "Watkins Glen",
         "New York State",
         "USA",
         42.3369,
         -76.9272,
         485.0,
         "http://en.wikipedia.org/wiki/Watkins_Glen_International"
        ],
        [
         47,
         "anderstorp",
         "Scandinavian Raceway",
         "Anderstorp",
         "Sweden",
         57.2653,
         13.6042,
         153.0,
         "http://en.wikipedia.org/wiki/Scandinavian_Raceway"
        ],
        [
         48,
         "mosport",
         "Mosport International Raceway",
         "Ontario",
         "Canada",
         44.0481,
         -78.6756,
         332.0,
         "http://en.wikipedia.org/wiki/Mosport"
        ],
        [
         49,
         "montjuic",
         "Montjuïc",
         "Barcelona",
         "Spain",
         41.3664,
         2.15167,
         79.0,
         "http://en.wikipedia.org/wiki/Montju%C3%AFc_circuit"
        ],
        [
         50,
         "nivelles",
         "Nivelles-Baulers",
         "Brussels",
         "Belgium",
         50.6211,
         4.32694,
         139.0,
         "http://en.wikipedia.org/wiki/Nivelles-Baulers"
        ],
        [
         51,
         "charade",
         "Charade Circuit",
         "Clermont-Ferrand",
         "France",
         45.7472,
         3.03889,
         790.0,
         "http://en.wikipedia.org/wiki/Charade_Circuit"
        ],
        [
         52,
         "tremblant",
         "Circuit Mont-Tremblant",
         "Quebec",
         "Canada",
         46.1877,
         -74.6099,
         214.0,
         "http://en.wikipedia.org/wiki/Circuit_Mont-Tremblant"
        ],
        [
         53,
         "essarts",
         "Rouen-Les-Essarts",
         "Rouen",
         "France",
         49.3306,
         1.00458,
         81.0,
         "http://en.wikipedia.org/wiki/Rouen-Les-Essarts"
        ],
        [
         54,
         "lemans",
         "Le Mans",
         "Le Mans",
         "France",
         47.95,
         0.224231,
         67.0,
         "http://en.wikipedia.org/wiki/Circuit_de_la_Sarthe#Bugatti_Circuit"
        ],
        [
         55,
         "reims",
         "Reims-Gueux",
         "Reims",
         "France",
         49.2542,
         3.93083,
         88.0,
         "http://en.wikipedia.org/wiki/Reims-Gueux"
        ],
        [
         56,
         "george",
         "Prince George Circuit",
         "Eastern Cape Province",
         "South Africa",
         -33.0486,
         27.8736,
         15.0,
         "http://en.wikipedia.org/wiki/Prince_George_Circuit"
        ],
        [
         57,
         "zeltweg",
         "Zeltweg",
         "Styria",
         "Austria",
         47.2039,
         14.7478,
         676.0,
         "http://en.wikipedia.org/wiki/Zeltweg_Airfield"
        ],
        [
         58,
         "aintree",
         "Aintree",
         "Liverpool",
         "UK",
         53.4769,
         -2.94056,
         20.0,
         "http://en.wikipedia.org/wiki/Aintree_Motor_Racing_Circuit"
        ],
        [
         59,
         "boavista",
         "Circuito da Boavista",
         "Oporto",
         "Portugal",
         41.1705,
         -8.67325,
         28.0,
         "http://en.wikipedia.org/wiki/Circuito_da_Boavista"
        ],
        [
         60,
         "riverside",
         "Riverside International Raceway",
         "California",
         "USA",
         33.937,
         -117.273,
         470.0,
         "http://en.wikipedia.org/wiki/Riverside_International_Raceway"
        ],
        [
         61,
         "avus",
         "AVUS",
         "Berlin",
         "Germany",
         52.4806,
         13.2514,
         53.0,
         "http://en.wikipedia.org/wiki/AVUS"
        ],
        [
         62,
         "monsanto",
         "Monsanto Park Circuit",
         "Lisbon",
         "Portugal",
         38.7197,
         -9.20306,
         158.0,
         "http://en.wikipedia.org/wiki/Monsanto_Park_Circuit"
        ],
        [
         63,
         "sebring",
         "Sebring International Raceway",
         "Florida",
         "USA",
         27.4547,
         -81.3483,
         18.0,
         "http://en.wikipedia.org/wiki/Sebring_Raceway"
        ],
        [
         64,
         "ain-diab",
         "Ain Diab",
         "Casablanca",
         "Morocco",
         33.5786,
         -7.6875,
         19.0,
         "http://en.wikipedia.org/wiki/Ain-Diab_Circuit"
        ],
        [
         65,
         "pescara",
         "Pescara Circuit",
         "Pescara",
         "Italy",
         42.475,
         14.1508,
         129.0,
         "http://en.wikipedia.org/wiki/Pescara_Circuit"
        ],
        [
         66,
         "bremgarten",
         "Circuit Bremgarten",
         "Bern",
         "Switzerland",
         46.9589,
         7.40194,
         551.0,
         "http://en.wikipedia.org/wiki/Circuit_Bremgarten"
        ],
        [
         67,
         "pedralbes",
         "Circuit de Pedralbes",
         "Barcelona",
         "Spain",
         41.3903,
         2.11667,
         85.0,
         "http://en.wikipedia.org/wiki/Pedralbes_Circuit"
        ],
        [
         68,
         "buddh",
         "Buddh International Circuit",
         "Uttar Pradesh",
         "India",
         28.3487,
         77.5331,
         194.0,
         "http://en.wikipedia.org/wiki/Buddh_International_Circuit"
        ],
        [
         69,
         "americas",
         "Circuit of the Americas",
         "Austin",
         "USA",
         30.1328,
         -97.6411,
         161.0,
         "http://en.wikipedia.org/wiki/Circuit_of_the_Americas"
        ],
        [
         70,
         "red_bull_ring",
         "Red Bull Ring",
         "Spielburg",
         "Austria",
         47.2197,
         14.7647,
         678.0,
         "http://en.wikipedia.org/wiki/Red_Bull_Ring"
        ],
        [
         71,
         "sochi",
         "Sochi Autodrom",
         "Sochi",
         "Russia",
         43.4057,
         39.9578,
         2.0,
         "http://en.wikipedia.org/wiki/Sochi_Autodrom"
        ],
        [
         72,
         "port_imperial",
         "Port Imperial Street Circuit",
         "New Jersey",
         "USA",
         40.7769,
         -74.0111,
         4.0,
         "http://en.wikipedia.org/wiki/Port_Imperial_Street_Circuit"
        ],
        [
         73,
         "BAK",
         "Baku City Circuit",
         "Baku",
         "Azerbaijan",
         40.3725,
         49.8533,
         -7.0,
         "http://en.wikipedia.org/wiki/Baku_City_Circuit"
        ],
        [
         74,
         "hanoi",
         "Hanoi Street Circuit",
         "Hanoi",
         "Vietnam",
         21.0166,
         105.766,
         9.0,
         "http://en.wikipedia.org/wiki/Hanoi_Street_Circuit"
        ],
        [
         75,
         "portimao",
         "Autódromo Internacional do Algarve",
         "Portimão",
         "Portugal",
         37.227,
         -8.6267,
         108.0,
         "http://en.wikipedia.org/wiki/Algarve_International_Circuit"
        ],
        [
         76,
         "mugello",
         "Autodromo Internazionale del Mugello",
         "Mugello",
         "Italy",
         43.9975,
         11.3719,
         255.0,
         "http://en.wikipedia.org/wiki/Mugello_Circuit"
        ],
        [
         77,
         "jeddah",
         "Jeddah Street Circuit",
         "Jeddah",
         "Saudi Arabia",
         21.5433,
         39.1728,
         15.0,
         "http://en.wikipedia.org/wiki/Jeddah_Street_Circuit"
        ]
       ],
       "datasetInfos": [],
       "dbfsResultPath": null,
       "isJsonSchema": true,
       "metadata": {},
       "overflow": false,
       "plotOptions": {
        "customPlotOptions": {},
        "displayType": "table",
        "pivotAggregation": null,
        "pivotColumns": null,
        "xColumns": null,
        "yColumns": null
       },
       "removedWidgets": [],
       "schema": [
        {
         "metadata": "{}",
         "name": "circuitId",
         "type": "\"integer\""
        },
        {
         "metadata": "{}",
         "name": "circuitRef",
         "type": "\"string\""
        },
        {
         "metadata": "{}",
         "name": "name",
         "type": "\"string\""
        },
        {
         "metadata": "{}",
         "name": "location",
         "type": "\"string\""
        },
        {
         "metadata": "{}",
         "name": "country",
         "type": "\"string\""
        },
        {
         "metadata": "{}",
         "name": "lat",
         "type": "\"double\""
        },
        {
         "metadata": "{}",
         "name": "lng",
         "type": "\"double\""
        },
        {
         "metadata": "{}",
         "name": "alt",
         "type": "\"double\""
        },
        {
         "metadata": "{}",
         "name": "url",
         "type": "\"string\""
        }
       ],
       "type": "table"
      }
     },
     "output_type": "display_data"
    }
   ],
   "source": [
    "display(circuits_df)"
   ]
  },
  {
   "cell_type": "code",
   "execution_count": 0,
   "metadata": {
    "application/vnd.databricks.v1+cell": {
     "cellMetadata": {
      "byteLimit": 2048000,
      "rowLimit": 10000
     },
     "inputWidgets": {},
     "nuid": "fefe9c6a-fcea-4b6f-a92b-d53f348e9cbc",
     "showTitle": false,
     "title": ""
    }
   },
   "outputs": [
    {
     "output_type": "stream",
     "name": "stdout",
     "output_type": "stream",
     "text": [
      "root\n |-- circuitId: integer (nullable = true)\n |-- circuitRef: string (nullable = true)\n |-- name: string (nullable = true)\n |-- location: string (nullable = true)\n |-- country: string (nullable = true)\n |-- lat: double (nullable = true)\n |-- lng: double (nullable = true)\n |-- alt: double (nullable = true)\n |-- url: string (nullable = true)\n\n"
     ]
    }
   ],
   "source": [
    "circuits_df.printSchema()"
   ]
  },
  {
   "cell_type": "code",
   "execution_count": 0,
   "metadata": {
    "application/vnd.databricks.v1+cell": {
     "cellMetadata": {
      "byteLimit": 2048000,
      "rowLimit": 10000
     },
     "inputWidgets": {},
     "nuid": "e77e4d5e-2afe-4d46-8c6d-fe4df7793a4f",
     "showTitle": false,
     "title": ""
    }
   },
   "outputs": [
    {
     "output_type": "stream",
     "name": "stdout",
     "output_type": "stream",
     "text": [
      "+-------+------------------+----------+-------+---------+---------+------------------+-----------------+-----------------+--------------------+\n|summary|         circuitId|circuitRef|   name| location|  country|               lat|              lng|              alt|                 url|\n+-------+------------------+----------+-------+---------+---------+------------------+-----------------+-----------------+--------------------+\n|  count|                77|        77|     77|       77|       77|                77|               77|               77|                  77|\n|   mean|              39.0|      NULL|   NULL|     NULL|     NULL| 33.72035103896102|3.551302597402597|247.4935064935065|                NULL|\n| stddev|22.371857321197094|      NULL|   NULL|     NULL|     NULL|22.885969000074535| 64.8766790440326|363.2672505910991|                NULL|\n|    min|                 1|       BAK|A1-Ring|Abu Dhabi|Argentina|          -37.8497|         -118.189|             -7.0|http://en.wikiped...|\n|    max|                77|    zolder| Zolder|Zandvoort|  Vietnam|           57.2653|          144.968|           2227.0|http://en.wikiped...|\n+-------+------------------+----------+-------+---------+---------+------------------+-----------------+-----------------+--------------------+\n\n"
     ]
    }
   ],
   "source": [
    "circuits_df.describe().show()"
   ]
  },
  {
   "cell_type": "markdown",
   "metadata": {
    "application/vnd.databricks.v1+cell": {
     "cellMetadata": {},
     "inputWidgets": {},
     "nuid": "74096884-9a6c-4efa-8f68-9eb0c9a06556",
     "showTitle": false,
     "title": ""
    }
   },
   "source": [
    "#### Select only Required Columns"
   ]
  },
  {
   "cell_type": "code",
   "execution_count": 0,
   "metadata": {
    "application/vnd.databricks.v1+cell": {
     "cellMetadata": {
      "byteLimit": 2048000,
      "rowLimit": 10000
     },
     "inputWidgets": {},
     "nuid": "7fc2aea3-0569-4f99-819d-fa29bd884b44",
     "showTitle": false,
     "title": ""
    }
   },
   "outputs": [],
   "source": [
    "circuits_selected_df = circuits_df.select(\"circuitId\",\"circuitRef\",\"name\",\"location\",\"country\",\"lat\",\"lng\",\"alt\")"
   ]
  },
  {
   "cell_type": "code",
   "execution_count": 0,
   "metadata": {
    "application/vnd.databricks.v1+cell": {
     "cellMetadata": {
      "byteLimit": 2048000,
      "rowLimit": 10000
     },
     "inputWidgets": {},
     "nuid": "8b4c073c-3b41-49f2-976e-464952c37a96",
     "showTitle": false,
     "title": ""
    }
   },
   "outputs": [
    {
     "output_type": "display_data",
     "data": {
      "text/html": [
       "<style scoped>\n",
       "  .table-result-container {\n",
       "    max-height: 300px;\n",
       "    overflow: auto;\n",
       "  }\n",
       "  table, th, td {\n",
       "    border: 1px solid black;\n",
       "    border-collapse: collapse;\n",
       "  }\n",
       "  th, td {\n",
       "    padding: 5px;\n",
       "  }\n",
       "  th {\n",
       "    text-align: left;\n",
       "  }\n",
       "</style><div class='table-result-container'><table class='table-result'><thead style='background-color: white'><tr><th>circuitId</th><th>circuitRef</th><th>name</th><th>location</th><th>country</th><th>lat</th><th>lng</th><th>alt</th></tr></thead><tbody><tr><td>1</td><td>albert_park</td><td>Albert Park Grand Prix Circuit</td><td>Melbourne</td><td>Australia</td><td>-37.8497</td><td>144.968</td><td>10.0</td></tr><tr><td>2</td><td>sepang</td><td>Sepang International Circuit</td><td>Kuala Lumpur</td><td>Malaysia</td><td>2.76083</td><td>101.738</td><td>18.0</td></tr><tr><td>3</td><td>bahrain</td><td>Bahrain International Circuit</td><td>Sakhir</td><td>Bahrain</td><td>26.0325</td><td>50.5106</td><td>7.0</td></tr><tr><td>4</td><td>catalunya</td><td>Circuit de Barcelona-Catalunya</td><td>Montmeló</td><td>Spain</td><td>41.57</td><td>2.26111</td><td>109.0</td></tr><tr><td>5</td><td>istanbul</td><td>Istanbul Park</td><td>Istanbul</td><td>Turkey</td><td>40.9517</td><td>29.405</td><td>130.0</td></tr><tr><td>6</td><td>monaco</td><td>Circuit de Monaco</td><td>Monte-Carlo</td><td>Monaco</td><td>43.7347</td><td>7.42056</td><td>7.0</td></tr><tr><td>7</td><td>villeneuve</td><td>Circuit Gilles Villeneuve</td><td>Montreal</td><td>Canada</td><td>45.5</td><td>-73.5228</td><td>13.0</td></tr><tr><td>8</td><td>magny_cours</td><td>Circuit de Nevers Magny-Cours</td><td>Magny Cours</td><td>France</td><td>46.8642</td><td>3.16361</td><td>228.0</td></tr><tr><td>9</td><td>silverstone</td><td>Silverstone Circuit</td><td>Silverstone</td><td>UK</td><td>52.0786</td><td>-1.01694</td><td>153.0</td></tr><tr><td>10</td><td>hockenheimring</td><td>Hockenheimring</td><td>Hockenheim</td><td>Germany</td><td>49.3278</td><td>8.56583</td><td>103.0</td></tr><tr><td>11</td><td>hungaroring</td><td>Hungaroring</td><td>Budapest</td><td>Hungary</td><td>47.5789</td><td>19.2486</td><td>264.0</td></tr><tr><td>12</td><td>valencia</td><td>Valencia Street Circuit</td><td>Valencia</td><td>Spain</td><td>39.4589</td><td>-0.331667</td><td>4.0</td></tr><tr><td>13</td><td>spa</td><td>Circuit de Spa-Francorchamps</td><td>Spa</td><td>Belgium</td><td>50.4372</td><td>5.97139</td><td>401.0</td></tr><tr><td>14</td><td>monza</td><td>Autodromo Nazionale di Monza</td><td>Monza</td><td>Italy</td><td>45.6156</td><td>9.28111</td><td>162.0</td></tr><tr><td>15</td><td>marina_bay</td><td>Marina Bay Street Circuit</td><td>Marina Bay</td><td>Singapore</td><td>1.2914</td><td>103.864</td><td>18.0</td></tr><tr><td>16</td><td>fuji</td><td>Fuji Speedway</td><td>Oyama</td><td>Japan</td><td>35.3717</td><td>138.927</td><td>583.0</td></tr><tr><td>17</td><td>shanghai</td><td>Shanghai International Circuit</td><td>Shanghai</td><td>China</td><td>31.3389</td><td>121.22</td><td>5.0</td></tr><tr><td>18</td><td>interlagos</td><td>Autódromo José Carlos Pace</td><td>São Paulo</td><td>Brazil</td><td>-23.7036</td><td>-46.6997</td><td>785.0</td></tr><tr><td>19</td><td>indianapolis</td><td>Indianapolis Motor Speedway</td><td>Indianapolis</td><td>USA</td><td>39.795</td><td>-86.2347</td><td>223.0</td></tr><tr><td>20</td><td>nurburgring</td><td>Nürburgring</td><td>Nürburg</td><td>Germany</td><td>50.3356</td><td>6.9475</td><td>578.0</td></tr><tr><td>21</td><td>imola</td><td>Autodromo Enzo e Dino Ferrari</td><td>Imola</td><td>Italy</td><td>44.3439</td><td>11.7167</td><td>37.0</td></tr><tr><td>22</td><td>suzuka</td><td>Suzuka Circuit</td><td>Suzuka</td><td>Japan</td><td>34.8431</td><td>136.541</td><td>45.0</td></tr><tr><td>23</td><td>osterreichring</td><td>A1-Ring</td><td>Spielburg</td><td>Austria</td><td>47.2197</td><td>14.7647</td><td>678.0</td></tr><tr><td>24</td><td>yas_marina</td><td>Yas Marina Circuit</td><td>Abu Dhabi</td><td>UAE</td><td>24.4672</td><td>54.6031</td><td>3.0</td></tr><tr><td>25</td><td>galvez</td><td>Autódromo Juan y Oscar Gálvez</td><td>Buenos Aires</td><td>Argentina</td><td>-34.6943</td><td>-58.4593</td><td>8.0</td></tr><tr><td>26</td><td>jerez</td><td>Circuito de Jerez</td><td>Jerez de la Frontera</td><td>Spain</td><td>36.7083</td><td>-6.03417</td><td>37.0</td></tr><tr><td>27</td><td>estoril</td><td>Autódromo do Estoril</td><td>Estoril</td><td>Portugal</td><td>38.7506</td><td>-9.39417</td><td>130.0</td></tr><tr><td>28</td><td>okayama</td><td>Okayama International Circuit</td><td>Okayama</td><td>Japan</td><td>34.915</td><td>134.221</td><td>266.0</td></tr><tr><td>29</td><td>adelaide</td><td>Adelaide Street Circuit</td><td>Adelaide</td><td>Australia</td><td>-34.9272</td><td>138.617</td><td>58.0</td></tr><tr><td>30</td><td>kyalami</td><td>Kyalami</td><td>Midrand</td><td>South Africa</td><td>-25.9894</td><td>28.0767</td><td>1460.0</td></tr><tr><td>31</td><td>donington</td><td>Donington Park</td><td>Castle Donington</td><td>UK</td><td>52.8306</td><td>-1.37528</td><td>88.0</td></tr><tr><td>32</td><td>rodriguez</td><td>Autódromo Hermanos Rodríguez</td><td>Mexico City</td><td>Mexico</td><td>19.4042</td><td>-99.0907</td><td>2227.0</td></tr><tr><td>33</td><td>phoenix</td><td>Phoenix street circuit</td><td>Phoenix</td><td>USA</td><td>33.4479</td><td>-112.075</td><td>345.0</td></tr><tr><td>34</td><td>ricard</td><td>Circuit Paul Ricard</td><td>Le Castellet</td><td>France</td><td>43.2506</td><td>5.79167</td><td>432.0</td></tr><tr><td>35</td><td>yeongam</td><td>Korean International Circuit</td><td>Yeongam County</td><td>Korea</td><td>34.7333</td><td>126.417</td><td>0.0</td></tr><tr><td>36</td><td>jacarepagua</td><td>Autódromo Internacional Nelson Piquet</td><td>Rio de Janeiro</td><td>Brazil</td><td>-22.9756</td><td>-43.395</td><td>1126.0</td></tr><tr><td>37</td><td>detroit</td><td>Detroit Street Circuit</td><td>Detroit</td><td>USA</td><td>42.3298</td><td>-83.0401</td><td>177.0</td></tr><tr><td>38</td><td>brands_hatch</td><td>Brands Hatch</td><td>Kent</td><td>UK</td><td>51.3569</td><td>0.263056</td><td>145.0</td></tr><tr><td>39</td><td>zandvoort</td><td>Circuit Park Zandvoort</td><td>Zandvoort</td><td>Netherlands</td><td>52.3888</td><td>4.54092</td><td>6.0</td></tr><tr><td>40</td><td>zolder</td><td>Zolder</td><td>Heusden-Zolder</td><td>Belgium</td><td>50.9894</td><td>5.25694</td><td>36.0</td></tr><tr><td>41</td><td>dijon</td><td>Dijon-Prenois</td><td>Dijon</td><td>France</td><td>47.3625</td><td>4.89913</td><td>484.0</td></tr><tr><td>42</td><td>dallas</td><td>Fair Park</td><td>Dallas</td><td>USA</td><td>32.7774</td><td>-96.7587</td><td>139.0</td></tr><tr><td>43</td><td>long_beach</td><td>Long Beach</td><td>California</td><td>USA</td><td>33.7651</td><td>-118.189</td><td>12.0</td></tr><tr><td>44</td><td>las_vegas</td><td>Las Vegas Street Circuit</td><td>Nevada</td><td>USA</td><td>36.1162</td><td>-115.174</td><td>639.0</td></tr><tr><td>45</td><td>jarama</td><td>Jarama</td><td>Madrid</td><td>Spain</td><td>40.6171</td><td>-3.58558</td><td>609.0</td></tr><tr><td>46</td><td>watkins_glen</td><td>Watkins Glen</td><td>New York State</td><td>USA</td><td>42.3369</td><td>-76.9272</td><td>485.0</td></tr><tr><td>47</td><td>anderstorp</td><td>Scandinavian Raceway</td><td>Anderstorp</td><td>Sweden</td><td>57.2653</td><td>13.6042</td><td>153.0</td></tr><tr><td>48</td><td>mosport</td><td>Mosport International Raceway</td><td>Ontario</td><td>Canada</td><td>44.0481</td><td>-78.6756</td><td>332.0</td></tr><tr><td>49</td><td>montjuic</td><td>Montjuïc</td><td>Barcelona</td><td>Spain</td><td>41.3664</td><td>2.15167</td><td>79.0</td></tr><tr><td>50</td><td>nivelles</td><td>Nivelles-Baulers</td><td>Brussels</td><td>Belgium</td><td>50.6211</td><td>4.32694</td><td>139.0</td></tr><tr><td>51</td><td>charade</td><td>Charade Circuit</td><td>Clermont-Ferrand</td><td>France</td><td>45.7472</td><td>3.03889</td><td>790.0</td></tr><tr><td>52</td><td>tremblant</td><td>Circuit Mont-Tremblant</td><td>Quebec</td><td>Canada</td><td>46.1877</td><td>-74.6099</td><td>214.0</td></tr><tr><td>53</td><td>essarts</td><td>Rouen-Les-Essarts</td><td>Rouen</td><td>France</td><td>49.3306</td><td>1.00458</td><td>81.0</td></tr><tr><td>54</td><td>lemans</td><td>Le Mans</td><td>Le Mans</td><td>France</td><td>47.95</td><td>0.224231</td><td>67.0</td></tr><tr><td>55</td><td>reims</td><td>Reims-Gueux</td><td>Reims</td><td>France</td><td>49.2542</td><td>3.93083</td><td>88.0</td></tr><tr><td>56</td><td>george</td><td>Prince George Circuit</td><td>Eastern Cape Province</td><td>South Africa</td><td>-33.0486</td><td>27.8736</td><td>15.0</td></tr><tr><td>57</td><td>zeltweg</td><td>Zeltweg</td><td>Styria</td><td>Austria</td><td>47.2039</td><td>14.7478</td><td>676.0</td></tr><tr><td>58</td><td>aintree</td><td>Aintree</td><td>Liverpool</td><td>UK</td><td>53.4769</td><td>-2.94056</td><td>20.0</td></tr><tr><td>59</td><td>boavista</td><td>Circuito da Boavista</td><td>Oporto</td><td>Portugal</td><td>41.1705</td><td>-8.67325</td><td>28.0</td></tr><tr><td>60</td><td>riverside</td><td>Riverside International Raceway</td><td>California</td><td>USA</td><td>33.937</td><td>-117.273</td><td>470.0</td></tr><tr><td>61</td><td>avus</td><td>AVUS</td><td>Berlin</td><td>Germany</td><td>52.4806</td><td>13.2514</td><td>53.0</td></tr><tr><td>62</td><td>monsanto</td><td>Monsanto Park Circuit</td><td>Lisbon</td><td>Portugal</td><td>38.7197</td><td>-9.20306</td><td>158.0</td></tr><tr><td>63</td><td>sebring</td><td>Sebring International Raceway</td><td>Florida</td><td>USA</td><td>27.4547</td><td>-81.3483</td><td>18.0</td></tr><tr><td>64</td><td>ain-diab</td><td>Ain Diab</td><td>Casablanca</td><td>Morocco</td><td>33.5786</td><td>-7.6875</td><td>19.0</td></tr><tr><td>65</td><td>pescara</td><td>Pescara Circuit</td><td>Pescara</td><td>Italy</td><td>42.475</td><td>14.1508</td><td>129.0</td></tr><tr><td>66</td><td>bremgarten</td><td>Circuit Bremgarten</td><td>Bern</td><td>Switzerland</td><td>46.9589</td><td>7.40194</td><td>551.0</td></tr><tr><td>67</td><td>pedralbes</td><td>Circuit de Pedralbes</td><td>Barcelona</td><td>Spain</td><td>41.3903</td><td>2.11667</td><td>85.0</td></tr><tr><td>68</td><td>buddh</td><td>Buddh International Circuit</td><td>Uttar Pradesh</td><td>India</td><td>28.3487</td><td>77.5331</td><td>194.0</td></tr><tr><td>69</td><td>americas</td><td>Circuit of the Americas</td><td>Austin</td><td>USA</td><td>30.1328</td><td>-97.6411</td><td>161.0</td></tr><tr><td>70</td><td>red_bull_ring</td><td>Red Bull Ring</td><td>Spielburg</td><td>Austria</td><td>47.2197</td><td>14.7647</td><td>678.0</td></tr><tr><td>71</td><td>sochi</td><td>Sochi Autodrom</td><td>Sochi</td><td>Russia</td><td>43.4057</td><td>39.9578</td><td>2.0</td></tr><tr><td>72</td><td>port_imperial</td><td>Port Imperial Street Circuit</td><td>New Jersey</td><td>USA</td><td>40.7769</td><td>-74.0111</td><td>4.0</td></tr><tr><td>73</td><td>BAK</td><td>Baku City Circuit</td><td>Baku</td><td>Azerbaijan</td><td>40.3725</td><td>49.8533</td><td>-7.0</td></tr><tr><td>74</td><td>hanoi</td><td>Hanoi Street Circuit</td><td>Hanoi</td><td>Vietnam</td><td>21.0166</td><td>105.766</td><td>9.0</td></tr><tr><td>75</td><td>portimao</td><td>Autódromo Internacional do Algarve</td><td>Portimão</td><td>Portugal</td><td>37.227</td><td>-8.6267</td><td>108.0</td></tr><tr><td>76</td><td>mugello</td><td>Autodromo Internazionale del Mugello</td><td>Mugello</td><td>Italy</td><td>43.9975</td><td>11.3719</td><td>255.0</td></tr><tr><td>77</td><td>jeddah</td><td>Jeddah Street Circuit</td><td>Jeddah</td><td>Saudi Arabia</td><td>21.5433</td><td>39.1728</td><td>15.0</td></tr></tbody></table></div>"
      ]
     },
     "metadata": {
      "application/vnd.databricks.v1+output": {
       "addedWidgets": {},
       "aggData": [],
       "aggError": "",
       "aggOverflow": false,
       "aggSchema": [],
       "aggSeriesLimitReached": false,
       "aggType": "",
       "arguments": {},
       "columnCustomDisplayInfos": {},
       "data": [
        [
         1,
         "albert_park",
         "Albert Park Grand Prix Circuit",
         "Melbourne",
         "Australia",
         -37.8497,
         144.968,
         10.0
        ],
        [
         2,
         "sepang",
         "Sepang International Circuit",
         "Kuala Lumpur",
         "Malaysia",
         2.76083,
         101.738,
         18.0
        ],
        [
         3,
         "bahrain",
         "Bahrain International Circuit",
         "Sakhir",
         "Bahrain",
         26.0325,
         50.5106,
         7.0
        ],
        [
         4,
         "catalunya",
         "Circuit de Barcelona-Catalunya",
         "Montmeló",
         "Spain",
         41.57,
         2.26111,
         109.0
        ],
        [
         5,
         "istanbul",
         "Istanbul Park",
         "Istanbul",
         "Turkey",
         40.9517,
         29.405,
         130.0
        ],
        [
         6,
         "monaco",
         "Circuit de Monaco",
         "Monte-Carlo",
         "Monaco",
         43.7347,
         7.42056,
         7.0
        ],
        [
         7,
         "villeneuve",
         "Circuit Gilles Villeneuve",
         "Montreal",
         "Canada",
         45.5,
         -73.5228,
         13.0
        ],
        [
         8,
         "magny_cours",
         "Circuit de Nevers Magny-Cours",
         "Magny Cours",
         "France",
         46.8642,
         3.16361,
         228.0
        ],
        [
         9,
         "silverstone",
         "Silverstone Circuit",
         "Silverstone",
         "UK",
         52.0786,
         -1.01694,
         153.0
        ],
        [
         10,
         "hockenheimring",
         "Hockenheimring",
         "Hockenheim",
         "Germany",
         49.3278,
         8.56583,
         103.0
        ],
        [
         11,
         "hungaroring",
         "Hungaroring",
         "Budapest",
         "Hungary",
         47.5789,
         19.2486,
         264.0
        ],
        [
         12,
         "valencia",
         "Valencia Street Circuit",
         "Valencia",
         "Spain",
         39.4589,
         -0.331667,
         4.0
        ],
        [
         13,
         "spa",
         "Circuit de Spa-Francorchamps",
         "Spa",
         "Belgium",
         50.4372,
         5.97139,
         401.0
        ],
        [
         14,
         "monza",
         "Autodromo Nazionale di Monza",
         "Monza",
         "Italy",
         45.6156,
         9.28111,
         162.0
        ],
        [
         15,
         "marina_bay",
         "Marina Bay Street Circuit",
         "Marina Bay",
         "Singapore",
         1.2914,
         103.864,
         18.0
        ],
        [
         16,
         "fuji",
         "Fuji Speedway",
         "Oyama",
         "Japan",
         35.3717,
         138.927,
         583.0
        ],
        [
         17,
         "shanghai",
         "Shanghai International Circuit",
         "Shanghai",
         "China",
         31.3389,
         121.22,
         5.0
        ],
        [
         18,
         "interlagos",
         "Autódromo José Carlos Pace",
         "São Paulo",
         "Brazil",
         -23.7036,
         -46.6997,
         785.0
        ],
        [
         19,
         "indianapolis",
         "Indianapolis Motor Speedway",
         "Indianapolis",
         "USA",
         39.795,
         -86.2347,
         223.0
        ],
        [
         20,
         "nurburgring",
         "Nürburgring",
         "Nürburg",
         "Germany",
         50.3356,
         6.9475,
         578.0
        ],
        [
         21,
         "imola",
         "Autodromo Enzo e Dino Ferrari",
         "Imola",
         "Italy",
         44.3439,
         11.7167,
         37.0
        ],
        [
         22,
         "suzuka",
         "Suzuka Circuit",
         "Suzuka",
         "Japan",
         34.8431,
         136.541,
         45.0
        ],
        [
         23,
         "osterreichring",
         "A1-Ring",
         "Spielburg",
         "Austria",
         47.2197,
         14.7647,
         678.0
        ],
        [
         24,
         "yas_marina",
         "Yas Marina Circuit",
         "Abu Dhabi",
         "UAE",
         24.4672,
         54.6031,
         3.0
        ],
        [
         25,
         "galvez",
         "Autódromo Juan y Oscar Gálvez",
         "Buenos Aires",
         "Argentina",
         -34.6943,
         -58.4593,
         8.0
        ],
        [
         26,
         "jerez",
         "Circuito de Jerez",
         "Jerez de la Frontera",
         "Spain",
         36.7083,
         -6.03417,
         37.0
        ],
        [
         27,
         "estoril",
         "Autódromo do Estoril",
         "Estoril",
         "Portugal",
         38.7506,
         -9.39417,
         130.0
        ],
        [
         28,
         "okayama",
         "Okayama International Circuit",
         "Okayama",
         "Japan",
         34.915,
         134.221,
         266.0
        ],
        [
         29,
         "adelaide",
         "Adelaide Street Circuit",
         "Adelaide",
         "Australia",
         -34.9272,
         138.617,
         58.0
        ],
        [
         30,
         "kyalami",
         "Kyalami",
         "Midrand",
         "South Africa",
         -25.9894,
         28.0767,
         1460.0
        ],
        [
         31,
         "donington",
         "Donington Park",
         "Castle Donington",
         "UK",
         52.8306,
         -1.37528,
         88.0
        ],
        [
         32,
         "rodriguez",
         "Autódromo Hermanos Rodríguez",
         "Mexico City",
         "Mexico",
         19.4042,
         -99.0907,
         2227.0
        ],
        [
         33,
         "phoenix",
         "Phoenix street circuit",
         "Phoenix",
         "USA",
         33.4479,
         -112.075,
         345.0
        ],
        [
         34,
         "ricard",
         "Circuit Paul Ricard",
         "Le Castellet",
         "France",
         43.2506,
         5.79167,
         432.0
        ],
        [
         35,
         "yeongam",
         "Korean International Circuit",
         "Yeongam County",
         "Korea",
         34.7333,
         126.417,
         0.0
        ],
        [
         36,
         "jacarepagua",
         "Autódromo Internacional Nelson Piquet",
         "Rio de Janeiro",
         "Brazil",
         -22.9756,
         -43.395,
         1126.0
        ],
        [
         37,
         "detroit",
         "Detroit Street Circuit",
         "Detroit",
         "USA",
         42.3298,
         -83.0401,
         177.0
        ],
        [
         38,
         "brands_hatch",
         "Brands Hatch",
         "Kent",
         "UK",
         51.3569,
         0.263056,
         145.0
        ],
        [
         39,
         "zandvoort",
         "Circuit Park Zandvoort",
         "Zandvoort",
         "Netherlands",
         52.3888,
         4.54092,
         6.0
        ],
        [
         40,
         "zolder",
         "Zolder",
         "Heusden-Zolder",
         "Belgium",
         50.9894,
         5.25694,
         36.0
        ],
        [
         41,
         "dijon",
         "Dijon-Prenois",
         "Dijon",
         "France",
         47.3625,
         4.89913,
         484.0
        ],
        [
         42,
         "dallas",
         "Fair Park",
         "Dallas",
         "USA",
         32.7774,
         -96.7587,
         139.0
        ],
        [
         43,
         "long_beach",
         "Long Beach",
         "California",
         "USA",
         33.7651,
         -118.189,
         12.0
        ],
        [
         44,
         "las_vegas",
         "Las Vegas Street Circuit",
         "Nevada",
         "USA",
         36.1162,
         -115.174,
         639.0
        ],
        [
         45,
         "jarama",
         "Jarama",
         "Madrid",
         "Spain",
         40.6171,
         -3.58558,
         609.0
        ],
        [
         46,
         "watkins_glen",
         "Watkins Glen",
         "New York State",
         "USA",
         42.3369,
         -76.9272,
         485.0
        ],
        [
         47,
         "anderstorp",
         "Scandinavian Raceway",
         "Anderstorp",
         "Sweden",
         57.2653,
         13.6042,
         153.0
        ],
        [
         48,
         "mosport",
         "Mosport International Raceway",
         "Ontario",
         "Canada",
         44.0481,
         -78.6756,
         332.0
        ],
        [
         49,
         "montjuic",
         "Montjuïc",
         "Barcelona",
         "Spain",
         41.3664,
         2.15167,
         79.0
        ],
        [
         50,
         "nivelles",
         "Nivelles-Baulers",
         "Brussels",
         "Belgium",
         50.6211,
         4.32694,
         139.0
        ],
        [
         51,
         "charade",
         "Charade Circuit",
         "Clermont-Ferrand",
         "France",
         45.7472,
         3.03889,
         790.0
        ],
        [
         52,
         "tremblant",
         "Circuit Mont-Tremblant",
         "Quebec",
         "Canada",
         46.1877,
         -74.6099,
         214.0
        ],
        [
         53,
         "essarts",
         "Rouen-Les-Essarts",
         "Rouen",
         "France",
         49.3306,
         1.00458,
         81.0
        ],
        [
         54,
         "lemans",
         "Le Mans",
         "Le Mans",
         "France",
         47.95,
         0.224231,
         67.0
        ],
        [
         55,
         "reims",
         "Reims-Gueux",
         "Reims",
         "France",
         49.2542,
         3.93083,
         88.0
        ],
        [
         56,
         "george",
         "Prince George Circuit",
         "Eastern Cape Province",
         "South Africa",
         -33.0486,
         27.8736,
         15.0
        ],
        [
         57,
         "zeltweg",
         "Zeltweg",
         "Styria",
         "Austria",
         47.2039,
         14.7478,
         676.0
        ],
        [
         58,
         "aintree",
         "Aintree",
         "Liverpool",
         "UK",
         53.4769,
         -2.94056,
         20.0
        ],
        [
         59,
         "boavista",
         "Circuito da Boavista",
         "Oporto",
         "Portugal",
         41.1705,
         -8.67325,
         28.0
        ],
        [
         60,
         "riverside",
         "Riverside International Raceway",
         "California",
         "USA",
         33.937,
         -117.273,
         470.0
        ],
        [
         61,
         "avus",
         "AVUS",
         "Berlin",
         "Germany",
         52.4806,
         13.2514,
         53.0
        ],
        [
         62,
         "monsanto",
         "Monsanto Park Circuit",
         "Lisbon",
         "Portugal",
         38.7197,
         -9.20306,
         158.0
        ],
        [
         63,
         "sebring",
         "Sebring International Raceway",
         "Florida",
         "USA",
         27.4547,
         -81.3483,
         18.0
        ],
        [
         64,
         "ain-diab",
         "Ain Diab",
         "Casablanca",
         "Morocco",
         33.5786,
         -7.6875,
         19.0
        ],
        [
         65,
         "pescara",
         "Pescara Circuit",
         "Pescara",
         "Italy",
         42.475,
         14.1508,
         129.0
        ],
        [
         66,
         "bremgarten",
         "Circuit Bremgarten",
         "Bern",
         "Switzerland",
         46.9589,
         7.40194,
         551.0
        ],
        [
         67,
         "pedralbes",
         "Circuit de Pedralbes",
         "Barcelona",
         "Spain",
         41.3903,
         2.11667,
         85.0
        ],
        [
         68,
         "buddh",
         "Buddh International Circuit",
         "Uttar Pradesh",
         "India",
         28.3487,
         77.5331,
         194.0
        ],
        [
         69,
         "americas",
         "Circuit of the Americas",
         "Austin",
         "USA",
         30.1328,
         -97.6411,
         161.0
        ],
        [
         70,
         "red_bull_ring",
         "Red Bull Ring",
         "Spielburg",
         "Austria",
         47.2197,
         14.7647,
         678.0
        ],
        [
         71,
         "sochi",
         "Sochi Autodrom",
         "Sochi",
         "Russia",
         43.4057,
         39.9578,
         2.0
        ],
        [
         72,
         "port_imperial",
         "Port Imperial Street Circuit",
         "New Jersey",
         "USA",
         40.7769,
         -74.0111,
         4.0
        ],
        [
         73,
         "BAK",
         "Baku City Circuit",
         "Baku",
         "Azerbaijan",
         40.3725,
         49.8533,
         -7.0
        ],
        [
         74,
         "hanoi",
         "Hanoi Street Circuit",
         "Hanoi",
         "Vietnam",
         21.0166,
         105.766,
         9.0
        ],
        [
         75,
         "portimao",
         "Autódromo Internacional do Algarve",
         "Portimão",
         "Portugal",
         37.227,
         -8.6267,
         108.0
        ],
        [
         76,
         "mugello",
         "Autodromo Internazionale del Mugello",
         "Mugello",
         "Italy",
         43.9975,
         11.3719,
         255.0
        ],
        [
         77,
         "jeddah",
         "Jeddah Street Circuit",
         "Jeddah",
         "Saudi Arabia",
         21.5433,
         39.1728,
         15.0
        ]
       ],
       "datasetInfos": [],
       "dbfsResultPath": null,
       "isJsonSchema": true,
       "metadata": {},
       "overflow": false,
       "plotOptions": {
        "customPlotOptions": {},
        "displayType": "table",
        "pivotAggregation": null,
        "pivotColumns": null,
        "xColumns": null,
        "yColumns": null
       },
       "removedWidgets": [],
       "schema": [
        {
         "metadata": "{}",
         "name": "circuitId",
         "type": "\"integer\""
        },
        {
         "metadata": "{}",
         "name": "circuitRef",
         "type": "\"string\""
        },
        {
         "metadata": "{}",
         "name": "name",
         "type": "\"string\""
        },
        {
         "metadata": "{}",
         "name": "location",
         "type": "\"string\""
        },
        {
         "metadata": "{}",
         "name": "country",
         "type": "\"string\""
        },
        {
         "metadata": "{}",
         "name": "lat",
         "type": "\"double\""
        },
        {
         "metadata": "{}",
         "name": "lng",
         "type": "\"double\""
        },
        {
         "metadata": "{}",
         "name": "alt",
         "type": "\"double\""
        }
       ],
       "type": "table"
      }
     },
     "output_type": "display_data"
    }
   ],
   "source": [
    "display(circuits_selected_df)"
   ]
  },
  {
   "cell_type": "code",
   "execution_count": 0,
   "metadata": {
    "application/vnd.databricks.v1+cell": {
     "cellMetadata": {
      "byteLimit": 2048000,
      "rowLimit": 10000
     },
     "inputWidgets": {},
     "nuid": "28dab962-0582-47b2-b622-b3b8e840de10",
     "showTitle": false,
     "title": ""
    }
   },
   "outputs": [],
   "source": [
    "circuits_selected_df = circuits_df.select(circuits_df.circuitId,circuits_df.circuitRef,circuits_df.name,circuits_df.location,circuits_df.country.alias(\"race_country\"),circuits_df.lat,circuits_df.lng,circuits_df.alt)"
   ]
  },
  {
   "cell_type": "code",
   "execution_count": 0,
   "metadata": {
    "application/vnd.databricks.v1+cell": {
     "cellMetadata": {
      "byteLimit": 2048000,
      "rowLimit": 10000
     },
     "inputWidgets": {},
     "nuid": "a1633537-ab30-4e6a-b7d2-667b62448ab8",
     "showTitle": false,
     "title": ""
    }
   },
   "outputs": [
    {
     "output_type": "display_data",
     "data": {
      "text/html": [
       "<style scoped>\n",
       "  .table-result-container {\n",
       "    max-height: 300px;\n",
       "    overflow: auto;\n",
       "  }\n",
       "  table, th, td {\n",
       "    border: 1px solid black;\n",
       "    border-collapse: collapse;\n",
       "  }\n",
       "  th, td {\n",
       "    padding: 5px;\n",
       "  }\n",
       "  th {\n",
       "    text-align: left;\n",
       "  }\n",
       "</style><div class='table-result-container'><table class='table-result'><thead style='background-color: white'><tr><th>circuitId</th><th>circuitRef</th><th>name</th><th>location</th><th>race_country</th><th>lat</th><th>lng</th><th>alt</th></tr></thead><tbody><tr><td>1</td><td>albert_park</td><td>Albert Park Grand Prix Circuit</td><td>Melbourne</td><td>Australia</td><td>-37.8497</td><td>144.968</td><td>10.0</td></tr><tr><td>2</td><td>sepang</td><td>Sepang International Circuit</td><td>Kuala Lumpur</td><td>Malaysia</td><td>2.76083</td><td>101.738</td><td>18.0</td></tr><tr><td>3</td><td>bahrain</td><td>Bahrain International Circuit</td><td>Sakhir</td><td>Bahrain</td><td>26.0325</td><td>50.5106</td><td>7.0</td></tr><tr><td>4</td><td>catalunya</td><td>Circuit de Barcelona-Catalunya</td><td>Montmeló</td><td>Spain</td><td>41.57</td><td>2.26111</td><td>109.0</td></tr><tr><td>5</td><td>istanbul</td><td>Istanbul Park</td><td>Istanbul</td><td>Turkey</td><td>40.9517</td><td>29.405</td><td>130.0</td></tr><tr><td>6</td><td>monaco</td><td>Circuit de Monaco</td><td>Monte-Carlo</td><td>Monaco</td><td>43.7347</td><td>7.42056</td><td>7.0</td></tr><tr><td>7</td><td>villeneuve</td><td>Circuit Gilles Villeneuve</td><td>Montreal</td><td>Canada</td><td>45.5</td><td>-73.5228</td><td>13.0</td></tr><tr><td>8</td><td>magny_cours</td><td>Circuit de Nevers Magny-Cours</td><td>Magny Cours</td><td>France</td><td>46.8642</td><td>3.16361</td><td>228.0</td></tr><tr><td>9</td><td>silverstone</td><td>Silverstone Circuit</td><td>Silverstone</td><td>UK</td><td>52.0786</td><td>-1.01694</td><td>153.0</td></tr><tr><td>10</td><td>hockenheimring</td><td>Hockenheimring</td><td>Hockenheim</td><td>Germany</td><td>49.3278</td><td>8.56583</td><td>103.0</td></tr><tr><td>11</td><td>hungaroring</td><td>Hungaroring</td><td>Budapest</td><td>Hungary</td><td>47.5789</td><td>19.2486</td><td>264.0</td></tr><tr><td>12</td><td>valencia</td><td>Valencia Street Circuit</td><td>Valencia</td><td>Spain</td><td>39.4589</td><td>-0.331667</td><td>4.0</td></tr><tr><td>13</td><td>spa</td><td>Circuit de Spa-Francorchamps</td><td>Spa</td><td>Belgium</td><td>50.4372</td><td>5.97139</td><td>401.0</td></tr><tr><td>14</td><td>monza</td><td>Autodromo Nazionale di Monza</td><td>Monza</td><td>Italy</td><td>45.6156</td><td>9.28111</td><td>162.0</td></tr><tr><td>15</td><td>marina_bay</td><td>Marina Bay Street Circuit</td><td>Marina Bay</td><td>Singapore</td><td>1.2914</td><td>103.864</td><td>18.0</td></tr><tr><td>16</td><td>fuji</td><td>Fuji Speedway</td><td>Oyama</td><td>Japan</td><td>35.3717</td><td>138.927</td><td>583.0</td></tr><tr><td>17</td><td>shanghai</td><td>Shanghai International Circuit</td><td>Shanghai</td><td>China</td><td>31.3389</td><td>121.22</td><td>5.0</td></tr><tr><td>18</td><td>interlagos</td><td>Autódromo José Carlos Pace</td><td>São Paulo</td><td>Brazil</td><td>-23.7036</td><td>-46.6997</td><td>785.0</td></tr><tr><td>19</td><td>indianapolis</td><td>Indianapolis Motor Speedway</td><td>Indianapolis</td><td>USA</td><td>39.795</td><td>-86.2347</td><td>223.0</td></tr><tr><td>20</td><td>nurburgring</td><td>Nürburgring</td><td>Nürburg</td><td>Germany</td><td>50.3356</td><td>6.9475</td><td>578.0</td></tr><tr><td>21</td><td>imola</td><td>Autodromo Enzo e Dino Ferrari</td><td>Imola</td><td>Italy</td><td>44.3439</td><td>11.7167</td><td>37.0</td></tr><tr><td>22</td><td>suzuka</td><td>Suzuka Circuit</td><td>Suzuka</td><td>Japan</td><td>34.8431</td><td>136.541</td><td>45.0</td></tr><tr><td>23</td><td>osterreichring</td><td>A1-Ring</td><td>Spielburg</td><td>Austria</td><td>47.2197</td><td>14.7647</td><td>678.0</td></tr><tr><td>24</td><td>yas_marina</td><td>Yas Marina Circuit</td><td>Abu Dhabi</td><td>UAE</td><td>24.4672</td><td>54.6031</td><td>3.0</td></tr><tr><td>25</td><td>galvez</td><td>Autódromo Juan y Oscar Gálvez</td><td>Buenos Aires</td><td>Argentina</td><td>-34.6943</td><td>-58.4593</td><td>8.0</td></tr><tr><td>26</td><td>jerez</td><td>Circuito de Jerez</td><td>Jerez de la Frontera</td><td>Spain</td><td>36.7083</td><td>-6.03417</td><td>37.0</td></tr><tr><td>27</td><td>estoril</td><td>Autódromo do Estoril</td><td>Estoril</td><td>Portugal</td><td>38.7506</td><td>-9.39417</td><td>130.0</td></tr><tr><td>28</td><td>okayama</td><td>Okayama International Circuit</td><td>Okayama</td><td>Japan</td><td>34.915</td><td>134.221</td><td>266.0</td></tr><tr><td>29</td><td>adelaide</td><td>Adelaide Street Circuit</td><td>Adelaide</td><td>Australia</td><td>-34.9272</td><td>138.617</td><td>58.0</td></tr><tr><td>30</td><td>kyalami</td><td>Kyalami</td><td>Midrand</td><td>South Africa</td><td>-25.9894</td><td>28.0767</td><td>1460.0</td></tr><tr><td>31</td><td>donington</td><td>Donington Park</td><td>Castle Donington</td><td>UK</td><td>52.8306</td><td>-1.37528</td><td>88.0</td></tr><tr><td>32</td><td>rodriguez</td><td>Autódromo Hermanos Rodríguez</td><td>Mexico City</td><td>Mexico</td><td>19.4042</td><td>-99.0907</td><td>2227.0</td></tr><tr><td>33</td><td>phoenix</td><td>Phoenix street circuit</td><td>Phoenix</td><td>USA</td><td>33.4479</td><td>-112.075</td><td>345.0</td></tr><tr><td>34</td><td>ricard</td><td>Circuit Paul Ricard</td><td>Le Castellet</td><td>France</td><td>43.2506</td><td>5.79167</td><td>432.0</td></tr><tr><td>35</td><td>yeongam</td><td>Korean International Circuit</td><td>Yeongam County</td><td>Korea</td><td>34.7333</td><td>126.417</td><td>0.0</td></tr><tr><td>36</td><td>jacarepagua</td><td>Autódromo Internacional Nelson Piquet</td><td>Rio de Janeiro</td><td>Brazil</td><td>-22.9756</td><td>-43.395</td><td>1126.0</td></tr><tr><td>37</td><td>detroit</td><td>Detroit Street Circuit</td><td>Detroit</td><td>USA</td><td>42.3298</td><td>-83.0401</td><td>177.0</td></tr><tr><td>38</td><td>brands_hatch</td><td>Brands Hatch</td><td>Kent</td><td>UK</td><td>51.3569</td><td>0.263056</td><td>145.0</td></tr><tr><td>39</td><td>zandvoort</td><td>Circuit Park Zandvoort</td><td>Zandvoort</td><td>Netherlands</td><td>52.3888</td><td>4.54092</td><td>6.0</td></tr><tr><td>40</td><td>zolder</td><td>Zolder</td><td>Heusden-Zolder</td><td>Belgium</td><td>50.9894</td><td>5.25694</td><td>36.0</td></tr><tr><td>41</td><td>dijon</td><td>Dijon-Prenois</td><td>Dijon</td><td>France</td><td>47.3625</td><td>4.89913</td><td>484.0</td></tr><tr><td>42</td><td>dallas</td><td>Fair Park</td><td>Dallas</td><td>USA</td><td>32.7774</td><td>-96.7587</td><td>139.0</td></tr><tr><td>43</td><td>long_beach</td><td>Long Beach</td><td>California</td><td>USA</td><td>33.7651</td><td>-118.189</td><td>12.0</td></tr><tr><td>44</td><td>las_vegas</td><td>Las Vegas Street Circuit</td><td>Nevada</td><td>USA</td><td>36.1162</td><td>-115.174</td><td>639.0</td></tr><tr><td>45</td><td>jarama</td><td>Jarama</td><td>Madrid</td><td>Spain</td><td>40.6171</td><td>-3.58558</td><td>609.0</td></tr><tr><td>46</td><td>watkins_glen</td><td>Watkins Glen</td><td>New York State</td><td>USA</td><td>42.3369</td><td>-76.9272</td><td>485.0</td></tr><tr><td>47</td><td>anderstorp</td><td>Scandinavian Raceway</td><td>Anderstorp</td><td>Sweden</td><td>57.2653</td><td>13.6042</td><td>153.0</td></tr><tr><td>48</td><td>mosport</td><td>Mosport International Raceway</td><td>Ontario</td><td>Canada</td><td>44.0481</td><td>-78.6756</td><td>332.0</td></tr><tr><td>49</td><td>montjuic</td><td>Montjuïc</td><td>Barcelona</td><td>Spain</td><td>41.3664</td><td>2.15167</td><td>79.0</td></tr><tr><td>50</td><td>nivelles</td><td>Nivelles-Baulers</td><td>Brussels</td><td>Belgium</td><td>50.6211</td><td>4.32694</td><td>139.0</td></tr><tr><td>51</td><td>charade</td><td>Charade Circuit</td><td>Clermont-Ferrand</td><td>France</td><td>45.7472</td><td>3.03889</td><td>790.0</td></tr><tr><td>52</td><td>tremblant</td><td>Circuit Mont-Tremblant</td><td>Quebec</td><td>Canada</td><td>46.1877</td><td>-74.6099</td><td>214.0</td></tr><tr><td>53</td><td>essarts</td><td>Rouen-Les-Essarts</td><td>Rouen</td><td>France</td><td>49.3306</td><td>1.00458</td><td>81.0</td></tr><tr><td>54</td><td>lemans</td><td>Le Mans</td><td>Le Mans</td><td>France</td><td>47.95</td><td>0.224231</td><td>67.0</td></tr><tr><td>55</td><td>reims</td><td>Reims-Gueux</td><td>Reims</td><td>France</td><td>49.2542</td><td>3.93083</td><td>88.0</td></tr><tr><td>56</td><td>george</td><td>Prince George Circuit</td><td>Eastern Cape Province</td><td>South Africa</td><td>-33.0486</td><td>27.8736</td><td>15.0</td></tr><tr><td>57</td><td>zeltweg</td><td>Zeltweg</td><td>Styria</td><td>Austria</td><td>47.2039</td><td>14.7478</td><td>676.0</td></tr><tr><td>58</td><td>aintree</td><td>Aintree</td><td>Liverpool</td><td>UK</td><td>53.4769</td><td>-2.94056</td><td>20.0</td></tr><tr><td>59</td><td>boavista</td><td>Circuito da Boavista</td><td>Oporto</td><td>Portugal</td><td>41.1705</td><td>-8.67325</td><td>28.0</td></tr><tr><td>60</td><td>riverside</td><td>Riverside International Raceway</td><td>California</td><td>USA</td><td>33.937</td><td>-117.273</td><td>470.0</td></tr><tr><td>61</td><td>avus</td><td>AVUS</td><td>Berlin</td><td>Germany</td><td>52.4806</td><td>13.2514</td><td>53.0</td></tr><tr><td>62</td><td>monsanto</td><td>Monsanto Park Circuit</td><td>Lisbon</td><td>Portugal</td><td>38.7197</td><td>-9.20306</td><td>158.0</td></tr><tr><td>63</td><td>sebring</td><td>Sebring International Raceway</td><td>Florida</td><td>USA</td><td>27.4547</td><td>-81.3483</td><td>18.0</td></tr><tr><td>64</td><td>ain-diab</td><td>Ain Diab</td><td>Casablanca</td><td>Morocco</td><td>33.5786</td><td>-7.6875</td><td>19.0</td></tr><tr><td>65</td><td>pescara</td><td>Pescara Circuit</td><td>Pescara</td><td>Italy</td><td>42.475</td><td>14.1508</td><td>129.0</td></tr><tr><td>66</td><td>bremgarten</td><td>Circuit Bremgarten</td><td>Bern</td><td>Switzerland</td><td>46.9589</td><td>7.40194</td><td>551.0</td></tr><tr><td>67</td><td>pedralbes</td><td>Circuit de Pedralbes</td><td>Barcelona</td><td>Spain</td><td>41.3903</td><td>2.11667</td><td>85.0</td></tr><tr><td>68</td><td>buddh</td><td>Buddh International Circuit</td><td>Uttar Pradesh</td><td>India</td><td>28.3487</td><td>77.5331</td><td>194.0</td></tr><tr><td>69</td><td>americas</td><td>Circuit of the Americas</td><td>Austin</td><td>USA</td><td>30.1328</td><td>-97.6411</td><td>161.0</td></tr><tr><td>70</td><td>red_bull_ring</td><td>Red Bull Ring</td><td>Spielburg</td><td>Austria</td><td>47.2197</td><td>14.7647</td><td>678.0</td></tr><tr><td>71</td><td>sochi</td><td>Sochi Autodrom</td><td>Sochi</td><td>Russia</td><td>43.4057</td><td>39.9578</td><td>2.0</td></tr><tr><td>72</td><td>port_imperial</td><td>Port Imperial Street Circuit</td><td>New Jersey</td><td>USA</td><td>40.7769</td><td>-74.0111</td><td>4.0</td></tr><tr><td>73</td><td>BAK</td><td>Baku City Circuit</td><td>Baku</td><td>Azerbaijan</td><td>40.3725</td><td>49.8533</td><td>-7.0</td></tr><tr><td>74</td><td>hanoi</td><td>Hanoi Street Circuit</td><td>Hanoi</td><td>Vietnam</td><td>21.0166</td><td>105.766</td><td>9.0</td></tr><tr><td>75</td><td>portimao</td><td>Autódromo Internacional do Algarve</td><td>Portimão</td><td>Portugal</td><td>37.227</td><td>-8.6267</td><td>108.0</td></tr><tr><td>76</td><td>mugello</td><td>Autodromo Internazionale del Mugello</td><td>Mugello</td><td>Italy</td><td>43.9975</td><td>11.3719</td><td>255.0</td></tr><tr><td>77</td><td>jeddah</td><td>Jeddah Street Circuit</td><td>Jeddah</td><td>Saudi Arabia</td><td>21.5433</td><td>39.1728</td><td>15.0</td></tr></tbody></table></div>"
      ]
     },
     "metadata": {
      "application/vnd.databricks.v1+output": {
       "addedWidgets": {},
       "aggData": [],
       "aggError": "",
       "aggOverflow": false,
       "aggSchema": [],
       "aggSeriesLimitReached": false,
       "aggType": "",
       "arguments": {},
       "columnCustomDisplayInfos": {},
       "data": [
        [
         1,
         "albert_park",
         "Albert Park Grand Prix Circuit",
         "Melbourne",
         "Australia",
         -37.8497,
         144.968,
         10.0
        ],
        [
         2,
         "sepang",
         "Sepang International Circuit",
         "Kuala Lumpur",
         "Malaysia",
         2.76083,
         101.738,
         18.0
        ],
        [
         3,
         "bahrain",
         "Bahrain International Circuit",
         "Sakhir",
         "Bahrain",
         26.0325,
         50.5106,
         7.0
        ],
        [
         4,
         "catalunya",
         "Circuit de Barcelona-Catalunya",
         "Montmeló",
         "Spain",
         41.57,
         2.26111,
         109.0
        ],
        [
         5,
         "istanbul",
         "Istanbul Park",
         "Istanbul",
         "Turkey",
         40.9517,
         29.405,
         130.0
        ],
        [
         6,
         "monaco",
         "Circuit de Monaco",
         "Monte-Carlo",
         "Monaco",
         43.7347,
         7.42056,
         7.0
        ],
        [
         7,
         "villeneuve",
         "Circuit Gilles Villeneuve",
         "Montreal",
         "Canada",
         45.5,
         -73.5228,
         13.0
        ],
        [
         8,
         "magny_cours",
         "Circuit de Nevers Magny-Cours",
         "Magny Cours",
         "France",
         46.8642,
         3.16361,
         228.0
        ],
        [
         9,
         "silverstone",
         "Silverstone Circuit",
         "Silverstone",
         "UK",
         52.0786,
         -1.01694,
         153.0
        ],
        [
         10,
         "hockenheimring",
         "Hockenheimring",
         "Hockenheim",
         "Germany",
         49.3278,
         8.56583,
         103.0
        ],
        [
         11,
         "hungaroring",
         "Hungaroring",
         "Budapest",
         "Hungary",
         47.5789,
         19.2486,
         264.0
        ],
        [
         12,
         "valencia",
         "Valencia Street Circuit",
         "Valencia",
         "Spain",
         39.4589,
         -0.331667,
         4.0
        ],
        [
         13,
         "spa",
         "Circuit de Spa-Francorchamps",
         "Spa",
         "Belgium",
         50.4372,
         5.97139,
         401.0
        ],
        [
         14,
         "monza",
         "Autodromo Nazionale di Monza",
         "Monza",
         "Italy",
         45.6156,
         9.28111,
         162.0
        ],
        [
         15,
         "marina_bay",
         "Marina Bay Street Circuit",
         "Marina Bay",
         "Singapore",
         1.2914,
         103.864,
         18.0
        ],
        [
         16,
         "fuji",
         "Fuji Speedway",
         "Oyama",
         "Japan",
         35.3717,
         138.927,
         583.0
        ],
        [
         17,
         "shanghai",
         "Shanghai International Circuit",
         "Shanghai",
         "China",
         31.3389,
         121.22,
         5.0
        ],
        [
         18,
         "interlagos",
         "Autódromo José Carlos Pace",
         "São Paulo",
         "Brazil",
         -23.7036,
         -46.6997,
         785.0
        ],
        [
         19,
         "indianapolis",
         "Indianapolis Motor Speedway",
         "Indianapolis",
         "USA",
         39.795,
         -86.2347,
         223.0
        ],
        [
         20,
         "nurburgring",
         "Nürburgring",
         "Nürburg",
         "Germany",
         50.3356,
         6.9475,
         578.0
        ],
        [
         21,
         "imola",
         "Autodromo Enzo e Dino Ferrari",
         "Imola",
         "Italy",
         44.3439,
         11.7167,
         37.0
        ],
        [
         22,
         "suzuka",
         "Suzuka Circuit",
         "Suzuka",
         "Japan",
         34.8431,
         136.541,
         45.0
        ],
        [
         23,
         "osterreichring",
         "A1-Ring",
         "Spielburg",
         "Austria",
         47.2197,
         14.7647,
         678.0
        ],
        [
         24,
         "yas_marina",
         "Yas Marina Circuit",
         "Abu Dhabi",
         "UAE",
         24.4672,
         54.6031,
         3.0
        ],
        [
         25,
         "galvez",
         "Autódromo Juan y Oscar Gálvez",
         "Buenos Aires",
         "Argentina",
         -34.6943,
         -58.4593,
         8.0
        ],
        [
         26,
         "jerez",
         "Circuito de Jerez",
         "Jerez de la Frontera",
         "Spain",
         36.7083,
         -6.03417,
         37.0
        ],
        [
         27,
         "estoril",
         "Autódromo do Estoril",
         "Estoril",
         "Portugal",
         38.7506,
         -9.39417,
         130.0
        ],
        [
         28,
         "okayama",
         "Okayama International Circuit",
         "Okayama",
         "Japan",
         34.915,
         134.221,
         266.0
        ],
        [
         29,
         "adelaide",
         "Adelaide Street Circuit",
         "Adelaide",
         "Australia",
         -34.9272,
         138.617,
         58.0
        ],
        [
         30,
         "kyalami",
         "Kyalami",
         "Midrand",
         "South Africa",
         -25.9894,
         28.0767,
         1460.0
        ],
        [
         31,
         "donington",
         "Donington Park",
         "Castle Donington",
         "UK",
         52.8306,
         -1.37528,
         88.0
        ],
        [
         32,
         "rodriguez",
         "Autódromo Hermanos Rodríguez",
         "Mexico City",
         "Mexico",
         19.4042,
         -99.0907,
         2227.0
        ],
        [
         33,
         "phoenix",
         "Phoenix street circuit",
         "Phoenix",
         "USA",
         33.4479,
         -112.075,
         345.0
        ],
        [
         34,
         "ricard",
         "Circuit Paul Ricard",
         "Le Castellet",
         "France",
         43.2506,
         5.79167,
         432.0
        ],
        [
         35,
         "yeongam",
         "Korean International Circuit",
         "Yeongam County",
         "Korea",
         34.7333,
         126.417,
         0.0
        ],
        [
         36,
         "jacarepagua",
         "Autódromo Internacional Nelson Piquet",
         "Rio de Janeiro",
         "Brazil",
         -22.9756,
         -43.395,
         1126.0
        ],
        [
         37,
         "detroit",
         "Detroit Street Circuit",
         "Detroit",
         "USA",
         42.3298,
         -83.0401,
         177.0
        ],
        [
         38,
         "brands_hatch",
         "Brands Hatch",
         "Kent",
         "UK",
         51.3569,
         0.263056,
         145.0
        ],
        [
         39,
         "zandvoort",
         "Circuit Park Zandvoort",
         "Zandvoort",
         "Netherlands",
         52.3888,
         4.54092,
         6.0
        ],
        [
         40,
         "zolder",
         "Zolder",
         "Heusden-Zolder",
         "Belgium",
         50.9894,
         5.25694,
         36.0
        ],
        [
         41,
         "dijon",
         "Dijon-Prenois",
         "Dijon",
         "France",
         47.3625,
         4.89913,
         484.0
        ],
        [
         42,
         "dallas",
         "Fair Park",
         "Dallas",
         "USA",
         32.7774,
         -96.7587,
         139.0
        ],
        [
         43,
         "long_beach",
         "Long Beach",
         "California",
         "USA",
         33.7651,
         -118.189,
         12.0
        ],
        [
         44,
         "las_vegas",
         "Las Vegas Street Circuit",
         "Nevada",
         "USA",
         36.1162,
         -115.174,
         639.0
        ],
        [
         45,
         "jarama",
         "Jarama",
         "Madrid",
         "Spain",
         40.6171,
         -3.58558,
         609.0
        ],
        [
         46,
         "watkins_glen",
         "Watkins Glen",
         "New York State",
         "USA",
         42.3369,
         -76.9272,
         485.0
        ],
        [
         47,
         "anderstorp",
         "Scandinavian Raceway",
         "Anderstorp",
         "Sweden",
         57.2653,
         13.6042,
         153.0
        ],
        [
         48,
         "mosport",
         "Mosport International Raceway",
         "Ontario",
         "Canada",
         44.0481,
         -78.6756,
         332.0
        ],
        [
         49,
         "montjuic",
         "Montjuïc",
         "Barcelona",
         "Spain",
         41.3664,
         2.15167,
         79.0
        ],
        [
         50,
         "nivelles",
         "Nivelles-Baulers",
         "Brussels",
         "Belgium",
         50.6211,
         4.32694,
         139.0
        ],
        [
         51,
         "charade",
         "Charade Circuit",
         "Clermont-Ferrand",
         "France",
         45.7472,
         3.03889,
         790.0
        ],
        [
         52,
         "tremblant",
         "Circuit Mont-Tremblant",
         "Quebec",
         "Canada",
         46.1877,
         -74.6099,
         214.0
        ],
        [
         53,
         "essarts",
         "Rouen-Les-Essarts",
         "Rouen",
         "France",
         49.3306,
         1.00458,
         81.0
        ],
        [
         54,
         "lemans",
         "Le Mans",
         "Le Mans",
         "France",
         47.95,
         0.224231,
         67.0
        ],
        [
         55,
         "reims",
         "Reims-Gueux",
         "Reims",
         "France",
         49.2542,
         3.93083,
         88.0
        ],
        [
         56,
         "george",
         "Prince George Circuit",
         "Eastern Cape Province",
         "South Africa",
         -33.0486,
         27.8736,
         15.0
        ],
        [
         57,
         "zeltweg",
         "Zeltweg",
         "Styria",
         "Austria",
         47.2039,
         14.7478,
         676.0
        ],
        [
         58,
         "aintree",
         "Aintree",
         "Liverpool",
         "UK",
         53.4769,
         -2.94056,
         20.0
        ],
        [
         59,
         "boavista",
         "Circuito da Boavista",
         "Oporto",
         "Portugal",
         41.1705,
         -8.67325,
         28.0
        ],
        [
         60,
         "riverside",
         "Riverside International Raceway",
         "California",
         "USA",
         33.937,
         -117.273,
         470.0
        ],
        [
         61,
         "avus",
         "AVUS",
         "Berlin",
         "Germany",
         52.4806,
         13.2514,
         53.0
        ],
        [
         62,
         "monsanto",
         "Monsanto Park Circuit",
         "Lisbon",
         "Portugal",
         38.7197,
         -9.20306,
         158.0
        ],
        [
         63,
         "sebring",
         "Sebring International Raceway",
         "Florida",
         "USA",
         27.4547,
         -81.3483,
         18.0
        ],
        [
         64,
         "ain-diab",
         "Ain Diab",
         "Casablanca",
         "Morocco",
         33.5786,
         -7.6875,
         19.0
        ],
        [
         65,
         "pescara",
         "Pescara Circuit",
         "Pescara",
         "Italy",
         42.475,
         14.1508,
         129.0
        ],
        [
         66,
         "bremgarten",
         "Circuit Bremgarten",
         "Bern",
         "Switzerland",
         46.9589,
         7.40194,
         551.0
        ],
        [
         67,
         "pedralbes",
         "Circuit de Pedralbes",
         "Barcelona",
         "Spain",
         41.3903,
         2.11667,
         85.0
        ],
        [
         68,
         "buddh",
         "Buddh International Circuit",
         "Uttar Pradesh",
         "India",
         28.3487,
         77.5331,
         194.0
        ],
        [
         69,
         "americas",
         "Circuit of the Americas",
         "Austin",
         "USA",
         30.1328,
         -97.6411,
         161.0
        ],
        [
         70,
         "red_bull_ring",
         "Red Bull Ring",
         "Spielburg",
         "Austria",
         47.2197,
         14.7647,
         678.0
        ],
        [
         71,
         "sochi",
         "Sochi Autodrom",
         "Sochi",
         "Russia",
         43.4057,
         39.9578,
         2.0
        ],
        [
         72,
         "port_imperial",
         "Port Imperial Street Circuit",
         "New Jersey",
         "USA",
         40.7769,
         -74.0111,
         4.0
        ],
        [
         73,
         "BAK",
         "Baku City Circuit",
         "Baku",
         "Azerbaijan",
         40.3725,
         49.8533,
         -7.0
        ],
        [
         74,
         "hanoi",
         "Hanoi Street Circuit",
         "Hanoi",
         "Vietnam",
         21.0166,
         105.766,
         9.0
        ],
        [
         75,
         "portimao",
         "Autódromo Internacional do Algarve",
         "Portimão",
         "Portugal",
         37.227,
         -8.6267,
         108.0
        ],
        [
         76,
         "mugello",
         "Autodromo Internazionale del Mugello",
         "Mugello",
         "Italy",
         43.9975,
         11.3719,
         255.0
        ],
        [
         77,
         "jeddah",
         "Jeddah Street Circuit",
         "Jeddah",
         "Saudi Arabia",
         21.5433,
         39.1728,
         15.0
        ]
       ],
       "datasetInfos": [],
       "dbfsResultPath": null,
       "isJsonSchema": true,
       "metadata": {},
       "overflow": false,
       "plotOptions": {
        "customPlotOptions": {},
        "displayType": "table",
        "pivotAggregation": null,
        "pivotColumns": null,
        "xColumns": null,
        "yColumns": null
       },
       "removedWidgets": [],
       "schema": [
        {
         "metadata": "{}",
         "name": "circuitId",
         "type": "\"integer\""
        },
        {
         "metadata": "{}",
         "name": "circuitRef",
         "type": "\"string\""
        },
        {
         "metadata": "{}",
         "name": "name",
         "type": "\"string\""
        },
        {
         "metadata": "{}",
         "name": "location",
         "type": "\"string\""
        },
        {
         "metadata": "{}",
         "name": "race_country",
         "type": "\"string\""
        },
        {
         "metadata": "{}",
         "name": "lat",
         "type": "\"double\""
        },
        {
         "metadata": "{}",
         "name": "lng",
         "type": "\"double\""
        },
        {
         "metadata": "{}",
         "name": "alt",
         "type": "\"double\""
        }
       ],
       "type": "table"
      }
     },
     "output_type": "display_data"
    }
   ],
   "source": [
    "display(circuits_selected_df)"
   ]
  },
  {
   "cell_type": "code",
   "execution_count": 0,
   "metadata": {
    "application/vnd.databricks.v1+cell": {
     "cellMetadata": {
      "byteLimit": 2048000,
      "rowLimit": 10000
     },
     "inputWidgets": {},
     "nuid": "42c7ba2d-82e0-4926-89b6-49414172e412",
     "showTitle": false,
     "title": ""
    }
   },
   "outputs": [],
   "source": [
    "from pyspark.sql.functions import col\n",
    "circuits_selected_df = circuits_df.select(col(\"circuitId\"),col(\"circuitRef\"),col(\"name\"),col(\"location\"),col(\"country\"),col(\"lat\"),col(\"lng\"),col(\"alt\"))"
   ]
  },
  {
   "cell_type": "code",
   "execution_count": 0,
   "metadata": {
    "application/vnd.databricks.v1+cell": {
     "cellMetadata": {
      "byteLimit": 2048000,
      "rowLimit": 10000
     },
     "inputWidgets": {},
     "nuid": "b94c85e4-2648-41ae-8156-f494f0b07b0d",
     "showTitle": false,
     "title": ""
    }
   },
   "outputs": [
    {
     "output_type": "display_data",
     "data": {
      "text/html": [
       "<style scoped>\n",
       "  .table-result-container {\n",
       "    max-height: 300px;\n",
       "    overflow: auto;\n",
       "  }\n",
       "  table, th, td {\n",
       "    border: 1px solid black;\n",
       "    border-collapse: collapse;\n",
       "  }\n",
       "  th, td {\n",
       "    padding: 5px;\n",
       "  }\n",
       "  th {\n",
       "    text-align: left;\n",
       "  }\n",
       "</style><div class='table-result-container'><table class='table-result'><thead style='background-color: white'><tr><th>circuitId</th><th>circuitRef</th><th>name</th><th>location</th><th>country</th><th>lat</th><th>lng</th><th>alt</th></tr></thead><tbody><tr><td>1</td><td>albert_park</td><td>Albert Park Grand Prix Circuit</td><td>Melbourne</td><td>Australia</td><td>-37.8497</td><td>144.968</td><td>10.0</td></tr><tr><td>2</td><td>sepang</td><td>Sepang International Circuit</td><td>Kuala Lumpur</td><td>Malaysia</td><td>2.76083</td><td>101.738</td><td>18.0</td></tr><tr><td>3</td><td>bahrain</td><td>Bahrain International Circuit</td><td>Sakhir</td><td>Bahrain</td><td>26.0325</td><td>50.5106</td><td>7.0</td></tr><tr><td>4</td><td>catalunya</td><td>Circuit de Barcelona-Catalunya</td><td>Montmeló</td><td>Spain</td><td>41.57</td><td>2.26111</td><td>109.0</td></tr><tr><td>5</td><td>istanbul</td><td>Istanbul Park</td><td>Istanbul</td><td>Turkey</td><td>40.9517</td><td>29.405</td><td>130.0</td></tr><tr><td>6</td><td>monaco</td><td>Circuit de Monaco</td><td>Monte-Carlo</td><td>Monaco</td><td>43.7347</td><td>7.42056</td><td>7.0</td></tr><tr><td>7</td><td>villeneuve</td><td>Circuit Gilles Villeneuve</td><td>Montreal</td><td>Canada</td><td>45.5</td><td>-73.5228</td><td>13.0</td></tr><tr><td>8</td><td>magny_cours</td><td>Circuit de Nevers Magny-Cours</td><td>Magny Cours</td><td>France</td><td>46.8642</td><td>3.16361</td><td>228.0</td></tr><tr><td>9</td><td>silverstone</td><td>Silverstone Circuit</td><td>Silverstone</td><td>UK</td><td>52.0786</td><td>-1.01694</td><td>153.0</td></tr><tr><td>10</td><td>hockenheimring</td><td>Hockenheimring</td><td>Hockenheim</td><td>Germany</td><td>49.3278</td><td>8.56583</td><td>103.0</td></tr><tr><td>11</td><td>hungaroring</td><td>Hungaroring</td><td>Budapest</td><td>Hungary</td><td>47.5789</td><td>19.2486</td><td>264.0</td></tr><tr><td>12</td><td>valencia</td><td>Valencia Street Circuit</td><td>Valencia</td><td>Spain</td><td>39.4589</td><td>-0.331667</td><td>4.0</td></tr><tr><td>13</td><td>spa</td><td>Circuit de Spa-Francorchamps</td><td>Spa</td><td>Belgium</td><td>50.4372</td><td>5.97139</td><td>401.0</td></tr><tr><td>14</td><td>monza</td><td>Autodromo Nazionale di Monza</td><td>Monza</td><td>Italy</td><td>45.6156</td><td>9.28111</td><td>162.0</td></tr><tr><td>15</td><td>marina_bay</td><td>Marina Bay Street Circuit</td><td>Marina Bay</td><td>Singapore</td><td>1.2914</td><td>103.864</td><td>18.0</td></tr><tr><td>16</td><td>fuji</td><td>Fuji Speedway</td><td>Oyama</td><td>Japan</td><td>35.3717</td><td>138.927</td><td>583.0</td></tr><tr><td>17</td><td>shanghai</td><td>Shanghai International Circuit</td><td>Shanghai</td><td>China</td><td>31.3389</td><td>121.22</td><td>5.0</td></tr><tr><td>18</td><td>interlagos</td><td>Autódromo José Carlos Pace</td><td>São Paulo</td><td>Brazil</td><td>-23.7036</td><td>-46.6997</td><td>785.0</td></tr><tr><td>19</td><td>indianapolis</td><td>Indianapolis Motor Speedway</td><td>Indianapolis</td><td>USA</td><td>39.795</td><td>-86.2347</td><td>223.0</td></tr><tr><td>20</td><td>nurburgring</td><td>Nürburgring</td><td>Nürburg</td><td>Germany</td><td>50.3356</td><td>6.9475</td><td>578.0</td></tr><tr><td>21</td><td>imola</td><td>Autodromo Enzo e Dino Ferrari</td><td>Imola</td><td>Italy</td><td>44.3439</td><td>11.7167</td><td>37.0</td></tr><tr><td>22</td><td>suzuka</td><td>Suzuka Circuit</td><td>Suzuka</td><td>Japan</td><td>34.8431</td><td>136.541</td><td>45.0</td></tr><tr><td>23</td><td>osterreichring</td><td>A1-Ring</td><td>Spielburg</td><td>Austria</td><td>47.2197</td><td>14.7647</td><td>678.0</td></tr><tr><td>24</td><td>yas_marina</td><td>Yas Marina Circuit</td><td>Abu Dhabi</td><td>UAE</td><td>24.4672</td><td>54.6031</td><td>3.0</td></tr><tr><td>25</td><td>galvez</td><td>Autódromo Juan y Oscar Gálvez</td><td>Buenos Aires</td><td>Argentina</td><td>-34.6943</td><td>-58.4593</td><td>8.0</td></tr><tr><td>26</td><td>jerez</td><td>Circuito de Jerez</td><td>Jerez de la Frontera</td><td>Spain</td><td>36.7083</td><td>-6.03417</td><td>37.0</td></tr><tr><td>27</td><td>estoril</td><td>Autódromo do Estoril</td><td>Estoril</td><td>Portugal</td><td>38.7506</td><td>-9.39417</td><td>130.0</td></tr><tr><td>28</td><td>okayama</td><td>Okayama International Circuit</td><td>Okayama</td><td>Japan</td><td>34.915</td><td>134.221</td><td>266.0</td></tr><tr><td>29</td><td>adelaide</td><td>Adelaide Street Circuit</td><td>Adelaide</td><td>Australia</td><td>-34.9272</td><td>138.617</td><td>58.0</td></tr><tr><td>30</td><td>kyalami</td><td>Kyalami</td><td>Midrand</td><td>South Africa</td><td>-25.9894</td><td>28.0767</td><td>1460.0</td></tr><tr><td>31</td><td>donington</td><td>Donington Park</td><td>Castle Donington</td><td>UK</td><td>52.8306</td><td>-1.37528</td><td>88.0</td></tr><tr><td>32</td><td>rodriguez</td><td>Autódromo Hermanos Rodríguez</td><td>Mexico City</td><td>Mexico</td><td>19.4042</td><td>-99.0907</td><td>2227.0</td></tr><tr><td>33</td><td>phoenix</td><td>Phoenix street circuit</td><td>Phoenix</td><td>USA</td><td>33.4479</td><td>-112.075</td><td>345.0</td></tr><tr><td>34</td><td>ricard</td><td>Circuit Paul Ricard</td><td>Le Castellet</td><td>France</td><td>43.2506</td><td>5.79167</td><td>432.0</td></tr><tr><td>35</td><td>yeongam</td><td>Korean International Circuit</td><td>Yeongam County</td><td>Korea</td><td>34.7333</td><td>126.417</td><td>0.0</td></tr><tr><td>36</td><td>jacarepagua</td><td>Autódromo Internacional Nelson Piquet</td><td>Rio de Janeiro</td><td>Brazil</td><td>-22.9756</td><td>-43.395</td><td>1126.0</td></tr><tr><td>37</td><td>detroit</td><td>Detroit Street Circuit</td><td>Detroit</td><td>USA</td><td>42.3298</td><td>-83.0401</td><td>177.0</td></tr><tr><td>38</td><td>brands_hatch</td><td>Brands Hatch</td><td>Kent</td><td>UK</td><td>51.3569</td><td>0.263056</td><td>145.0</td></tr><tr><td>39</td><td>zandvoort</td><td>Circuit Park Zandvoort</td><td>Zandvoort</td><td>Netherlands</td><td>52.3888</td><td>4.54092</td><td>6.0</td></tr><tr><td>40</td><td>zolder</td><td>Zolder</td><td>Heusden-Zolder</td><td>Belgium</td><td>50.9894</td><td>5.25694</td><td>36.0</td></tr><tr><td>41</td><td>dijon</td><td>Dijon-Prenois</td><td>Dijon</td><td>France</td><td>47.3625</td><td>4.89913</td><td>484.0</td></tr><tr><td>42</td><td>dallas</td><td>Fair Park</td><td>Dallas</td><td>USA</td><td>32.7774</td><td>-96.7587</td><td>139.0</td></tr><tr><td>43</td><td>long_beach</td><td>Long Beach</td><td>California</td><td>USA</td><td>33.7651</td><td>-118.189</td><td>12.0</td></tr><tr><td>44</td><td>las_vegas</td><td>Las Vegas Street Circuit</td><td>Nevada</td><td>USA</td><td>36.1162</td><td>-115.174</td><td>639.0</td></tr><tr><td>45</td><td>jarama</td><td>Jarama</td><td>Madrid</td><td>Spain</td><td>40.6171</td><td>-3.58558</td><td>609.0</td></tr><tr><td>46</td><td>watkins_glen</td><td>Watkins Glen</td><td>New York State</td><td>USA</td><td>42.3369</td><td>-76.9272</td><td>485.0</td></tr><tr><td>47</td><td>anderstorp</td><td>Scandinavian Raceway</td><td>Anderstorp</td><td>Sweden</td><td>57.2653</td><td>13.6042</td><td>153.0</td></tr><tr><td>48</td><td>mosport</td><td>Mosport International Raceway</td><td>Ontario</td><td>Canada</td><td>44.0481</td><td>-78.6756</td><td>332.0</td></tr><tr><td>49</td><td>montjuic</td><td>Montjuïc</td><td>Barcelona</td><td>Spain</td><td>41.3664</td><td>2.15167</td><td>79.0</td></tr><tr><td>50</td><td>nivelles</td><td>Nivelles-Baulers</td><td>Brussels</td><td>Belgium</td><td>50.6211</td><td>4.32694</td><td>139.0</td></tr><tr><td>51</td><td>charade</td><td>Charade Circuit</td><td>Clermont-Ferrand</td><td>France</td><td>45.7472</td><td>3.03889</td><td>790.0</td></tr><tr><td>52</td><td>tremblant</td><td>Circuit Mont-Tremblant</td><td>Quebec</td><td>Canada</td><td>46.1877</td><td>-74.6099</td><td>214.0</td></tr><tr><td>53</td><td>essarts</td><td>Rouen-Les-Essarts</td><td>Rouen</td><td>France</td><td>49.3306</td><td>1.00458</td><td>81.0</td></tr><tr><td>54</td><td>lemans</td><td>Le Mans</td><td>Le Mans</td><td>France</td><td>47.95</td><td>0.224231</td><td>67.0</td></tr><tr><td>55</td><td>reims</td><td>Reims-Gueux</td><td>Reims</td><td>France</td><td>49.2542</td><td>3.93083</td><td>88.0</td></tr><tr><td>56</td><td>george</td><td>Prince George Circuit</td><td>Eastern Cape Province</td><td>South Africa</td><td>-33.0486</td><td>27.8736</td><td>15.0</td></tr><tr><td>57</td><td>zeltweg</td><td>Zeltweg</td><td>Styria</td><td>Austria</td><td>47.2039</td><td>14.7478</td><td>676.0</td></tr><tr><td>58</td><td>aintree</td><td>Aintree</td><td>Liverpool</td><td>UK</td><td>53.4769</td><td>-2.94056</td><td>20.0</td></tr><tr><td>59</td><td>boavista</td><td>Circuito da Boavista</td><td>Oporto</td><td>Portugal</td><td>41.1705</td><td>-8.67325</td><td>28.0</td></tr><tr><td>60</td><td>riverside</td><td>Riverside International Raceway</td><td>California</td><td>USA</td><td>33.937</td><td>-117.273</td><td>470.0</td></tr><tr><td>61</td><td>avus</td><td>AVUS</td><td>Berlin</td><td>Germany</td><td>52.4806</td><td>13.2514</td><td>53.0</td></tr><tr><td>62</td><td>monsanto</td><td>Monsanto Park Circuit</td><td>Lisbon</td><td>Portugal</td><td>38.7197</td><td>-9.20306</td><td>158.0</td></tr><tr><td>63</td><td>sebring</td><td>Sebring International Raceway</td><td>Florida</td><td>USA</td><td>27.4547</td><td>-81.3483</td><td>18.0</td></tr><tr><td>64</td><td>ain-diab</td><td>Ain Diab</td><td>Casablanca</td><td>Morocco</td><td>33.5786</td><td>-7.6875</td><td>19.0</td></tr><tr><td>65</td><td>pescara</td><td>Pescara Circuit</td><td>Pescara</td><td>Italy</td><td>42.475</td><td>14.1508</td><td>129.0</td></tr><tr><td>66</td><td>bremgarten</td><td>Circuit Bremgarten</td><td>Bern</td><td>Switzerland</td><td>46.9589</td><td>7.40194</td><td>551.0</td></tr><tr><td>67</td><td>pedralbes</td><td>Circuit de Pedralbes</td><td>Barcelona</td><td>Spain</td><td>41.3903</td><td>2.11667</td><td>85.0</td></tr><tr><td>68</td><td>buddh</td><td>Buddh International Circuit</td><td>Uttar Pradesh</td><td>India</td><td>28.3487</td><td>77.5331</td><td>194.0</td></tr><tr><td>69</td><td>americas</td><td>Circuit of the Americas</td><td>Austin</td><td>USA</td><td>30.1328</td><td>-97.6411</td><td>161.0</td></tr><tr><td>70</td><td>red_bull_ring</td><td>Red Bull Ring</td><td>Spielburg</td><td>Austria</td><td>47.2197</td><td>14.7647</td><td>678.0</td></tr><tr><td>71</td><td>sochi</td><td>Sochi Autodrom</td><td>Sochi</td><td>Russia</td><td>43.4057</td><td>39.9578</td><td>2.0</td></tr><tr><td>72</td><td>port_imperial</td><td>Port Imperial Street Circuit</td><td>New Jersey</td><td>USA</td><td>40.7769</td><td>-74.0111</td><td>4.0</td></tr><tr><td>73</td><td>BAK</td><td>Baku City Circuit</td><td>Baku</td><td>Azerbaijan</td><td>40.3725</td><td>49.8533</td><td>-7.0</td></tr><tr><td>74</td><td>hanoi</td><td>Hanoi Street Circuit</td><td>Hanoi</td><td>Vietnam</td><td>21.0166</td><td>105.766</td><td>9.0</td></tr><tr><td>75</td><td>portimao</td><td>Autódromo Internacional do Algarve</td><td>Portimão</td><td>Portugal</td><td>37.227</td><td>-8.6267</td><td>108.0</td></tr><tr><td>76</td><td>mugello</td><td>Autodromo Internazionale del Mugello</td><td>Mugello</td><td>Italy</td><td>43.9975</td><td>11.3719</td><td>255.0</td></tr><tr><td>77</td><td>jeddah</td><td>Jeddah Street Circuit</td><td>Jeddah</td><td>Saudi Arabia</td><td>21.5433</td><td>39.1728</td><td>15.0</td></tr></tbody></table></div>"
      ]
     },
     "metadata": {
      "application/vnd.databricks.v1+output": {
       "addedWidgets": {},
       "aggData": [],
       "aggError": "",
       "aggOverflow": false,
       "aggSchema": [],
       "aggSeriesLimitReached": false,
       "aggType": "",
       "arguments": {},
       "columnCustomDisplayInfos": {},
       "data": [
        [
         1,
         "albert_park",
         "Albert Park Grand Prix Circuit",
         "Melbourne",
         "Australia",
         -37.8497,
         144.968,
         10.0
        ],
        [
         2,
         "sepang",
         "Sepang International Circuit",
         "Kuala Lumpur",
         "Malaysia",
         2.76083,
         101.738,
         18.0
        ],
        [
         3,
         "bahrain",
         "Bahrain International Circuit",
         "Sakhir",
         "Bahrain",
         26.0325,
         50.5106,
         7.0
        ],
        [
         4,
         "catalunya",
         "Circuit de Barcelona-Catalunya",
         "Montmeló",
         "Spain",
         41.57,
         2.26111,
         109.0
        ],
        [
         5,
         "istanbul",
         "Istanbul Park",
         "Istanbul",
         "Turkey",
         40.9517,
         29.405,
         130.0
        ],
        [
         6,
         "monaco",
         "Circuit de Monaco",
         "Monte-Carlo",
         "Monaco",
         43.7347,
         7.42056,
         7.0
        ],
        [
         7,
         "villeneuve",
         "Circuit Gilles Villeneuve",
         "Montreal",
         "Canada",
         45.5,
         -73.5228,
         13.0
        ],
        [
         8,
         "magny_cours",
         "Circuit de Nevers Magny-Cours",
         "Magny Cours",
         "France",
         46.8642,
         3.16361,
         228.0
        ],
        [
         9,
         "silverstone",
         "Silverstone Circuit",
         "Silverstone",
         "UK",
         52.0786,
         -1.01694,
         153.0
        ],
        [
         10,
         "hockenheimring",
         "Hockenheimring",
         "Hockenheim",
         "Germany",
         49.3278,
         8.56583,
         103.0
        ],
        [
         11,
         "hungaroring",
         "Hungaroring",
         "Budapest",
         "Hungary",
         47.5789,
         19.2486,
         264.0
        ],
        [
         12,
         "valencia",
         "Valencia Street Circuit",
         "Valencia",
         "Spain",
         39.4589,
         -0.331667,
         4.0
        ],
        [
         13,
         "spa",
         "Circuit de Spa-Francorchamps",
         "Spa",
         "Belgium",
         50.4372,
         5.97139,
         401.0
        ],
        [
         14,
         "monza",
         "Autodromo Nazionale di Monza",
         "Monza",
         "Italy",
         45.6156,
         9.28111,
         162.0
        ],
        [
         15,
         "marina_bay",
         "Marina Bay Street Circuit",
         "Marina Bay",
         "Singapore",
         1.2914,
         103.864,
         18.0
        ],
        [
         16,
         "fuji",
         "Fuji Speedway",
         "Oyama",
         "Japan",
         35.3717,
         138.927,
         583.0
        ],
        [
         17,
         "shanghai",
         "Shanghai International Circuit",
         "Shanghai",
         "China",
         31.3389,
         121.22,
         5.0
        ],
        [
         18,
         "interlagos",
         "Autódromo José Carlos Pace",
         "São Paulo",
         "Brazil",
         -23.7036,
         -46.6997,
         785.0
        ],
        [
         19,
         "indianapolis",
         "Indianapolis Motor Speedway",
         "Indianapolis",
         "USA",
         39.795,
         -86.2347,
         223.0
        ],
        [
         20,
         "nurburgring",
         "Nürburgring",
         "Nürburg",
         "Germany",
         50.3356,
         6.9475,
         578.0
        ],
        [
         21,
         "imola",
         "Autodromo Enzo e Dino Ferrari",
         "Imola",
         "Italy",
         44.3439,
         11.7167,
         37.0
        ],
        [
         22,
         "suzuka",
         "Suzuka Circuit",
         "Suzuka",
         "Japan",
         34.8431,
         136.541,
         45.0
        ],
        [
         23,
         "osterreichring",
         "A1-Ring",
         "Spielburg",
         "Austria",
         47.2197,
         14.7647,
         678.0
        ],
        [
         24,
         "yas_marina",
         "Yas Marina Circuit",
         "Abu Dhabi",
         "UAE",
         24.4672,
         54.6031,
         3.0
        ],
        [
         25,
         "galvez",
         "Autódromo Juan y Oscar Gálvez",
         "Buenos Aires",
         "Argentina",
         -34.6943,
         -58.4593,
         8.0
        ],
        [
         26,
         "jerez",
         "Circuito de Jerez",
         "Jerez de la Frontera",
         "Spain",
         36.7083,
         -6.03417,
         37.0
        ],
        [
         27,
         "estoril",
         "Autódromo do Estoril",
         "Estoril",
         "Portugal",
         38.7506,
         -9.39417,
         130.0
        ],
        [
         28,
         "okayama",
         "Okayama International Circuit",
         "Okayama",
         "Japan",
         34.915,
         134.221,
         266.0
        ],
        [
         29,
         "adelaide",
         "Adelaide Street Circuit",
         "Adelaide",
         "Australia",
         -34.9272,
         138.617,
         58.0
        ],
        [
         30,
         "kyalami",
         "Kyalami",
         "Midrand",
         "South Africa",
         -25.9894,
         28.0767,
         1460.0
        ],
        [
         31,
         "donington",
         "Donington Park",
         "Castle Donington",
         "UK",
         52.8306,
         -1.37528,
         88.0
        ],
        [
         32,
         "rodriguez",
         "Autódromo Hermanos Rodríguez",
         "Mexico City",
         "Mexico",
         19.4042,
         -99.0907,
         2227.0
        ],
        [
         33,
         "phoenix",
         "Phoenix street circuit",
         "Phoenix",
         "USA",
         33.4479,
         -112.075,
         345.0
        ],
        [
         34,
         "ricard",
         "Circuit Paul Ricard",
         "Le Castellet",
         "France",
         43.2506,
         5.79167,
         432.0
        ],
        [
         35,
         "yeongam",
         "Korean International Circuit",
         "Yeongam County",
         "Korea",
         34.7333,
         126.417,
         0.0
        ],
        [
         36,
         "jacarepagua",
         "Autódromo Internacional Nelson Piquet",
         "Rio de Janeiro",
         "Brazil",
         -22.9756,
         -43.395,
         1126.0
        ],
        [
         37,
         "detroit",
         "Detroit Street Circuit",
         "Detroit",
         "USA",
         42.3298,
         -83.0401,
         177.0
        ],
        [
         38,
         "brands_hatch",
         "Brands Hatch",
         "Kent",
         "UK",
         51.3569,
         0.263056,
         145.0
        ],
        [
         39,
         "zandvoort",
         "Circuit Park Zandvoort",
         "Zandvoort",
         "Netherlands",
         52.3888,
         4.54092,
         6.0
        ],
        [
         40,
         "zolder",
         "Zolder",
         "Heusden-Zolder",
         "Belgium",
         50.9894,
         5.25694,
         36.0
        ],
        [
         41,
         "dijon",
         "Dijon-Prenois",
         "Dijon",
         "France",
         47.3625,
         4.89913,
         484.0
        ],
        [
         42,
         "dallas",
         "Fair Park",
         "Dallas",
         "USA",
         32.7774,
         -96.7587,
         139.0
        ],
        [
         43,
         "long_beach",
         "Long Beach",
         "California",
         "USA",
         33.7651,
         -118.189,
         12.0
        ],
        [
         44,
         "las_vegas",
         "Las Vegas Street Circuit",
         "Nevada",
         "USA",
         36.1162,
         -115.174,
         639.0
        ],
        [
         45,
         "jarama",
         "Jarama",
         "Madrid",
         "Spain",
         40.6171,
         -3.58558,
         609.0
        ],
        [
         46,
         "watkins_glen",
         "Watkins Glen",
         "New York State",
         "USA",
         42.3369,
         -76.9272,
         485.0
        ],
        [
         47,
         "anderstorp",
         "Scandinavian Raceway",
         "Anderstorp",
         "Sweden",
         57.2653,
         13.6042,
         153.0
        ],
        [
         48,
         "mosport",
         "Mosport International Raceway",
         "Ontario",
         "Canada",
         44.0481,
         -78.6756,
         332.0
        ],
        [
         49,
         "montjuic",
         "Montjuïc",
         "Barcelona",
         "Spain",
         41.3664,
         2.15167,
         79.0
        ],
        [
         50,
         "nivelles",
         "Nivelles-Baulers",
         "Brussels",
         "Belgium",
         50.6211,
         4.32694,
         139.0
        ],
        [
         51,
         "charade",
         "Charade Circuit",
         "Clermont-Ferrand",
         "France",
         45.7472,
         3.03889,
         790.0
        ],
        [
         52,
         "tremblant",
         "Circuit Mont-Tremblant",
         "Quebec",
         "Canada",
         46.1877,
         -74.6099,
         214.0
        ],
        [
         53,
         "essarts",
         "Rouen-Les-Essarts",
         "Rouen",
         "France",
         49.3306,
         1.00458,
         81.0
        ],
        [
         54,
         "lemans",
         "Le Mans",
         "Le Mans",
         "France",
         47.95,
         0.224231,
         67.0
        ],
        [
         55,
         "reims",
         "Reims-Gueux",
         "Reims",
         "France",
         49.2542,
         3.93083,
         88.0
        ],
        [
         56,
         "george",
         "Prince George Circuit",
         "Eastern Cape Province",
         "South Africa",
         -33.0486,
         27.8736,
         15.0
        ],
        [
         57,
         "zeltweg",
         "Zeltweg",
         "Styria",
         "Austria",
         47.2039,
         14.7478,
         676.0
        ],
        [
         58,
         "aintree",
         "Aintree",
         "Liverpool",
         "UK",
         53.4769,
         -2.94056,
         20.0
        ],
        [
         59,
         "boavista",
         "Circuito da Boavista",
         "Oporto",
         "Portugal",
         41.1705,
         -8.67325,
         28.0
        ],
        [
         60,
         "riverside",
         "Riverside International Raceway",
         "California",
         "USA",
         33.937,
         -117.273,
         470.0
        ],
        [
         61,
         "avus",
         "AVUS",
         "Berlin",
         "Germany",
         52.4806,
         13.2514,
         53.0
        ],
        [
         62,
         "monsanto",
         "Monsanto Park Circuit",
         "Lisbon",
         "Portugal",
         38.7197,
         -9.20306,
         158.0
        ],
        [
         63,
         "sebring",
         "Sebring International Raceway",
         "Florida",
         "USA",
         27.4547,
         -81.3483,
         18.0
        ],
        [
         64,
         "ain-diab",
         "Ain Diab",
         "Casablanca",
         "Morocco",
         33.5786,
         -7.6875,
         19.0
        ],
        [
         65,
         "pescara",
         "Pescara Circuit",
         "Pescara",
         "Italy",
         42.475,
         14.1508,
         129.0
        ],
        [
         66,
         "bremgarten",
         "Circuit Bremgarten",
         "Bern",
         "Switzerland",
         46.9589,
         7.40194,
         551.0
        ],
        [
         67,
         "pedralbes",
         "Circuit de Pedralbes",
         "Barcelona",
         "Spain",
         41.3903,
         2.11667,
         85.0
        ],
        [
         68,
         "buddh",
         "Buddh International Circuit",
         "Uttar Pradesh",
         "India",
         28.3487,
         77.5331,
         194.0
        ],
        [
         69,
         "americas",
         "Circuit of the Americas",
         "Austin",
         "USA",
         30.1328,
         -97.6411,
         161.0
        ],
        [
         70,
         "red_bull_ring",
         "Red Bull Ring",
         "Spielburg",
         "Austria",
         47.2197,
         14.7647,
         678.0
        ],
        [
         71,
         "sochi",
         "Sochi Autodrom",
         "Sochi",
         "Russia",
         43.4057,
         39.9578,
         2.0
        ],
        [
         72,
         "port_imperial",
         "Port Imperial Street Circuit",
         "New Jersey",
         "USA",
         40.7769,
         -74.0111,
         4.0
        ],
        [
         73,
         "BAK",
         "Baku City Circuit",
         "Baku",
         "Azerbaijan",
         40.3725,
         49.8533,
         -7.0
        ],
        [
         74,
         "hanoi",
         "Hanoi Street Circuit",
         "Hanoi",
         "Vietnam",
         21.0166,
         105.766,
         9.0
        ],
        [
         75,
         "portimao",
         "Autódromo Internacional do Algarve",
         "Portimão",
         "Portugal",
         37.227,
         -8.6267,
         108.0
        ],
        [
         76,
         "mugello",
         "Autodromo Internazionale del Mugello",
         "Mugello",
         "Italy",
         43.9975,
         11.3719,
         255.0
        ],
        [
         77,
         "jeddah",
         "Jeddah Street Circuit",
         "Jeddah",
         "Saudi Arabia",
         21.5433,
         39.1728,
         15.0
        ]
       ],
       "datasetInfos": [],
       "dbfsResultPath": null,
       "isJsonSchema": true,
       "metadata": {},
       "overflow": false,
       "plotOptions": {
        "customPlotOptions": {},
        "displayType": "table",
        "pivotAggregation": null,
        "pivotColumns": null,
        "xColumns": null,
        "yColumns": null
       },
       "removedWidgets": [],
       "schema": [
        {
         "metadata": "{}",
         "name": "circuitId",
         "type": "\"integer\""
        },
        {
         "metadata": "{}",
         "name": "circuitRef",
         "type": "\"string\""
        },
        {
         "metadata": "{}",
         "name": "name",
         "type": "\"string\""
        },
        {
         "metadata": "{}",
         "name": "location",
         "type": "\"string\""
        },
        {
         "metadata": "{}",
         "name": "country",
         "type": "\"string\""
        },
        {
         "metadata": "{}",
         "name": "lat",
         "type": "\"double\""
        },
        {
         "metadata": "{}",
         "name": "lng",
         "type": "\"double\""
        },
        {
         "metadata": "{}",
         "name": "alt",
         "type": "\"double\""
        }
       ],
       "type": "table"
      }
     },
     "output_type": "display_data"
    }
   ],
   "source": [
    "display(circuits_selected_df)"
   ]
  },
  {
   "cell_type": "markdown",
   "metadata": {
    "application/vnd.databricks.v1+cell": {
     "cellMetadata": {},
     "inputWidgets": {},
     "nuid": "c7c05ac7-d72d-4705-9143-c03fdfa627e4",
     "showTitle": false,
     "title": ""
    }
   },
   "source": [
    "### rename the existing columns"
   ]
  },
  {
   "cell_type": "code",
   "execution_count": 0,
   "metadata": {
    "application/vnd.databricks.v1+cell": {
     "cellMetadata": {
      "byteLimit": 2048000,
      "rowLimit": 10000
     },
     "inputWidgets": {},
     "nuid": "f247d027-672b-47fa-93a4-e70888ed53e9",
     "showTitle": false,
     "title": ""
    }
   },
   "outputs": [],
   "source": [
    "circuits_renamed_df = circuits_selected_df.withColumnRenamed(\"circuitId\",\"circuit_id\") \\\n",
    "    .withColumnRenamed(\"circuitRef\",\"circuit_ref\") \\\n",
    "        .withColumnRenamed(\"lat\",\"latitude\") \\\n",
    "            .withColumnRenamed(\"lng\",\"longitude\") \\\n",
    "                .withColumnRenamed(\"alt\",\"altitude\")"
   ]
  },
  {
   "cell_type": "code",
   "execution_count": 0,
   "metadata": {
    "application/vnd.databricks.v1+cell": {
     "cellMetadata": {
      "byteLimit": 2048000,
      "rowLimit": 10000
     },
     "inputWidgets": {},
     "nuid": "f21dc0bc-d751-4671-9895-fd2c1a4d2453",
     "showTitle": false,
     "title": ""
    }
   },
   "outputs": [
    {
     "output_type": "display_data",
     "data": {
      "text/html": [
       "<style scoped>\n",
       "  .table-result-container {\n",
       "    max-height: 300px;\n",
       "    overflow: auto;\n",
       "  }\n",
       "  table, th, td {\n",
       "    border: 1px solid black;\n",
       "    border-collapse: collapse;\n",
       "  }\n",
       "  th, td {\n",
       "    padding: 5px;\n",
       "  }\n",
       "  th {\n",
       "    text-align: left;\n",
       "  }\n",
       "</style><div class='table-result-container'><table class='table-result'><thead style='background-color: white'><tr><th>circuit_id</th><th>circuit_ref</th><th>name</th><th>location</th><th>country</th><th>latitude</th><th>longitude</th><th>altitude</th></tr></thead><tbody><tr><td>1</td><td>albert_park</td><td>Albert Park Grand Prix Circuit</td><td>Melbourne</td><td>Australia</td><td>-37.8497</td><td>144.968</td><td>10.0</td></tr><tr><td>2</td><td>sepang</td><td>Sepang International Circuit</td><td>Kuala Lumpur</td><td>Malaysia</td><td>2.76083</td><td>101.738</td><td>18.0</td></tr><tr><td>3</td><td>bahrain</td><td>Bahrain International Circuit</td><td>Sakhir</td><td>Bahrain</td><td>26.0325</td><td>50.5106</td><td>7.0</td></tr><tr><td>4</td><td>catalunya</td><td>Circuit de Barcelona-Catalunya</td><td>Montmeló</td><td>Spain</td><td>41.57</td><td>2.26111</td><td>109.0</td></tr><tr><td>5</td><td>istanbul</td><td>Istanbul Park</td><td>Istanbul</td><td>Turkey</td><td>40.9517</td><td>29.405</td><td>130.0</td></tr><tr><td>6</td><td>monaco</td><td>Circuit de Monaco</td><td>Monte-Carlo</td><td>Monaco</td><td>43.7347</td><td>7.42056</td><td>7.0</td></tr><tr><td>7</td><td>villeneuve</td><td>Circuit Gilles Villeneuve</td><td>Montreal</td><td>Canada</td><td>45.5</td><td>-73.5228</td><td>13.0</td></tr><tr><td>8</td><td>magny_cours</td><td>Circuit de Nevers Magny-Cours</td><td>Magny Cours</td><td>France</td><td>46.8642</td><td>3.16361</td><td>228.0</td></tr><tr><td>9</td><td>silverstone</td><td>Silverstone Circuit</td><td>Silverstone</td><td>UK</td><td>52.0786</td><td>-1.01694</td><td>153.0</td></tr><tr><td>10</td><td>hockenheimring</td><td>Hockenheimring</td><td>Hockenheim</td><td>Germany</td><td>49.3278</td><td>8.56583</td><td>103.0</td></tr><tr><td>11</td><td>hungaroring</td><td>Hungaroring</td><td>Budapest</td><td>Hungary</td><td>47.5789</td><td>19.2486</td><td>264.0</td></tr><tr><td>12</td><td>valencia</td><td>Valencia Street Circuit</td><td>Valencia</td><td>Spain</td><td>39.4589</td><td>-0.331667</td><td>4.0</td></tr><tr><td>13</td><td>spa</td><td>Circuit de Spa-Francorchamps</td><td>Spa</td><td>Belgium</td><td>50.4372</td><td>5.97139</td><td>401.0</td></tr><tr><td>14</td><td>monza</td><td>Autodromo Nazionale di Monza</td><td>Monza</td><td>Italy</td><td>45.6156</td><td>9.28111</td><td>162.0</td></tr><tr><td>15</td><td>marina_bay</td><td>Marina Bay Street Circuit</td><td>Marina Bay</td><td>Singapore</td><td>1.2914</td><td>103.864</td><td>18.0</td></tr><tr><td>16</td><td>fuji</td><td>Fuji Speedway</td><td>Oyama</td><td>Japan</td><td>35.3717</td><td>138.927</td><td>583.0</td></tr><tr><td>17</td><td>shanghai</td><td>Shanghai International Circuit</td><td>Shanghai</td><td>China</td><td>31.3389</td><td>121.22</td><td>5.0</td></tr><tr><td>18</td><td>interlagos</td><td>Autódromo José Carlos Pace</td><td>São Paulo</td><td>Brazil</td><td>-23.7036</td><td>-46.6997</td><td>785.0</td></tr><tr><td>19</td><td>indianapolis</td><td>Indianapolis Motor Speedway</td><td>Indianapolis</td><td>USA</td><td>39.795</td><td>-86.2347</td><td>223.0</td></tr><tr><td>20</td><td>nurburgring</td><td>Nürburgring</td><td>Nürburg</td><td>Germany</td><td>50.3356</td><td>6.9475</td><td>578.0</td></tr><tr><td>21</td><td>imola</td><td>Autodromo Enzo e Dino Ferrari</td><td>Imola</td><td>Italy</td><td>44.3439</td><td>11.7167</td><td>37.0</td></tr><tr><td>22</td><td>suzuka</td><td>Suzuka Circuit</td><td>Suzuka</td><td>Japan</td><td>34.8431</td><td>136.541</td><td>45.0</td></tr><tr><td>23</td><td>osterreichring</td><td>A1-Ring</td><td>Spielburg</td><td>Austria</td><td>47.2197</td><td>14.7647</td><td>678.0</td></tr><tr><td>24</td><td>yas_marina</td><td>Yas Marina Circuit</td><td>Abu Dhabi</td><td>UAE</td><td>24.4672</td><td>54.6031</td><td>3.0</td></tr><tr><td>25</td><td>galvez</td><td>Autódromo Juan y Oscar Gálvez</td><td>Buenos Aires</td><td>Argentina</td><td>-34.6943</td><td>-58.4593</td><td>8.0</td></tr><tr><td>26</td><td>jerez</td><td>Circuito de Jerez</td><td>Jerez de la Frontera</td><td>Spain</td><td>36.7083</td><td>-6.03417</td><td>37.0</td></tr><tr><td>27</td><td>estoril</td><td>Autódromo do Estoril</td><td>Estoril</td><td>Portugal</td><td>38.7506</td><td>-9.39417</td><td>130.0</td></tr><tr><td>28</td><td>okayama</td><td>Okayama International Circuit</td><td>Okayama</td><td>Japan</td><td>34.915</td><td>134.221</td><td>266.0</td></tr><tr><td>29</td><td>adelaide</td><td>Adelaide Street Circuit</td><td>Adelaide</td><td>Australia</td><td>-34.9272</td><td>138.617</td><td>58.0</td></tr><tr><td>30</td><td>kyalami</td><td>Kyalami</td><td>Midrand</td><td>South Africa</td><td>-25.9894</td><td>28.0767</td><td>1460.0</td></tr><tr><td>31</td><td>donington</td><td>Donington Park</td><td>Castle Donington</td><td>UK</td><td>52.8306</td><td>-1.37528</td><td>88.0</td></tr><tr><td>32</td><td>rodriguez</td><td>Autódromo Hermanos Rodríguez</td><td>Mexico City</td><td>Mexico</td><td>19.4042</td><td>-99.0907</td><td>2227.0</td></tr><tr><td>33</td><td>phoenix</td><td>Phoenix street circuit</td><td>Phoenix</td><td>USA</td><td>33.4479</td><td>-112.075</td><td>345.0</td></tr><tr><td>34</td><td>ricard</td><td>Circuit Paul Ricard</td><td>Le Castellet</td><td>France</td><td>43.2506</td><td>5.79167</td><td>432.0</td></tr><tr><td>35</td><td>yeongam</td><td>Korean International Circuit</td><td>Yeongam County</td><td>Korea</td><td>34.7333</td><td>126.417</td><td>0.0</td></tr><tr><td>36</td><td>jacarepagua</td><td>Autódromo Internacional Nelson Piquet</td><td>Rio de Janeiro</td><td>Brazil</td><td>-22.9756</td><td>-43.395</td><td>1126.0</td></tr><tr><td>37</td><td>detroit</td><td>Detroit Street Circuit</td><td>Detroit</td><td>USA</td><td>42.3298</td><td>-83.0401</td><td>177.0</td></tr><tr><td>38</td><td>brands_hatch</td><td>Brands Hatch</td><td>Kent</td><td>UK</td><td>51.3569</td><td>0.263056</td><td>145.0</td></tr><tr><td>39</td><td>zandvoort</td><td>Circuit Park Zandvoort</td><td>Zandvoort</td><td>Netherlands</td><td>52.3888</td><td>4.54092</td><td>6.0</td></tr><tr><td>40</td><td>zolder</td><td>Zolder</td><td>Heusden-Zolder</td><td>Belgium</td><td>50.9894</td><td>5.25694</td><td>36.0</td></tr><tr><td>41</td><td>dijon</td><td>Dijon-Prenois</td><td>Dijon</td><td>France</td><td>47.3625</td><td>4.89913</td><td>484.0</td></tr><tr><td>42</td><td>dallas</td><td>Fair Park</td><td>Dallas</td><td>USA</td><td>32.7774</td><td>-96.7587</td><td>139.0</td></tr><tr><td>43</td><td>long_beach</td><td>Long Beach</td><td>California</td><td>USA</td><td>33.7651</td><td>-118.189</td><td>12.0</td></tr><tr><td>44</td><td>las_vegas</td><td>Las Vegas Street Circuit</td><td>Nevada</td><td>USA</td><td>36.1162</td><td>-115.174</td><td>639.0</td></tr><tr><td>45</td><td>jarama</td><td>Jarama</td><td>Madrid</td><td>Spain</td><td>40.6171</td><td>-3.58558</td><td>609.0</td></tr><tr><td>46</td><td>watkins_glen</td><td>Watkins Glen</td><td>New York State</td><td>USA</td><td>42.3369</td><td>-76.9272</td><td>485.0</td></tr><tr><td>47</td><td>anderstorp</td><td>Scandinavian Raceway</td><td>Anderstorp</td><td>Sweden</td><td>57.2653</td><td>13.6042</td><td>153.0</td></tr><tr><td>48</td><td>mosport</td><td>Mosport International Raceway</td><td>Ontario</td><td>Canada</td><td>44.0481</td><td>-78.6756</td><td>332.0</td></tr><tr><td>49</td><td>montjuic</td><td>Montjuïc</td><td>Barcelona</td><td>Spain</td><td>41.3664</td><td>2.15167</td><td>79.0</td></tr><tr><td>50</td><td>nivelles</td><td>Nivelles-Baulers</td><td>Brussels</td><td>Belgium</td><td>50.6211</td><td>4.32694</td><td>139.0</td></tr><tr><td>51</td><td>charade</td><td>Charade Circuit</td><td>Clermont-Ferrand</td><td>France</td><td>45.7472</td><td>3.03889</td><td>790.0</td></tr><tr><td>52</td><td>tremblant</td><td>Circuit Mont-Tremblant</td><td>Quebec</td><td>Canada</td><td>46.1877</td><td>-74.6099</td><td>214.0</td></tr><tr><td>53</td><td>essarts</td><td>Rouen-Les-Essarts</td><td>Rouen</td><td>France</td><td>49.3306</td><td>1.00458</td><td>81.0</td></tr><tr><td>54</td><td>lemans</td><td>Le Mans</td><td>Le Mans</td><td>France</td><td>47.95</td><td>0.224231</td><td>67.0</td></tr><tr><td>55</td><td>reims</td><td>Reims-Gueux</td><td>Reims</td><td>France</td><td>49.2542</td><td>3.93083</td><td>88.0</td></tr><tr><td>56</td><td>george</td><td>Prince George Circuit</td><td>Eastern Cape Province</td><td>South Africa</td><td>-33.0486</td><td>27.8736</td><td>15.0</td></tr><tr><td>57</td><td>zeltweg</td><td>Zeltweg</td><td>Styria</td><td>Austria</td><td>47.2039</td><td>14.7478</td><td>676.0</td></tr><tr><td>58</td><td>aintree</td><td>Aintree</td><td>Liverpool</td><td>UK</td><td>53.4769</td><td>-2.94056</td><td>20.0</td></tr><tr><td>59</td><td>boavista</td><td>Circuito da Boavista</td><td>Oporto</td><td>Portugal</td><td>41.1705</td><td>-8.67325</td><td>28.0</td></tr><tr><td>60</td><td>riverside</td><td>Riverside International Raceway</td><td>California</td><td>USA</td><td>33.937</td><td>-117.273</td><td>470.0</td></tr><tr><td>61</td><td>avus</td><td>AVUS</td><td>Berlin</td><td>Germany</td><td>52.4806</td><td>13.2514</td><td>53.0</td></tr><tr><td>62</td><td>monsanto</td><td>Monsanto Park Circuit</td><td>Lisbon</td><td>Portugal</td><td>38.7197</td><td>-9.20306</td><td>158.0</td></tr><tr><td>63</td><td>sebring</td><td>Sebring International Raceway</td><td>Florida</td><td>USA</td><td>27.4547</td><td>-81.3483</td><td>18.0</td></tr><tr><td>64</td><td>ain-diab</td><td>Ain Diab</td><td>Casablanca</td><td>Morocco</td><td>33.5786</td><td>-7.6875</td><td>19.0</td></tr><tr><td>65</td><td>pescara</td><td>Pescara Circuit</td><td>Pescara</td><td>Italy</td><td>42.475</td><td>14.1508</td><td>129.0</td></tr><tr><td>66</td><td>bremgarten</td><td>Circuit Bremgarten</td><td>Bern</td><td>Switzerland</td><td>46.9589</td><td>7.40194</td><td>551.0</td></tr><tr><td>67</td><td>pedralbes</td><td>Circuit de Pedralbes</td><td>Barcelona</td><td>Spain</td><td>41.3903</td><td>2.11667</td><td>85.0</td></tr><tr><td>68</td><td>buddh</td><td>Buddh International Circuit</td><td>Uttar Pradesh</td><td>India</td><td>28.3487</td><td>77.5331</td><td>194.0</td></tr><tr><td>69</td><td>americas</td><td>Circuit of the Americas</td><td>Austin</td><td>USA</td><td>30.1328</td><td>-97.6411</td><td>161.0</td></tr><tr><td>70</td><td>red_bull_ring</td><td>Red Bull Ring</td><td>Spielburg</td><td>Austria</td><td>47.2197</td><td>14.7647</td><td>678.0</td></tr><tr><td>71</td><td>sochi</td><td>Sochi Autodrom</td><td>Sochi</td><td>Russia</td><td>43.4057</td><td>39.9578</td><td>2.0</td></tr><tr><td>72</td><td>port_imperial</td><td>Port Imperial Street Circuit</td><td>New Jersey</td><td>USA</td><td>40.7769</td><td>-74.0111</td><td>4.0</td></tr><tr><td>73</td><td>BAK</td><td>Baku City Circuit</td><td>Baku</td><td>Azerbaijan</td><td>40.3725</td><td>49.8533</td><td>-7.0</td></tr><tr><td>74</td><td>hanoi</td><td>Hanoi Street Circuit</td><td>Hanoi</td><td>Vietnam</td><td>21.0166</td><td>105.766</td><td>9.0</td></tr><tr><td>75</td><td>portimao</td><td>Autódromo Internacional do Algarve</td><td>Portimão</td><td>Portugal</td><td>37.227</td><td>-8.6267</td><td>108.0</td></tr><tr><td>76</td><td>mugello</td><td>Autodromo Internazionale del Mugello</td><td>Mugello</td><td>Italy</td><td>43.9975</td><td>11.3719</td><td>255.0</td></tr><tr><td>77</td><td>jeddah</td><td>Jeddah Street Circuit</td><td>Jeddah</td><td>Saudi Arabia</td><td>21.5433</td><td>39.1728</td><td>15.0</td></tr></tbody></table></div>"
      ]
     },
     "metadata": {
      "application/vnd.databricks.v1+output": {
       "addedWidgets": {},
       "aggData": [],
       "aggError": "",
       "aggOverflow": false,
       "aggSchema": [],
       "aggSeriesLimitReached": false,
       "aggType": "",
       "arguments": {},
       "columnCustomDisplayInfos": {},
       "data": [
        [
         1,
         "albert_park",
         "Albert Park Grand Prix Circuit",
         "Melbourne",
         "Australia",
         -37.8497,
         144.968,
         10.0
        ],
        [
         2,
         "sepang",
         "Sepang International Circuit",
         "Kuala Lumpur",
         "Malaysia",
         2.76083,
         101.738,
         18.0
        ],
        [
         3,
         "bahrain",
         "Bahrain International Circuit",
         "Sakhir",
         "Bahrain",
         26.0325,
         50.5106,
         7.0
        ],
        [
         4,
         "catalunya",
         "Circuit de Barcelona-Catalunya",
         "Montmeló",
         "Spain",
         41.57,
         2.26111,
         109.0
        ],
        [
         5,
         "istanbul",
         "Istanbul Park",
         "Istanbul",
         "Turkey",
         40.9517,
         29.405,
         130.0
        ],
        [
         6,
         "monaco",
         "Circuit de Monaco",
         "Monte-Carlo",
         "Monaco",
         43.7347,
         7.42056,
         7.0
        ],
        [
         7,
         "villeneuve",
         "Circuit Gilles Villeneuve",
         "Montreal",
         "Canada",
         45.5,
         -73.5228,
         13.0
        ],
        [
         8,
         "magny_cours",
         "Circuit de Nevers Magny-Cours",
         "Magny Cours",
         "France",
         46.8642,
         3.16361,
         228.0
        ],
        [
         9,
         "silverstone",
         "Silverstone Circuit",
         "Silverstone",
         "UK",
         52.0786,
         -1.01694,
         153.0
        ],
        [
         10,
         "hockenheimring",
         "Hockenheimring",
         "Hockenheim",
         "Germany",
         49.3278,
         8.56583,
         103.0
        ],
        [
         11,
         "hungaroring",
         "Hungaroring",
         "Budapest",
         "Hungary",
         47.5789,
         19.2486,
         264.0
        ],
        [
         12,
         "valencia",
         "Valencia Street Circuit",
         "Valencia",
         "Spain",
         39.4589,
         -0.331667,
         4.0
        ],
        [
         13,
         "spa",
         "Circuit de Spa-Francorchamps",
         "Spa",
         "Belgium",
         50.4372,
         5.97139,
         401.0
        ],
        [
         14,
         "monza",
         "Autodromo Nazionale di Monza",
         "Monza",
         "Italy",
         45.6156,
         9.28111,
         162.0
        ],
        [
         15,
         "marina_bay",
         "Marina Bay Street Circuit",
         "Marina Bay",
         "Singapore",
         1.2914,
         103.864,
         18.0
        ],
        [
         16,
         "fuji",
         "Fuji Speedway",
         "Oyama",
         "Japan",
         35.3717,
         138.927,
         583.0
        ],
        [
         17,
         "shanghai",
         "Shanghai International Circuit",
         "Shanghai",
         "China",
         31.3389,
         121.22,
         5.0
        ],
        [
         18,
         "interlagos",
         "Autódromo José Carlos Pace",
         "São Paulo",
         "Brazil",
         -23.7036,
         -46.6997,
         785.0
        ],
        [
         19,
         "indianapolis",
         "Indianapolis Motor Speedway",
         "Indianapolis",
         "USA",
         39.795,
         -86.2347,
         223.0
        ],
        [
         20,
         "nurburgring",
         "Nürburgring",
         "Nürburg",
         "Germany",
         50.3356,
         6.9475,
         578.0
        ],
        [
         21,
         "imola",
         "Autodromo Enzo e Dino Ferrari",
         "Imola",
         "Italy",
         44.3439,
         11.7167,
         37.0
        ],
        [
         22,
         "suzuka",
         "Suzuka Circuit",
         "Suzuka",
         "Japan",
         34.8431,
         136.541,
         45.0
        ],
        [
         23,
         "osterreichring",
         "A1-Ring",
         "Spielburg",
         "Austria",
         47.2197,
         14.7647,
         678.0
        ],
        [
         24,
         "yas_marina",
         "Yas Marina Circuit",
         "Abu Dhabi",
         "UAE",
         24.4672,
         54.6031,
         3.0
        ],
        [
         25,
         "galvez",
         "Autódromo Juan y Oscar Gálvez",
         "Buenos Aires",
         "Argentina",
         -34.6943,
         -58.4593,
         8.0
        ],
        [
         26,
         "jerez",
         "Circuito de Jerez",
         "Jerez de la Frontera",
         "Spain",
         36.7083,
         -6.03417,
         37.0
        ],
        [
         27,
         "estoril",
         "Autódromo do Estoril",
         "Estoril",
         "Portugal",
         38.7506,
         -9.39417,
         130.0
        ],
        [
         28,
         "okayama",
         "Okayama International Circuit",
         "Okayama",
         "Japan",
         34.915,
         134.221,
         266.0
        ],
        [
         29,
         "adelaide",
         "Adelaide Street Circuit",
         "Adelaide",
         "Australia",
         -34.9272,
         138.617,
         58.0
        ],
        [
         30,
         "kyalami",
         "Kyalami",
         "Midrand",
         "South Africa",
         -25.9894,
         28.0767,
         1460.0
        ],
        [
         31,
         "donington",
         "Donington Park",
         "Castle Donington",
         "UK",
         52.8306,
         -1.37528,
         88.0
        ],
        [
         32,
         "rodriguez",
         "Autódromo Hermanos Rodríguez",
         "Mexico City",
         "Mexico",
         19.4042,
         -99.0907,
         2227.0
        ],
        [
         33,
         "phoenix",
         "Phoenix street circuit",
         "Phoenix",
         "USA",
         33.4479,
         -112.075,
         345.0
        ],
        [
         34,
         "ricard",
         "Circuit Paul Ricard",
         "Le Castellet",
         "France",
         43.2506,
         5.79167,
         432.0
        ],
        [
         35,
         "yeongam",
         "Korean International Circuit",
         "Yeongam County",
         "Korea",
         34.7333,
         126.417,
         0.0
        ],
        [
         36,
         "jacarepagua",
         "Autódromo Internacional Nelson Piquet",
         "Rio de Janeiro",
         "Brazil",
         -22.9756,
         -43.395,
         1126.0
        ],
        [
         37,
         "detroit",
         "Detroit Street Circuit",
         "Detroit",
         "USA",
         42.3298,
         -83.0401,
         177.0
        ],
        [
         38,
         "brands_hatch",
         "Brands Hatch",
         "Kent",
         "UK",
         51.3569,
         0.263056,
         145.0
        ],
        [
         39,
         "zandvoort",
         "Circuit Park Zandvoort",
         "Zandvoort",
         "Netherlands",
         52.3888,
         4.54092,
         6.0
        ],
        [
         40,
         "zolder",
         "Zolder",
         "Heusden-Zolder",
         "Belgium",
         50.9894,
         5.25694,
         36.0
        ],
        [
         41,
         "dijon",
         "Dijon-Prenois",
         "Dijon",
         "France",
         47.3625,
         4.89913,
         484.0
        ],
        [
         42,
         "dallas",
         "Fair Park",
         "Dallas",
         "USA",
         32.7774,
         -96.7587,
         139.0
        ],
        [
         43,
         "long_beach",
         "Long Beach",
         "California",
         "USA",
         33.7651,
         -118.189,
         12.0
        ],
        [
         44,
         "las_vegas",
         "Las Vegas Street Circuit",
         "Nevada",
         "USA",
         36.1162,
         -115.174,
         639.0
        ],
        [
         45,
         "jarama",
         "Jarama",
         "Madrid",
         "Spain",
         40.6171,
         -3.58558,
         609.0
        ],
        [
         46,
         "watkins_glen",
         "Watkins Glen",
         "New York State",
         "USA",
         42.3369,
         -76.9272,
         485.0
        ],
        [
         47,
         "anderstorp",
         "Scandinavian Raceway",
         "Anderstorp",
         "Sweden",
         57.2653,
         13.6042,
         153.0
        ],
        [
         48,
         "mosport",
         "Mosport International Raceway",
         "Ontario",
         "Canada",
         44.0481,
         -78.6756,
         332.0
        ],
        [
         49,
         "montjuic",
         "Montjuïc",
         "Barcelona",
         "Spain",
         41.3664,
         2.15167,
         79.0
        ],
        [
         50,
         "nivelles",
         "Nivelles-Baulers",
         "Brussels",
         "Belgium",
         50.6211,
         4.32694,
         139.0
        ],
        [
         51,
         "charade",
         "Charade Circuit",
         "Clermont-Ferrand",
         "France",
         45.7472,
         3.03889,
         790.0
        ],
        [
         52,
         "tremblant",
         "Circuit Mont-Tremblant",
         "Quebec",
         "Canada",
         46.1877,
         -74.6099,
         214.0
        ],
        [
         53,
         "essarts",
         "Rouen-Les-Essarts",
         "Rouen",
         "France",
         49.3306,
         1.00458,
         81.0
        ],
        [
         54,
         "lemans",
         "Le Mans",
         "Le Mans",
         "France",
         47.95,
         0.224231,
         67.0
        ],
        [
         55,
         "reims",
         "Reims-Gueux",
         "Reims",
         "France",
         49.2542,
         3.93083,
         88.0
        ],
        [
         56,
         "george",
         "Prince George Circuit",
         "Eastern Cape Province",
         "South Africa",
         -33.0486,
         27.8736,
         15.0
        ],
        [
         57,
         "zeltweg",
         "Zeltweg",
         "Styria",
         "Austria",
         47.2039,
         14.7478,
         676.0
        ],
        [
         58,
         "aintree",
         "Aintree",
         "Liverpool",
         "UK",
         53.4769,
         -2.94056,
         20.0
        ],
        [
         59,
         "boavista",
         "Circuito da Boavista",
         "Oporto",
         "Portugal",
         41.1705,
         -8.67325,
         28.0
        ],
        [
         60,
         "riverside",
         "Riverside International Raceway",
         "California",
         "USA",
         33.937,
         -117.273,
         470.0
        ],
        [
         61,
         "avus",
         "AVUS",
         "Berlin",
         "Germany",
         52.4806,
         13.2514,
         53.0
        ],
        [
         62,
         "monsanto",
         "Monsanto Park Circuit",
         "Lisbon",
         "Portugal",
         38.7197,
         -9.20306,
         158.0
        ],
        [
         63,
         "sebring",
         "Sebring International Raceway",
         "Florida",
         "USA",
         27.4547,
         -81.3483,
         18.0
        ],
        [
         64,
         "ain-diab",
         "Ain Diab",
         "Casablanca",
         "Morocco",
         33.5786,
         -7.6875,
         19.0
        ],
        [
         65,
         "pescara",
         "Pescara Circuit",
         "Pescara",
         "Italy",
         42.475,
         14.1508,
         129.0
        ],
        [
         66,
         "bremgarten",
         "Circuit Bremgarten",
         "Bern",
         "Switzerland",
         46.9589,
         7.40194,
         551.0
        ],
        [
         67,
         "pedralbes",
         "Circuit de Pedralbes",
         "Barcelona",
         "Spain",
         41.3903,
         2.11667,
         85.0
        ],
        [
         68,
         "buddh",
         "Buddh International Circuit",
         "Uttar Pradesh",
         "India",
         28.3487,
         77.5331,
         194.0
        ],
        [
         69,
         "americas",
         "Circuit of the Americas",
         "Austin",
         "USA",
         30.1328,
         -97.6411,
         161.0
        ],
        [
         70,
         "red_bull_ring",
         "Red Bull Ring",
         "Spielburg",
         "Austria",
         47.2197,
         14.7647,
         678.0
        ],
        [
         71,
         "sochi",
         "Sochi Autodrom",
         "Sochi",
         "Russia",
         43.4057,
         39.9578,
         2.0
        ],
        [
         72,
         "port_imperial",
         "Port Imperial Street Circuit",
         "New Jersey",
         "USA",
         40.7769,
         -74.0111,
         4.0
        ],
        [
         73,
         "BAK",
         "Baku City Circuit",
         "Baku",
         "Azerbaijan",
         40.3725,
         49.8533,
         -7.0
        ],
        [
         74,
         "hanoi",
         "Hanoi Street Circuit",
         "Hanoi",
         "Vietnam",
         21.0166,
         105.766,
         9.0
        ],
        [
         75,
         "portimao",
         "Autódromo Internacional do Algarve",
         "Portimão",
         "Portugal",
         37.227,
         -8.6267,
         108.0
        ],
        [
         76,
         "mugello",
         "Autodromo Internazionale del Mugello",
         "Mugello",
         "Italy",
         43.9975,
         11.3719,
         255.0
        ],
        [
         77,
         "jeddah",
         "Jeddah Street Circuit",
         "Jeddah",
         "Saudi Arabia",
         21.5433,
         39.1728,
         15.0
        ]
       ],
       "datasetInfos": [],
       "dbfsResultPath": null,
       "isJsonSchema": true,
       "metadata": {},
       "overflow": false,
       "plotOptions": {
        "customPlotOptions": {},
        "displayType": "table",
        "pivotAggregation": null,
        "pivotColumns": null,
        "xColumns": null,
        "yColumns": null
       },
       "removedWidgets": [],
       "schema": [
        {
         "metadata": "{}",
         "name": "circuit_id",
         "type": "\"integer\""
        },
        {
         "metadata": "{}",
         "name": "circuit_ref",
         "type": "\"string\""
        },
        {
         "metadata": "{}",
         "name": "name",
         "type": "\"string\""
        },
        {
         "metadata": "{}",
         "name": "location",
         "type": "\"string\""
        },
        {
         "metadata": "{}",
         "name": "country",
         "type": "\"string\""
        },
        {
         "metadata": "{}",
         "name": "latitude",
         "type": "\"double\""
        },
        {
         "metadata": "{}",
         "name": "longitude",
         "type": "\"double\""
        },
        {
         "metadata": "{}",
         "name": "altitude",
         "type": "\"double\""
        }
       ],
       "type": "table"
      }
     },
     "output_type": "display_data"
    }
   ],
   "source": [
    "display(circuits_renamed_df)"
   ]
  },
  {
   "cell_type": "markdown",
   "metadata": {
    "application/vnd.databricks.v1+cell": {
     "cellMetadata": {},
     "inputWidgets": {},
     "nuid": "cee42d35-678f-4ac5-b357-cdbc5906d6ed",
     "showTitle": false,
     "title": ""
    }
   },
   "source": [
    "##### Add ingestion date to the dataframe"
   ]
  },
  {
   "cell_type": "code",
   "execution_count": 0,
   "metadata": {
    "application/vnd.databricks.v1+cell": {
     "cellMetadata": {
      "byteLimit": 2048000,
      "rowLimit": 10000
     },
     "inputWidgets": {},
     "nuid": "8dd37e0b-15c3-42c6-ab2a-3f7da5fc79ef",
     "showTitle": false,
     "title": ""
    }
   },
   "outputs": [],
   "source": [
    "from pyspark.sql.functions import current_timestamp\n",
    "circuits_final_df = circuits_renamed_df.withColumn(\"ingestion_date\",current_timestamp())"
   ]
  },
  {
   "cell_type": "code",
   "execution_count": 0,
   "metadata": {
    "application/vnd.databricks.v1+cell": {
     "cellMetadata": {
      "byteLimit": 2048000,
      "rowLimit": 10000
     },
     "inputWidgets": {},
     "nuid": "4adddb8d-2082-4577-8500-c2fb74f2c682",
     "showTitle": false,
     "title": ""
    }
   },
   "outputs": [
    {
     "output_type": "display_data",
     "data": {
      "text/html": [
       "<style scoped>\n",
       "  .table-result-container {\n",
       "    max-height: 300px;\n",
       "    overflow: auto;\n",
       "  }\n",
       "  table, th, td {\n",
       "    border: 1px solid black;\n",
       "    border-collapse: collapse;\n",
       "  }\n",
       "  th, td {\n",
       "    padding: 5px;\n",
       "  }\n",
       "  th {\n",
       "    text-align: left;\n",
       "  }\n",
       "</style><div class='table-result-container'><table class='table-result'><thead style='background-color: white'><tr><th>circuit_id</th><th>circuit_ref</th><th>name</th><th>location</th><th>country</th><th>latitude</th><th>longitude</th><th>altitude</th><th>ingestion_date</th></tr></thead><tbody><tr><td>1</td><td>albert_park</td><td>Albert Park Grand Prix Circuit</td><td>Melbourne</td><td>Australia</td><td>-37.8497</td><td>144.968</td><td>10.0</td><td>2024-10-24T21:06:52.953Z</td></tr><tr><td>2</td><td>sepang</td><td>Sepang International Circuit</td><td>Kuala Lumpur</td><td>Malaysia</td><td>2.76083</td><td>101.738</td><td>18.0</td><td>2024-10-24T21:06:52.953Z</td></tr><tr><td>3</td><td>bahrain</td><td>Bahrain International Circuit</td><td>Sakhir</td><td>Bahrain</td><td>26.0325</td><td>50.5106</td><td>7.0</td><td>2024-10-24T21:06:52.953Z</td></tr><tr><td>4</td><td>catalunya</td><td>Circuit de Barcelona-Catalunya</td><td>Montmeló</td><td>Spain</td><td>41.57</td><td>2.26111</td><td>109.0</td><td>2024-10-24T21:06:52.953Z</td></tr><tr><td>5</td><td>istanbul</td><td>Istanbul Park</td><td>Istanbul</td><td>Turkey</td><td>40.9517</td><td>29.405</td><td>130.0</td><td>2024-10-24T21:06:52.953Z</td></tr><tr><td>6</td><td>monaco</td><td>Circuit de Monaco</td><td>Monte-Carlo</td><td>Monaco</td><td>43.7347</td><td>7.42056</td><td>7.0</td><td>2024-10-24T21:06:52.953Z</td></tr><tr><td>7</td><td>villeneuve</td><td>Circuit Gilles Villeneuve</td><td>Montreal</td><td>Canada</td><td>45.5</td><td>-73.5228</td><td>13.0</td><td>2024-10-24T21:06:52.953Z</td></tr><tr><td>8</td><td>magny_cours</td><td>Circuit de Nevers Magny-Cours</td><td>Magny Cours</td><td>France</td><td>46.8642</td><td>3.16361</td><td>228.0</td><td>2024-10-24T21:06:52.953Z</td></tr><tr><td>9</td><td>silverstone</td><td>Silverstone Circuit</td><td>Silverstone</td><td>UK</td><td>52.0786</td><td>-1.01694</td><td>153.0</td><td>2024-10-24T21:06:52.953Z</td></tr><tr><td>10</td><td>hockenheimring</td><td>Hockenheimring</td><td>Hockenheim</td><td>Germany</td><td>49.3278</td><td>8.56583</td><td>103.0</td><td>2024-10-24T21:06:52.953Z</td></tr><tr><td>11</td><td>hungaroring</td><td>Hungaroring</td><td>Budapest</td><td>Hungary</td><td>47.5789</td><td>19.2486</td><td>264.0</td><td>2024-10-24T21:06:52.953Z</td></tr><tr><td>12</td><td>valencia</td><td>Valencia Street Circuit</td><td>Valencia</td><td>Spain</td><td>39.4589</td><td>-0.331667</td><td>4.0</td><td>2024-10-24T21:06:52.953Z</td></tr><tr><td>13</td><td>spa</td><td>Circuit de Spa-Francorchamps</td><td>Spa</td><td>Belgium</td><td>50.4372</td><td>5.97139</td><td>401.0</td><td>2024-10-24T21:06:52.953Z</td></tr><tr><td>14</td><td>monza</td><td>Autodromo Nazionale di Monza</td><td>Monza</td><td>Italy</td><td>45.6156</td><td>9.28111</td><td>162.0</td><td>2024-10-24T21:06:52.953Z</td></tr><tr><td>15</td><td>marina_bay</td><td>Marina Bay Street Circuit</td><td>Marina Bay</td><td>Singapore</td><td>1.2914</td><td>103.864</td><td>18.0</td><td>2024-10-24T21:06:52.953Z</td></tr><tr><td>16</td><td>fuji</td><td>Fuji Speedway</td><td>Oyama</td><td>Japan</td><td>35.3717</td><td>138.927</td><td>583.0</td><td>2024-10-24T21:06:52.953Z</td></tr><tr><td>17</td><td>shanghai</td><td>Shanghai International Circuit</td><td>Shanghai</td><td>China</td><td>31.3389</td><td>121.22</td><td>5.0</td><td>2024-10-24T21:06:52.953Z</td></tr><tr><td>18</td><td>interlagos</td><td>Autódromo José Carlos Pace</td><td>São Paulo</td><td>Brazil</td><td>-23.7036</td><td>-46.6997</td><td>785.0</td><td>2024-10-24T21:06:52.953Z</td></tr><tr><td>19</td><td>indianapolis</td><td>Indianapolis Motor Speedway</td><td>Indianapolis</td><td>USA</td><td>39.795</td><td>-86.2347</td><td>223.0</td><td>2024-10-24T21:06:52.953Z</td></tr><tr><td>20</td><td>nurburgring</td><td>Nürburgring</td><td>Nürburg</td><td>Germany</td><td>50.3356</td><td>6.9475</td><td>578.0</td><td>2024-10-24T21:06:52.953Z</td></tr><tr><td>21</td><td>imola</td><td>Autodromo Enzo e Dino Ferrari</td><td>Imola</td><td>Italy</td><td>44.3439</td><td>11.7167</td><td>37.0</td><td>2024-10-24T21:06:52.953Z</td></tr><tr><td>22</td><td>suzuka</td><td>Suzuka Circuit</td><td>Suzuka</td><td>Japan</td><td>34.8431</td><td>136.541</td><td>45.0</td><td>2024-10-24T21:06:52.953Z</td></tr><tr><td>23</td><td>osterreichring</td><td>A1-Ring</td><td>Spielburg</td><td>Austria</td><td>47.2197</td><td>14.7647</td><td>678.0</td><td>2024-10-24T21:06:52.953Z</td></tr><tr><td>24</td><td>yas_marina</td><td>Yas Marina Circuit</td><td>Abu Dhabi</td><td>UAE</td><td>24.4672</td><td>54.6031</td><td>3.0</td><td>2024-10-24T21:06:52.953Z</td></tr><tr><td>25</td><td>galvez</td><td>Autódromo Juan y Oscar Gálvez</td><td>Buenos Aires</td><td>Argentina</td><td>-34.6943</td><td>-58.4593</td><td>8.0</td><td>2024-10-24T21:06:52.953Z</td></tr><tr><td>26</td><td>jerez</td><td>Circuito de Jerez</td><td>Jerez de la Frontera</td><td>Spain</td><td>36.7083</td><td>-6.03417</td><td>37.0</td><td>2024-10-24T21:06:52.953Z</td></tr><tr><td>27</td><td>estoril</td><td>Autódromo do Estoril</td><td>Estoril</td><td>Portugal</td><td>38.7506</td><td>-9.39417</td><td>130.0</td><td>2024-10-24T21:06:52.953Z</td></tr><tr><td>28</td><td>okayama</td><td>Okayama International Circuit</td><td>Okayama</td><td>Japan</td><td>34.915</td><td>134.221</td><td>266.0</td><td>2024-10-24T21:06:52.953Z</td></tr><tr><td>29</td><td>adelaide</td><td>Adelaide Street Circuit</td><td>Adelaide</td><td>Australia</td><td>-34.9272</td><td>138.617</td><td>58.0</td><td>2024-10-24T21:06:52.953Z</td></tr><tr><td>30</td><td>kyalami</td><td>Kyalami</td><td>Midrand</td><td>South Africa</td><td>-25.9894</td><td>28.0767</td><td>1460.0</td><td>2024-10-24T21:06:52.953Z</td></tr><tr><td>31</td><td>donington</td><td>Donington Park</td><td>Castle Donington</td><td>UK</td><td>52.8306</td><td>-1.37528</td><td>88.0</td><td>2024-10-24T21:06:52.953Z</td></tr><tr><td>32</td><td>rodriguez</td><td>Autódromo Hermanos Rodríguez</td><td>Mexico City</td><td>Mexico</td><td>19.4042</td><td>-99.0907</td><td>2227.0</td><td>2024-10-24T21:06:52.953Z</td></tr><tr><td>33</td><td>phoenix</td><td>Phoenix street circuit</td><td>Phoenix</td><td>USA</td><td>33.4479</td><td>-112.075</td><td>345.0</td><td>2024-10-24T21:06:52.953Z</td></tr><tr><td>34</td><td>ricard</td><td>Circuit Paul Ricard</td><td>Le Castellet</td><td>France</td><td>43.2506</td><td>5.79167</td><td>432.0</td><td>2024-10-24T21:06:52.953Z</td></tr><tr><td>35</td><td>yeongam</td><td>Korean International Circuit</td><td>Yeongam County</td><td>Korea</td><td>34.7333</td><td>126.417</td><td>0.0</td><td>2024-10-24T21:06:52.953Z</td></tr><tr><td>36</td><td>jacarepagua</td><td>Autódromo Internacional Nelson Piquet</td><td>Rio de Janeiro</td><td>Brazil</td><td>-22.9756</td><td>-43.395</td><td>1126.0</td><td>2024-10-24T21:06:52.953Z</td></tr><tr><td>37</td><td>detroit</td><td>Detroit Street Circuit</td><td>Detroit</td><td>USA</td><td>42.3298</td><td>-83.0401</td><td>177.0</td><td>2024-10-24T21:06:52.953Z</td></tr><tr><td>38</td><td>brands_hatch</td><td>Brands Hatch</td><td>Kent</td><td>UK</td><td>51.3569</td><td>0.263056</td><td>145.0</td><td>2024-10-24T21:06:52.953Z</td></tr><tr><td>39</td><td>zandvoort</td><td>Circuit Park Zandvoort</td><td>Zandvoort</td><td>Netherlands</td><td>52.3888</td><td>4.54092</td><td>6.0</td><td>2024-10-24T21:06:52.953Z</td></tr><tr><td>40</td><td>zolder</td><td>Zolder</td><td>Heusden-Zolder</td><td>Belgium</td><td>50.9894</td><td>5.25694</td><td>36.0</td><td>2024-10-24T21:06:52.953Z</td></tr><tr><td>41</td><td>dijon</td><td>Dijon-Prenois</td><td>Dijon</td><td>France</td><td>47.3625</td><td>4.89913</td><td>484.0</td><td>2024-10-24T21:06:52.953Z</td></tr><tr><td>42</td><td>dallas</td><td>Fair Park</td><td>Dallas</td><td>USA</td><td>32.7774</td><td>-96.7587</td><td>139.0</td><td>2024-10-24T21:06:52.953Z</td></tr><tr><td>43</td><td>long_beach</td><td>Long Beach</td><td>California</td><td>USA</td><td>33.7651</td><td>-118.189</td><td>12.0</td><td>2024-10-24T21:06:52.953Z</td></tr><tr><td>44</td><td>las_vegas</td><td>Las Vegas Street Circuit</td><td>Nevada</td><td>USA</td><td>36.1162</td><td>-115.174</td><td>639.0</td><td>2024-10-24T21:06:52.953Z</td></tr><tr><td>45</td><td>jarama</td><td>Jarama</td><td>Madrid</td><td>Spain</td><td>40.6171</td><td>-3.58558</td><td>609.0</td><td>2024-10-24T21:06:52.953Z</td></tr><tr><td>46</td><td>watkins_glen</td><td>Watkins Glen</td><td>New York State</td><td>USA</td><td>42.3369</td><td>-76.9272</td><td>485.0</td><td>2024-10-24T21:06:52.953Z</td></tr><tr><td>47</td><td>anderstorp</td><td>Scandinavian Raceway</td><td>Anderstorp</td><td>Sweden</td><td>57.2653</td><td>13.6042</td><td>153.0</td><td>2024-10-24T21:06:52.953Z</td></tr><tr><td>48</td><td>mosport</td><td>Mosport International Raceway</td><td>Ontario</td><td>Canada</td><td>44.0481</td><td>-78.6756</td><td>332.0</td><td>2024-10-24T21:06:52.953Z</td></tr><tr><td>49</td><td>montjuic</td><td>Montjuïc</td><td>Barcelona</td><td>Spain</td><td>41.3664</td><td>2.15167</td><td>79.0</td><td>2024-10-24T21:06:52.953Z</td></tr><tr><td>50</td><td>nivelles</td><td>Nivelles-Baulers</td><td>Brussels</td><td>Belgium</td><td>50.6211</td><td>4.32694</td><td>139.0</td><td>2024-10-24T21:06:52.953Z</td></tr><tr><td>51</td><td>charade</td><td>Charade Circuit</td><td>Clermont-Ferrand</td><td>France</td><td>45.7472</td><td>3.03889</td><td>790.0</td><td>2024-10-24T21:06:52.953Z</td></tr><tr><td>52</td><td>tremblant</td><td>Circuit Mont-Tremblant</td><td>Quebec</td><td>Canada</td><td>46.1877</td><td>-74.6099</td><td>214.0</td><td>2024-10-24T21:06:52.953Z</td></tr><tr><td>53</td><td>essarts</td><td>Rouen-Les-Essarts</td><td>Rouen</td><td>France</td><td>49.3306</td><td>1.00458</td><td>81.0</td><td>2024-10-24T21:06:52.953Z</td></tr><tr><td>54</td><td>lemans</td><td>Le Mans</td><td>Le Mans</td><td>France</td><td>47.95</td><td>0.224231</td><td>67.0</td><td>2024-10-24T21:06:52.953Z</td></tr><tr><td>55</td><td>reims</td><td>Reims-Gueux</td><td>Reims</td><td>France</td><td>49.2542</td><td>3.93083</td><td>88.0</td><td>2024-10-24T21:06:52.953Z</td></tr><tr><td>56</td><td>george</td><td>Prince George Circuit</td><td>Eastern Cape Province</td><td>South Africa</td><td>-33.0486</td><td>27.8736</td><td>15.0</td><td>2024-10-24T21:06:52.953Z</td></tr><tr><td>57</td><td>zeltweg</td><td>Zeltweg</td><td>Styria</td><td>Austria</td><td>47.2039</td><td>14.7478</td><td>676.0</td><td>2024-10-24T21:06:52.953Z</td></tr><tr><td>58</td><td>aintree</td><td>Aintree</td><td>Liverpool</td><td>UK</td><td>53.4769</td><td>-2.94056</td><td>20.0</td><td>2024-10-24T21:06:52.953Z</td></tr><tr><td>59</td><td>boavista</td><td>Circuito da Boavista</td><td>Oporto</td><td>Portugal</td><td>41.1705</td><td>-8.67325</td><td>28.0</td><td>2024-10-24T21:06:52.953Z</td></tr><tr><td>60</td><td>riverside</td><td>Riverside International Raceway</td><td>California</td><td>USA</td><td>33.937</td><td>-117.273</td><td>470.0</td><td>2024-10-24T21:06:52.953Z</td></tr><tr><td>61</td><td>avus</td><td>AVUS</td><td>Berlin</td><td>Germany</td><td>52.4806</td><td>13.2514</td><td>53.0</td><td>2024-10-24T21:06:52.953Z</td></tr><tr><td>62</td><td>monsanto</td><td>Monsanto Park Circuit</td><td>Lisbon</td><td>Portugal</td><td>38.7197</td><td>-9.20306</td><td>158.0</td><td>2024-10-24T21:06:52.953Z</td></tr><tr><td>63</td><td>sebring</td><td>Sebring International Raceway</td><td>Florida</td><td>USA</td><td>27.4547</td><td>-81.3483</td><td>18.0</td><td>2024-10-24T21:06:52.953Z</td></tr><tr><td>64</td><td>ain-diab</td><td>Ain Diab</td><td>Casablanca</td><td>Morocco</td><td>33.5786</td><td>-7.6875</td><td>19.0</td><td>2024-10-24T21:06:52.953Z</td></tr><tr><td>65</td><td>pescara</td><td>Pescara Circuit</td><td>Pescara</td><td>Italy</td><td>42.475</td><td>14.1508</td><td>129.0</td><td>2024-10-24T21:06:52.953Z</td></tr><tr><td>66</td><td>bremgarten</td><td>Circuit Bremgarten</td><td>Bern</td><td>Switzerland</td><td>46.9589</td><td>7.40194</td><td>551.0</td><td>2024-10-24T21:06:52.953Z</td></tr><tr><td>67</td><td>pedralbes</td><td>Circuit de Pedralbes</td><td>Barcelona</td><td>Spain</td><td>41.3903</td><td>2.11667</td><td>85.0</td><td>2024-10-24T21:06:52.953Z</td></tr><tr><td>68</td><td>buddh</td><td>Buddh International Circuit</td><td>Uttar Pradesh</td><td>India</td><td>28.3487</td><td>77.5331</td><td>194.0</td><td>2024-10-24T21:06:52.953Z</td></tr><tr><td>69</td><td>americas</td><td>Circuit of the Americas</td><td>Austin</td><td>USA</td><td>30.1328</td><td>-97.6411</td><td>161.0</td><td>2024-10-24T21:06:52.953Z</td></tr><tr><td>70</td><td>red_bull_ring</td><td>Red Bull Ring</td><td>Spielburg</td><td>Austria</td><td>47.2197</td><td>14.7647</td><td>678.0</td><td>2024-10-24T21:06:52.953Z</td></tr><tr><td>71</td><td>sochi</td><td>Sochi Autodrom</td><td>Sochi</td><td>Russia</td><td>43.4057</td><td>39.9578</td><td>2.0</td><td>2024-10-24T21:06:52.953Z</td></tr><tr><td>72</td><td>port_imperial</td><td>Port Imperial Street Circuit</td><td>New Jersey</td><td>USA</td><td>40.7769</td><td>-74.0111</td><td>4.0</td><td>2024-10-24T21:06:52.953Z</td></tr><tr><td>73</td><td>BAK</td><td>Baku City Circuit</td><td>Baku</td><td>Azerbaijan</td><td>40.3725</td><td>49.8533</td><td>-7.0</td><td>2024-10-24T21:06:52.953Z</td></tr><tr><td>74</td><td>hanoi</td><td>Hanoi Street Circuit</td><td>Hanoi</td><td>Vietnam</td><td>21.0166</td><td>105.766</td><td>9.0</td><td>2024-10-24T21:06:52.953Z</td></tr><tr><td>75</td><td>portimao</td><td>Autódromo Internacional do Algarve</td><td>Portimão</td><td>Portugal</td><td>37.227</td><td>-8.6267</td><td>108.0</td><td>2024-10-24T21:06:52.953Z</td></tr><tr><td>76</td><td>mugello</td><td>Autodromo Internazionale del Mugello</td><td>Mugello</td><td>Italy</td><td>43.9975</td><td>11.3719</td><td>255.0</td><td>2024-10-24T21:06:52.953Z</td></tr><tr><td>77</td><td>jeddah</td><td>Jeddah Street Circuit</td><td>Jeddah</td><td>Saudi Arabia</td><td>21.5433</td><td>39.1728</td><td>15.0</td><td>2024-10-24T21:06:52.953Z</td></tr></tbody></table></div>"
      ]
     },
     "metadata": {
      "application/vnd.databricks.v1+output": {
       "addedWidgets": {},
       "aggData": [],
       "aggError": "",
       "aggOverflow": false,
       "aggSchema": [],
       "aggSeriesLimitReached": false,
       "aggType": "",
       "arguments": {},
       "columnCustomDisplayInfos": {},
       "data": [
        [
         1,
         "albert_park",
         "Albert Park Grand Prix Circuit",
         "Melbourne",
         "Australia",
         -37.8497,
         144.968,
         10.0,
         "2024-10-24T21:06:52.953Z"
        ],
        [
         2,
         "sepang",
         "Sepang International Circuit",
         "Kuala Lumpur",
         "Malaysia",
         2.76083,
         101.738,
         18.0,
         "2024-10-24T21:06:52.953Z"
        ],
        [
         3,
         "bahrain",
         "Bahrain International Circuit",
         "Sakhir",
         "Bahrain",
         26.0325,
         50.5106,
         7.0,
         "2024-10-24T21:06:52.953Z"
        ],
        [
         4,
         "catalunya",
         "Circuit de Barcelona-Catalunya",
         "Montmeló",
         "Spain",
         41.57,
         2.26111,
         109.0,
         "2024-10-24T21:06:52.953Z"
        ],
        [
         5,
         "istanbul",
         "Istanbul Park",
         "Istanbul",
         "Turkey",
         40.9517,
         29.405,
         130.0,
         "2024-10-24T21:06:52.953Z"
        ],
        [
         6,
         "monaco",
         "Circuit de Monaco",
         "Monte-Carlo",
         "Monaco",
         43.7347,
         7.42056,
         7.0,
         "2024-10-24T21:06:52.953Z"
        ],
        [
         7,
         "villeneuve",
         "Circuit Gilles Villeneuve",
         "Montreal",
         "Canada",
         45.5,
         -73.5228,
         13.0,
         "2024-10-24T21:06:52.953Z"
        ],
        [
         8,
         "magny_cours",
         "Circuit de Nevers Magny-Cours",
         "Magny Cours",
         "France",
         46.8642,
         3.16361,
         228.0,
         "2024-10-24T21:06:52.953Z"
        ],
        [
         9,
         "silverstone",
         "Silverstone Circuit",
         "Silverstone",
         "UK",
         52.0786,
         -1.01694,
         153.0,
         "2024-10-24T21:06:52.953Z"
        ],
        [
         10,
         "hockenheimring",
         "Hockenheimring",
         "Hockenheim",
         "Germany",
         49.3278,
         8.56583,
         103.0,
         "2024-10-24T21:06:52.953Z"
        ],
        [
         11,
         "hungaroring",
         "Hungaroring",
         "Budapest",
         "Hungary",
         47.5789,
         19.2486,
         264.0,
         "2024-10-24T21:06:52.953Z"
        ],
        [
         12,
         "valencia",
         "Valencia Street Circuit",
         "Valencia",
         "Spain",
         39.4589,
         -0.331667,
         4.0,
         "2024-10-24T21:06:52.953Z"
        ],
        [
         13,
         "spa",
         "Circuit de Spa-Francorchamps",
         "Spa",
         "Belgium",
         50.4372,
         5.97139,
         401.0,
         "2024-10-24T21:06:52.953Z"
        ],
        [
         14,
         "monza",
         "Autodromo Nazionale di Monza",
         "Monza",
         "Italy",
         45.6156,
         9.28111,
         162.0,
         "2024-10-24T21:06:52.953Z"
        ],
        [
         15,
         "marina_bay",
         "Marina Bay Street Circuit",
         "Marina Bay",
         "Singapore",
         1.2914,
         103.864,
         18.0,
         "2024-10-24T21:06:52.953Z"
        ],
        [
         16,
         "fuji",
         "Fuji Speedway",
         "Oyama",
         "Japan",
         35.3717,
         138.927,
         583.0,
         "2024-10-24T21:06:52.953Z"
        ],
        [
         17,
         "shanghai",
         "Shanghai International Circuit",
         "Shanghai",
         "China",
         31.3389,
         121.22,
         5.0,
         "2024-10-24T21:06:52.953Z"
        ],
        [
         18,
         "interlagos",
         "Autódromo José Carlos Pace",
         "São Paulo",
         "Brazil",
         -23.7036,
         -46.6997,
         785.0,
         "2024-10-24T21:06:52.953Z"
        ],
        [
         19,
         "indianapolis",
         "Indianapolis Motor Speedway",
         "Indianapolis",
         "USA",
         39.795,
         -86.2347,
         223.0,
         "2024-10-24T21:06:52.953Z"
        ],
        [
         20,
         "nurburgring",
         "Nürburgring",
         "Nürburg",
         "Germany",
         50.3356,
         6.9475,
         578.0,
         "2024-10-24T21:06:52.953Z"
        ],
        [
         21,
         "imola",
         "Autodromo Enzo e Dino Ferrari",
         "Imola",
         "Italy",
         44.3439,
         11.7167,
         37.0,
         "2024-10-24T21:06:52.953Z"
        ],
        [
         22,
         "suzuka",
         "Suzuka Circuit",
         "Suzuka",
         "Japan",
         34.8431,
         136.541,
         45.0,
         "2024-10-24T21:06:52.953Z"
        ],
        [
         23,
         "osterreichring",
         "A1-Ring",
         "Spielburg",
         "Austria",
         47.2197,
         14.7647,
         678.0,
         "2024-10-24T21:06:52.953Z"
        ],
        [
         24,
         "yas_marina",
         "Yas Marina Circuit",
         "Abu Dhabi",
         "UAE",
         24.4672,
         54.6031,
         3.0,
         "2024-10-24T21:06:52.953Z"
        ],
        [
         25,
         "galvez",
         "Autódromo Juan y Oscar Gálvez",
         "Buenos Aires",
         "Argentina",
         -34.6943,
         -58.4593,
         8.0,
         "2024-10-24T21:06:52.953Z"
        ],
        [
         26,
         "jerez",
         "Circuito de Jerez",
         "Jerez de la Frontera",
         "Spain",
         36.7083,
         -6.03417,
         37.0,
         "2024-10-24T21:06:52.953Z"
        ],
        [
         27,
         "estoril",
         "Autódromo do Estoril",
         "Estoril",
         "Portugal",
         38.7506,
         -9.39417,
         130.0,
         "2024-10-24T21:06:52.953Z"
        ],
        [
         28,
         "okayama",
         "Okayama International Circuit",
         "Okayama",
         "Japan",
         34.915,
         134.221,
         266.0,
         "2024-10-24T21:06:52.953Z"
        ],
        [
         29,
         "adelaide",
         "Adelaide Street Circuit",
         "Adelaide",
         "Australia",
         -34.9272,
         138.617,
         58.0,
         "2024-10-24T21:06:52.953Z"
        ],
        [
         30,
         "kyalami",
         "Kyalami",
         "Midrand",
         "South Africa",
         -25.9894,
         28.0767,
         1460.0,
         "2024-10-24T21:06:52.953Z"
        ],
        [
         31,
         "donington",
         "Donington Park",
         "Castle Donington",
         "UK",
         52.8306,
         -1.37528,
         88.0,
         "2024-10-24T21:06:52.953Z"
        ],
        [
         32,
         "rodriguez",
         "Autódromo Hermanos Rodríguez",
         "Mexico City",
         "Mexico",
         19.4042,
         -99.0907,
         2227.0,
         "2024-10-24T21:06:52.953Z"
        ],
        [
         33,
         "phoenix",
         "Phoenix street circuit",
         "Phoenix",
         "USA",
         33.4479,
         -112.075,
         345.0,
         "2024-10-24T21:06:52.953Z"
        ],
        [
         34,
         "ricard",
         "Circuit Paul Ricard",
         "Le Castellet",
         "France",
         43.2506,
         5.79167,
         432.0,
         "2024-10-24T21:06:52.953Z"
        ],
        [
         35,
         "yeongam",
         "Korean International Circuit",
         "Yeongam County",
         "Korea",
         34.7333,
         126.417,
         0.0,
         "2024-10-24T21:06:52.953Z"
        ],
        [
         36,
         "jacarepagua",
         "Autódromo Internacional Nelson Piquet",
         "Rio de Janeiro",
         "Brazil",
         -22.9756,
         -43.395,
         1126.0,
         "2024-10-24T21:06:52.953Z"
        ],
        [
         37,
         "detroit",
         "Detroit Street Circuit",
         "Detroit",
         "USA",
         42.3298,
         -83.0401,
         177.0,
         "2024-10-24T21:06:52.953Z"
        ],
        [
         38,
         "brands_hatch",
         "Brands Hatch",
         "Kent",
         "UK",
         51.3569,
         0.263056,
         145.0,
         "2024-10-24T21:06:52.953Z"
        ],
        [
         39,
         "zandvoort",
         "Circuit Park Zandvoort",
         "Zandvoort",
         "Netherlands",
         52.3888,
         4.54092,
         6.0,
         "2024-10-24T21:06:52.953Z"
        ],
        [
         40,
         "zolder",
         "Zolder",
         "Heusden-Zolder",
         "Belgium",
         50.9894,
         5.25694,
         36.0,
         "2024-10-24T21:06:52.953Z"
        ],
        [
         41,
         "dijon",
         "Dijon-Prenois",
         "Dijon",
         "France",
         47.3625,
         4.89913,
         484.0,
         "2024-10-24T21:06:52.953Z"
        ],
        [
         42,
         "dallas",
         "Fair Park",
         "Dallas",
         "USA",
         32.7774,
         -96.7587,
         139.0,
         "2024-10-24T21:06:52.953Z"
        ],
        [
         43,
         "long_beach",
         "Long Beach",
         "California",
         "USA",
         33.7651,
         -118.189,
         12.0,
         "2024-10-24T21:06:52.953Z"
        ],
        [
         44,
         "las_vegas",
         "Las Vegas Street Circuit",
         "Nevada",
         "USA",
         36.1162,
         -115.174,
         639.0,
         "2024-10-24T21:06:52.953Z"
        ],
        [
         45,
         "jarama",
         "Jarama",
         "Madrid",
         "Spain",
         40.6171,
         -3.58558,
         609.0,
         "2024-10-24T21:06:52.953Z"
        ],
        [
         46,
         "watkins_glen",
         "Watkins Glen",
         "New York State",
         "USA",
         42.3369,
         -76.9272,
         485.0,
         "2024-10-24T21:06:52.953Z"
        ],
        [
         47,
         "anderstorp",
         "Scandinavian Raceway",
         "Anderstorp",
         "Sweden",
         57.2653,
         13.6042,
         153.0,
         "2024-10-24T21:06:52.953Z"
        ],
        [
         48,
         "mosport",
         "Mosport International Raceway",
         "Ontario",
         "Canada",
         44.0481,
         -78.6756,
         332.0,
         "2024-10-24T21:06:52.953Z"
        ],
        [
         49,
         "montjuic",
         "Montjuïc",
         "Barcelona",
         "Spain",
         41.3664,
         2.15167,
         79.0,
         "2024-10-24T21:06:52.953Z"
        ],
        [
         50,
         "nivelles",
         "Nivelles-Baulers",
         "Brussels",
         "Belgium",
         50.6211,
         4.32694,
         139.0,
         "2024-10-24T21:06:52.953Z"
        ],
        [
         51,
         "charade",
         "Charade Circuit",
         "Clermont-Ferrand",
         "France",
         45.7472,
         3.03889,
         790.0,
         "2024-10-24T21:06:52.953Z"
        ],
        [
         52,
         "tremblant",
         "Circuit Mont-Tremblant",
         "Quebec",
         "Canada",
         46.1877,
         -74.6099,
         214.0,
         "2024-10-24T21:06:52.953Z"
        ],
        [
         53,
         "essarts",
         "Rouen-Les-Essarts",
         "Rouen",
         "France",
         49.3306,
         1.00458,
         81.0,
         "2024-10-24T21:06:52.953Z"
        ],
        [
         54,
         "lemans",
         "Le Mans",
         "Le Mans",
         "France",
         47.95,
         0.224231,
         67.0,
         "2024-10-24T21:06:52.953Z"
        ],
        [
         55,
         "reims",
         "Reims-Gueux",
         "Reims",
         "France",
         49.2542,
         3.93083,
         88.0,
         "2024-10-24T21:06:52.953Z"
        ],
        [
         56,
         "george",
         "Prince George Circuit",
         "Eastern Cape Province",
         "South Africa",
         -33.0486,
         27.8736,
         15.0,
         "2024-10-24T21:06:52.953Z"
        ],
        [
         57,
         "zeltweg",
         "Zeltweg",
         "Styria",
         "Austria",
         47.2039,
         14.7478,
         676.0,
         "2024-10-24T21:06:52.953Z"
        ],
        [
         58,
         "aintree",
         "Aintree",
         "Liverpool",
         "UK",
         53.4769,
         -2.94056,
         20.0,
         "2024-10-24T21:06:52.953Z"
        ],
        [
         59,
         "boavista",
         "Circuito da Boavista",
         "Oporto",
         "Portugal",
         41.1705,
         -8.67325,
         28.0,
         "2024-10-24T21:06:52.953Z"
        ],
        [
         60,
         "riverside",
         "Riverside International Raceway",
         "California",
         "USA",
         33.937,
         -117.273,
         470.0,
         "2024-10-24T21:06:52.953Z"
        ],
        [
         61,
         "avus",
         "AVUS",
         "Berlin",
         "Germany",
         52.4806,
         13.2514,
         53.0,
         "2024-10-24T21:06:52.953Z"
        ],
        [
         62,
         "monsanto",
         "Monsanto Park Circuit",
         "Lisbon",
         "Portugal",
         38.7197,
         -9.20306,
         158.0,
         "2024-10-24T21:06:52.953Z"
        ],
        [
         63,
         "sebring",
         "Sebring International Raceway",
         "Florida",
         "USA",
         27.4547,
         -81.3483,
         18.0,
         "2024-10-24T21:06:52.953Z"
        ],
        [
         64,
         "ain-diab",
         "Ain Diab",
         "Casablanca",
         "Morocco",
         33.5786,
         -7.6875,
         19.0,
         "2024-10-24T21:06:52.953Z"
        ],
        [
         65,
         "pescara",
         "Pescara Circuit",
         "Pescara",
         "Italy",
         42.475,
         14.1508,
         129.0,
         "2024-10-24T21:06:52.953Z"
        ],
        [
         66,
         "bremgarten",
         "Circuit Bremgarten",
         "Bern",
         "Switzerland",
         46.9589,
         7.40194,
         551.0,
         "2024-10-24T21:06:52.953Z"
        ],
        [
         67,
         "pedralbes",
         "Circuit de Pedralbes",
         "Barcelona",
         "Spain",
         41.3903,
         2.11667,
         85.0,
         "2024-10-24T21:06:52.953Z"
        ],
        [
         68,
         "buddh",
         "Buddh International Circuit",
         "Uttar Pradesh",
         "India",
         28.3487,
         77.5331,
         194.0,
         "2024-10-24T21:06:52.953Z"
        ],
        [
         69,
         "americas",
         "Circuit of the Americas",
         "Austin",
         "USA",
         30.1328,
         -97.6411,
         161.0,
         "2024-10-24T21:06:52.953Z"
        ],
        [
         70,
         "red_bull_ring",
         "Red Bull Ring",
         "Spielburg",
         "Austria",
         47.2197,
         14.7647,
         678.0,
         "2024-10-24T21:06:52.953Z"
        ],
        [
         71,
         "sochi",
         "Sochi Autodrom",
         "Sochi",
         "Russia",
         43.4057,
         39.9578,
         2.0,
         "2024-10-24T21:06:52.953Z"
        ],
        [
         72,
         "port_imperial",
         "Port Imperial Street Circuit",
         "New Jersey",
         "USA",
         40.7769,
         -74.0111,
         4.0,
         "2024-10-24T21:06:52.953Z"
        ],
        [
         73,
         "BAK",
         "Baku City Circuit",
         "Baku",
         "Azerbaijan",
         40.3725,
         49.8533,
         -7.0,
         "2024-10-24T21:06:52.953Z"
        ],
        [
         74,
         "hanoi",
         "Hanoi Street Circuit",
         "Hanoi",
         "Vietnam",
         21.0166,
         105.766,
         9.0,
         "2024-10-24T21:06:52.953Z"
        ],
        [
         75,
         "portimao",
         "Autódromo Internacional do Algarve",
         "Portimão",
         "Portugal",
         37.227,
         -8.6267,
         108.0,
         "2024-10-24T21:06:52.953Z"
        ],
        [
         76,
         "mugello",
         "Autodromo Internazionale del Mugello",
         "Mugello",
         "Italy",
         43.9975,
         11.3719,
         255.0,
         "2024-10-24T21:06:52.953Z"
        ],
        [
         77,
         "jeddah",
         "Jeddah Street Circuit",
         "Jeddah",
         "Saudi Arabia",
         21.5433,
         39.1728,
         15.0,
         "2024-10-24T21:06:52.953Z"
        ]
       ],
       "datasetInfos": [],
       "dbfsResultPath": null,
       "isJsonSchema": true,
       "metadata": {},
       "overflow": false,
       "plotOptions": {
        "customPlotOptions": {},
        "displayType": "table",
        "pivotAggregation": null,
        "pivotColumns": null,
        "xColumns": null,
        "yColumns": null
       },
       "removedWidgets": [],
       "schema": [
        {
         "metadata": "{}",
         "name": "circuit_id",
         "type": "\"integer\""
        },
        {
         "metadata": "{}",
         "name": "circuit_ref",
         "type": "\"string\""
        },
        {
         "metadata": "{}",
         "name": "name",
         "type": "\"string\""
        },
        {
         "metadata": "{}",
         "name": "location",
         "type": "\"string\""
        },
        {
         "metadata": "{}",
         "name": "country",
         "type": "\"string\""
        },
        {
         "metadata": "{}",
         "name": "latitude",
         "type": "\"double\""
        },
        {
         "metadata": "{}",
         "name": "longitude",
         "type": "\"double\""
        },
        {
         "metadata": "{}",
         "name": "altitude",
         "type": "\"double\""
        },
        {
         "metadata": "{}",
         "name": "ingestion_date",
         "type": "\"timestamp\""
        }
       ],
       "type": "table"
      }
     },
     "output_type": "display_data"
    }
   ],
   "source": [
    "display(circuits_final_df)"
   ]
  },
  {
   "cell_type": "markdown",
   "metadata": {
    "application/vnd.databricks.v1+cell": {
     "cellMetadata": {},
     "inputWidgets": {},
     "nuid": "cfbb95aa-3b94-423d-b95f-ebe84cd8aa44",
     "showTitle": false,
     "title": ""
    }
   },
   "source": [
    "### Write data to datalake as a Parquet file"
   ]
  },
  {
   "cell_type": "code",
   "execution_count": 0,
   "metadata": {
    "application/vnd.databricks.v1+cell": {
     "cellMetadata": {
      "byteLimit": 2048000,
      "rowLimit": 10000
     },
     "inputWidgets": {},
     "nuid": "de780fc3-fca4-4dc8-8a6e-db6faece8144",
     "showTitle": false,
     "title": ""
    }
   },
   "outputs": [],
   "source": [
    "circuits_final_df.write.parquet(\"abfss://processed@formulaonedl01.dfs.core.windows.net/circuits\",mode=\"overwrite\")"
   ]
  },
  {
   "cell_type": "code",
   "execution_count": 0,
   "metadata": {
    "application/vnd.databricks.v1+cell": {
     "cellMetadata": {
      "byteLimit": 2048000,
      "rowLimit": 10000
     },
     "inputWidgets": {},
     "nuid": "e27adc67-9ec7-4cb7-9d0d-337f4769d2e8",
     "showTitle": false,
     "title": ""
    }
   },
   "outputs": [
    {
     "output_type": "display_data",
     "data": {
      "text/html": [
       "<style scoped>\n",
       "  .table-result-container {\n",
       "    max-height: 300px;\n",
       "    overflow: auto;\n",
       "  }\n",
       "  table, th, td {\n",
       "    border: 1px solid black;\n",
       "    border-collapse: collapse;\n",
       "  }\n",
       "  th, td {\n",
       "    padding: 5px;\n",
       "  }\n",
       "  th {\n",
       "    text-align: left;\n",
       "  }\n",
       "</style><div class='table-result-container'><table class='table-result'><thead style='background-color: white'><tr><th>path</th><th>name</th><th>size</th><th>modificationTime</th></tr></thead><tbody><tr><td>abfss://processed@formulaonedl01.dfs.core.windows.net/circuits/_SUCCESS</td><td>_SUCCESS</td><td>0</td><td>1729841630000</td></tr><tr><td>abfss://processed@formulaonedl01.dfs.core.windows.net/circuits/_committed_4195298824077143240</td><td>_committed_4195298824077143240</td><td>232</td><td>1729841630000</td></tr><tr><td>abfss://processed@formulaonedl01.dfs.core.windows.net/circuits/_committed_8774873030726592761</td><td>_committed_8774873030726592761</td><td>123</td><td>1729841411000</td></tr><tr><td>abfss://processed@formulaonedl01.dfs.core.windows.net/circuits/_started_4195298824077143240</td><td>_started_4195298824077143240</td><td>0</td><td>1729841629000</td></tr><tr><td>abfss://processed@formulaonedl01.dfs.core.windows.net/circuits/_started_8774873030726592761</td><td>_started_8774873030726592761</td><td>0</td><td>1729841408000</td></tr><tr><td>abfss://processed@formulaonedl01.dfs.core.windows.net/circuits/part-00000-tid-4195298824077143240-6ebd97a6-1f4b-4d59-8ac4-b8e54b5ea7ea-28-1-c000.snappy.parquet</td><td>part-00000-tid-4195298824077143240-6ebd97a6-1f4b-4d59-8ac4-b8e54b5ea7ea-28-1-c000.snappy.parquet</td><td>7904</td><td>1729841630000</td></tr></tbody></table></div>"
      ]
     },
     "metadata": {
      "application/vnd.databricks.v1+output": {
       "addedWidgets": {},
       "aggData": [],
       "aggError": "",
       "aggOverflow": false,
       "aggSchema": [],
       "aggSeriesLimitReached": false,
       "aggType": "",
       "arguments": {},
       "columnCustomDisplayInfos": {},
       "data": [
        [
         "abfss://processed@formulaonedl01.dfs.core.windows.net/circuits/_SUCCESS",
         "_SUCCESS",
         0,
         1729841630000
        ],
        [
         "abfss://processed@formulaonedl01.dfs.core.windows.net/circuits/_committed_4195298824077143240",
         "_committed_4195298824077143240",
         232,
         1729841630000
        ],
        [
         "abfss://processed@formulaonedl01.dfs.core.windows.net/circuits/_committed_8774873030726592761",
         "_committed_8774873030726592761",
         123,
         1729841411000
        ],
        [
         "abfss://processed@formulaonedl01.dfs.core.windows.net/circuits/_started_4195298824077143240",
         "_started_4195298824077143240",
         0,
         1729841629000
        ],
        [
         "abfss://processed@formulaonedl01.dfs.core.windows.net/circuits/_started_8774873030726592761",
         "_started_8774873030726592761",
         0,
         1729841408000
        ],
        [
         "abfss://processed@formulaonedl01.dfs.core.windows.net/circuits/part-00000-tid-4195298824077143240-6ebd97a6-1f4b-4d59-8ac4-b8e54b5ea7ea-28-1-c000.snappy.parquet",
         "part-00000-tid-4195298824077143240-6ebd97a6-1f4b-4d59-8ac4-b8e54b5ea7ea-28-1-c000.snappy.parquet",
         7904,
         1729841630000
        ]
       ],
       "datasetInfos": [],
       "dbfsResultPath": null,
       "isJsonSchema": true,
       "metadata": {
        "isDbfsCommandResult": false
       },
       "overflow": false,
       "plotOptions": {
        "customPlotOptions": {},
        "displayType": "table",
        "pivotAggregation": null,
        "pivotColumns": null,
        "xColumns": null,
        "yColumns": null
       },
       "removedWidgets": [],
       "schema": [
        {
         "metadata": "{}",
         "name": "path",
         "type": "\"string\""
        },
        {
         "metadata": "{}",
         "name": "name",
         "type": "\"string\""
        },
        {
         "metadata": "{}",
         "name": "size",
         "type": "\"long\""
        },
        {
         "metadata": "{}",
         "name": "modificationTime",
         "type": "\"long\""
        }
       ],
       "type": "table"
      }
     },
     "output_type": "display_data"
    }
   ],
   "source": [
    "%fs\n",
    "ls abfss://processed@formulaonedl01.dfs.core.windows.net/circuits"
   ]
  },
  {
   "cell_type": "code",
   "execution_count": 0,
   "metadata": {
    "application/vnd.databricks.v1+cell": {
     "cellMetadata": {
      "byteLimit": 2048000,
      "rowLimit": 10000
     },
     "inputWidgets": {},
     "nuid": "b67228a6-ae8f-4450-8b6d-8a05c796be57",
     "showTitle": false,
     "title": ""
    }
   },
   "outputs": [
    {
     "output_type": "display_data",
     "data": {
      "text/html": [
       "<style scoped>\n",
       "  .table-result-container {\n",
       "    max-height: 300px;\n",
       "    overflow: auto;\n",
       "  }\n",
       "  table, th, td {\n",
       "    border: 1px solid black;\n",
       "    border-collapse: collapse;\n",
       "  }\n",
       "  th, td {\n",
       "    padding: 5px;\n",
       "  }\n",
       "  th {\n",
       "    text-align: left;\n",
       "  }\n",
       "</style><div class='table-result-container'><table class='table-result'><thead style='background-color: white'><tr><th>circuit_id</th><th>circuit_ref</th><th>name</th><th>location</th><th>country</th><th>latitude</th><th>longitude</th><th>altitude</th><th>ingestion_date</th></tr></thead><tbody><tr><td>1</td><td>albert_park</td><td>Albert Park Grand Prix Circuit</td><td>Melbourne</td><td>Australia</td><td>-37.8497</td><td>144.968</td><td>10.0</td><td>2024-10-25T07:33:49.584Z</td></tr><tr><td>2</td><td>sepang</td><td>Sepang International Circuit</td><td>Kuala Lumpur</td><td>Malaysia</td><td>2.76083</td><td>101.738</td><td>18.0</td><td>2024-10-25T07:33:49.584Z</td></tr><tr><td>3</td><td>bahrain</td><td>Bahrain International Circuit</td><td>Sakhir</td><td>Bahrain</td><td>26.0325</td><td>50.5106</td><td>7.0</td><td>2024-10-25T07:33:49.584Z</td></tr><tr><td>4</td><td>catalunya</td><td>Circuit de Barcelona-Catalunya</td><td>Montmeló</td><td>Spain</td><td>41.57</td><td>2.26111</td><td>109.0</td><td>2024-10-25T07:33:49.584Z</td></tr><tr><td>5</td><td>istanbul</td><td>Istanbul Park</td><td>Istanbul</td><td>Turkey</td><td>40.9517</td><td>29.405</td><td>130.0</td><td>2024-10-25T07:33:49.584Z</td></tr><tr><td>6</td><td>monaco</td><td>Circuit de Monaco</td><td>Monte-Carlo</td><td>Monaco</td><td>43.7347</td><td>7.42056</td><td>7.0</td><td>2024-10-25T07:33:49.584Z</td></tr><tr><td>7</td><td>villeneuve</td><td>Circuit Gilles Villeneuve</td><td>Montreal</td><td>Canada</td><td>45.5</td><td>-73.5228</td><td>13.0</td><td>2024-10-25T07:33:49.584Z</td></tr><tr><td>8</td><td>magny_cours</td><td>Circuit de Nevers Magny-Cours</td><td>Magny Cours</td><td>France</td><td>46.8642</td><td>3.16361</td><td>228.0</td><td>2024-10-25T07:33:49.584Z</td></tr><tr><td>9</td><td>silverstone</td><td>Silverstone Circuit</td><td>Silverstone</td><td>UK</td><td>52.0786</td><td>-1.01694</td><td>153.0</td><td>2024-10-25T07:33:49.584Z</td></tr><tr><td>10</td><td>hockenheimring</td><td>Hockenheimring</td><td>Hockenheim</td><td>Germany</td><td>49.3278</td><td>8.56583</td><td>103.0</td><td>2024-10-25T07:33:49.584Z</td></tr><tr><td>11</td><td>hungaroring</td><td>Hungaroring</td><td>Budapest</td><td>Hungary</td><td>47.5789</td><td>19.2486</td><td>264.0</td><td>2024-10-25T07:33:49.584Z</td></tr><tr><td>12</td><td>valencia</td><td>Valencia Street Circuit</td><td>Valencia</td><td>Spain</td><td>39.4589</td><td>-0.331667</td><td>4.0</td><td>2024-10-25T07:33:49.584Z</td></tr><tr><td>13</td><td>spa</td><td>Circuit de Spa-Francorchamps</td><td>Spa</td><td>Belgium</td><td>50.4372</td><td>5.97139</td><td>401.0</td><td>2024-10-25T07:33:49.584Z</td></tr><tr><td>14</td><td>monza</td><td>Autodromo Nazionale di Monza</td><td>Monza</td><td>Italy</td><td>45.6156</td><td>9.28111</td><td>162.0</td><td>2024-10-25T07:33:49.584Z</td></tr><tr><td>15</td><td>marina_bay</td><td>Marina Bay Street Circuit</td><td>Marina Bay</td><td>Singapore</td><td>1.2914</td><td>103.864</td><td>18.0</td><td>2024-10-25T07:33:49.584Z</td></tr><tr><td>16</td><td>fuji</td><td>Fuji Speedway</td><td>Oyama</td><td>Japan</td><td>35.3717</td><td>138.927</td><td>583.0</td><td>2024-10-25T07:33:49.584Z</td></tr><tr><td>17</td><td>shanghai</td><td>Shanghai International Circuit</td><td>Shanghai</td><td>China</td><td>31.3389</td><td>121.22</td><td>5.0</td><td>2024-10-25T07:33:49.584Z</td></tr><tr><td>18</td><td>interlagos</td><td>Autódromo José Carlos Pace</td><td>São Paulo</td><td>Brazil</td><td>-23.7036</td><td>-46.6997</td><td>785.0</td><td>2024-10-25T07:33:49.584Z</td></tr><tr><td>19</td><td>indianapolis</td><td>Indianapolis Motor Speedway</td><td>Indianapolis</td><td>USA</td><td>39.795</td><td>-86.2347</td><td>223.0</td><td>2024-10-25T07:33:49.584Z</td></tr><tr><td>20</td><td>nurburgring</td><td>Nürburgring</td><td>Nürburg</td><td>Germany</td><td>50.3356</td><td>6.9475</td><td>578.0</td><td>2024-10-25T07:33:49.584Z</td></tr><tr><td>21</td><td>imola</td><td>Autodromo Enzo e Dino Ferrari</td><td>Imola</td><td>Italy</td><td>44.3439</td><td>11.7167</td><td>37.0</td><td>2024-10-25T07:33:49.584Z</td></tr><tr><td>22</td><td>suzuka</td><td>Suzuka Circuit</td><td>Suzuka</td><td>Japan</td><td>34.8431</td><td>136.541</td><td>45.0</td><td>2024-10-25T07:33:49.584Z</td></tr><tr><td>23</td><td>osterreichring</td><td>A1-Ring</td><td>Spielburg</td><td>Austria</td><td>47.2197</td><td>14.7647</td><td>678.0</td><td>2024-10-25T07:33:49.584Z</td></tr><tr><td>24</td><td>yas_marina</td><td>Yas Marina Circuit</td><td>Abu Dhabi</td><td>UAE</td><td>24.4672</td><td>54.6031</td><td>3.0</td><td>2024-10-25T07:33:49.584Z</td></tr><tr><td>25</td><td>galvez</td><td>Autódromo Juan y Oscar Gálvez</td><td>Buenos Aires</td><td>Argentina</td><td>-34.6943</td><td>-58.4593</td><td>8.0</td><td>2024-10-25T07:33:49.584Z</td></tr><tr><td>26</td><td>jerez</td><td>Circuito de Jerez</td><td>Jerez de la Frontera</td><td>Spain</td><td>36.7083</td><td>-6.03417</td><td>37.0</td><td>2024-10-25T07:33:49.584Z</td></tr><tr><td>27</td><td>estoril</td><td>Autódromo do Estoril</td><td>Estoril</td><td>Portugal</td><td>38.7506</td><td>-9.39417</td><td>130.0</td><td>2024-10-25T07:33:49.584Z</td></tr><tr><td>28</td><td>okayama</td><td>Okayama International Circuit</td><td>Okayama</td><td>Japan</td><td>34.915</td><td>134.221</td><td>266.0</td><td>2024-10-25T07:33:49.584Z</td></tr><tr><td>29</td><td>adelaide</td><td>Adelaide Street Circuit</td><td>Adelaide</td><td>Australia</td><td>-34.9272</td><td>138.617</td><td>58.0</td><td>2024-10-25T07:33:49.584Z</td></tr><tr><td>30</td><td>kyalami</td><td>Kyalami</td><td>Midrand</td><td>South Africa</td><td>-25.9894</td><td>28.0767</td><td>1460.0</td><td>2024-10-25T07:33:49.584Z</td></tr><tr><td>31</td><td>donington</td><td>Donington Park</td><td>Castle Donington</td><td>UK</td><td>52.8306</td><td>-1.37528</td><td>88.0</td><td>2024-10-25T07:33:49.584Z</td></tr><tr><td>32</td><td>rodriguez</td><td>Autódromo Hermanos Rodríguez</td><td>Mexico City</td><td>Mexico</td><td>19.4042</td><td>-99.0907</td><td>2227.0</td><td>2024-10-25T07:33:49.584Z</td></tr><tr><td>33</td><td>phoenix</td><td>Phoenix street circuit</td><td>Phoenix</td><td>USA</td><td>33.4479</td><td>-112.075</td><td>345.0</td><td>2024-10-25T07:33:49.584Z</td></tr><tr><td>34</td><td>ricard</td><td>Circuit Paul Ricard</td><td>Le Castellet</td><td>France</td><td>43.2506</td><td>5.79167</td><td>432.0</td><td>2024-10-25T07:33:49.584Z</td></tr><tr><td>35</td><td>yeongam</td><td>Korean International Circuit</td><td>Yeongam County</td><td>Korea</td><td>34.7333</td><td>126.417</td><td>0.0</td><td>2024-10-25T07:33:49.584Z</td></tr><tr><td>36</td><td>jacarepagua</td><td>Autódromo Internacional Nelson Piquet</td><td>Rio de Janeiro</td><td>Brazil</td><td>-22.9756</td><td>-43.395</td><td>1126.0</td><td>2024-10-25T07:33:49.584Z</td></tr><tr><td>37</td><td>detroit</td><td>Detroit Street Circuit</td><td>Detroit</td><td>USA</td><td>42.3298</td><td>-83.0401</td><td>177.0</td><td>2024-10-25T07:33:49.584Z</td></tr><tr><td>38</td><td>brands_hatch</td><td>Brands Hatch</td><td>Kent</td><td>UK</td><td>51.3569</td><td>0.263056</td><td>145.0</td><td>2024-10-25T07:33:49.584Z</td></tr><tr><td>39</td><td>zandvoort</td><td>Circuit Park Zandvoort</td><td>Zandvoort</td><td>Netherlands</td><td>52.3888</td><td>4.54092</td><td>6.0</td><td>2024-10-25T07:33:49.584Z</td></tr><tr><td>40</td><td>zolder</td><td>Zolder</td><td>Heusden-Zolder</td><td>Belgium</td><td>50.9894</td><td>5.25694</td><td>36.0</td><td>2024-10-25T07:33:49.584Z</td></tr><tr><td>41</td><td>dijon</td><td>Dijon-Prenois</td><td>Dijon</td><td>France</td><td>47.3625</td><td>4.89913</td><td>484.0</td><td>2024-10-25T07:33:49.584Z</td></tr><tr><td>42</td><td>dallas</td><td>Fair Park</td><td>Dallas</td><td>USA</td><td>32.7774</td><td>-96.7587</td><td>139.0</td><td>2024-10-25T07:33:49.584Z</td></tr><tr><td>43</td><td>long_beach</td><td>Long Beach</td><td>California</td><td>USA</td><td>33.7651</td><td>-118.189</td><td>12.0</td><td>2024-10-25T07:33:49.584Z</td></tr><tr><td>44</td><td>las_vegas</td><td>Las Vegas Street Circuit</td><td>Nevada</td><td>USA</td><td>36.1162</td><td>-115.174</td><td>639.0</td><td>2024-10-25T07:33:49.584Z</td></tr><tr><td>45</td><td>jarama</td><td>Jarama</td><td>Madrid</td><td>Spain</td><td>40.6171</td><td>-3.58558</td><td>609.0</td><td>2024-10-25T07:33:49.584Z</td></tr><tr><td>46</td><td>watkins_glen</td><td>Watkins Glen</td><td>New York State</td><td>USA</td><td>42.3369</td><td>-76.9272</td><td>485.0</td><td>2024-10-25T07:33:49.584Z</td></tr><tr><td>47</td><td>anderstorp</td><td>Scandinavian Raceway</td><td>Anderstorp</td><td>Sweden</td><td>57.2653</td><td>13.6042</td><td>153.0</td><td>2024-10-25T07:33:49.584Z</td></tr><tr><td>48</td><td>mosport</td><td>Mosport International Raceway</td><td>Ontario</td><td>Canada</td><td>44.0481</td><td>-78.6756</td><td>332.0</td><td>2024-10-25T07:33:49.584Z</td></tr><tr><td>49</td><td>montjuic</td><td>Montjuïc</td><td>Barcelona</td><td>Spain</td><td>41.3664</td><td>2.15167</td><td>79.0</td><td>2024-10-25T07:33:49.584Z</td></tr><tr><td>50</td><td>nivelles</td><td>Nivelles-Baulers</td><td>Brussels</td><td>Belgium</td><td>50.6211</td><td>4.32694</td><td>139.0</td><td>2024-10-25T07:33:49.584Z</td></tr><tr><td>51</td><td>charade</td><td>Charade Circuit</td><td>Clermont-Ferrand</td><td>France</td><td>45.7472</td><td>3.03889</td><td>790.0</td><td>2024-10-25T07:33:49.584Z</td></tr><tr><td>52</td><td>tremblant</td><td>Circuit Mont-Tremblant</td><td>Quebec</td><td>Canada</td><td>46.1877</td><td>-74.6099</td><td>214.0</td><td>2024-10-25T07:33:49.584Z</td></tr><tr><td>53</td><td>essarts</td><td>Rouen-Les-Essarts</td><td>Rouen</td><td>France</td><td>49.3306</td><td>1.00458</td><td>81.0</td><td>2024-10-25T07:33:49.584Z</td></tr><tr><td>54</td><td>lemans</td><td>Le Mans</td><td>Le Mans</td><td>France</td><td>47.95</td><td>0.224231</td><td>67.0</td><td>2024-10-25T07:33:49.584Z</td></tr><tr><td>55</td><td>reims</td><td>Reims-Gueux</td><td>Reims</td><td>France</td><td>49.2542</td><td>3.93083</td><td>88.0</td><td>2024-10-25T07:33:49.584Z</td></tr><tr><td>56</td><td>george</td><td>Prince George Circuit</td><td>Eastern Cape Province</td><td>South Africa</td><td>-33.0486</td><td>27.8736</td><td>15.0</td><td>2024-10-25T07:33:49.584Z</td></tr><tr><td>57</td><td>zeltweg</td><td>Zeltweg</td><td>Styria</td><td>Austria</td><td>47.2039</td><td>14.7478</td><td>676.0</td><td>2024-10-25T07:33:49.584Z</td></tr><tr><td>58</td><td>aintree</td><td>Aintree</td><td>Liverpool</td><td>UK</td><td>53.4769</td><td>-2.94056</td><td>20.0</td><td>2024-10-25T07:33:49.584Z</td></tr><tr><td>59</td><td>boavista</td><td>Circuito da Boavista</td><td>Oporto</td><td>Portugal</td><td>41.1705</td><td>-8.67325</td><td>28.0</td><td>2024-10-25T07:33:49.584Z</td></tr><tr><td>60</td><td>riverside</td><td>Riverside International Raceway</td><td>California</td><td>USA</td><td>33.937</td><td>-117.273</td><td>470.0</td><td>2024-10-25T07:33:49.584Z</td></tr><tr><td>61</td><td>avus</td><td>AVUS</td><td>Berlin</td><td>Germany</td><td>52.4806</td><td>13.2514</td><td>53.0</td><td>2024-10-25T07:33:49.584Z</td></tr><tr><td>62</td><td>monsanto</td><td>Monsanto Park Circuit</td><td>Lisbon</td><td>Portugal</td><td>38.7197</td><td>-9.20306</td><td>158.0</td><td>2024-10-25T07:33:49.584Z</td></tr><tr><td>63</td><td>sebring</td><td>Sebring International Raceway</td><td>Florida</td><td>USA</td><td>27.4547</td><td>-81.3483</td><td>18.0</td><td>2024-10-25T07:33:49.584Z</td></tr><tr><td>64</td><td>ain-diab</td><td>Ain Diab</td><td>Casablanca</td><td>Morocco</td><td>33.5786</td><td>-7.6875</td><td>19.0</td><td>2024-10-25T07:33:49.584Z</td></tr><tr><td>65</td><td>pescara</td><td>Pescara Circuit</td><td>Pescara</td><td>Italy</td><td>42.475</td><td>14.1508</td><td>129.0</td><td>2024-10-25T07:33:49.584Z</td></tr><tr><td>66</td><td>bremgarten</td><td>Circuit Bremgarten</td><td>Bern</td><td>Switzerland</td><td>46.9589</td><td>7.40194</td><td>551.0</td><td>2024-10-25T07:33:49.584Z</td></tr><tr><td>67</td><td>pedralbes</td><td>Circuit de Pedralbes</td><td>Barcelona</td><td>Spain</td><td>41.3903</td><td>2.11667</td><td>85.0</td><td>2024-10-25T07:33:49.584Z</td></tr><tr><td>68</td><td>buddh</td><td>Buddh International Circuit</td><td>Uttar Pradesh</td><td>India</td><td>28.3487</td><td>77.5331</td><td>194.0</td><td>2024-10-25T07:33:49.584Z</td></tr><tr><td>69</td><td>americas</td><td>Circuit of the Americas</td><td>Austin</td><td>USA</td><td>30.1328</td><td>-97.6411</td><td>161.0</td><td>2024-10-25T07:33:49.584Z</td></tr><tr><td>70</td><td>red_bull_ring</td><td>Red Bull Ring</td><td>Spielburg</td><td>Austria</td><td>47.2197</td><td>14.7647</td><td>678.0</td><td>2024-10-25T07:33:49.584Z</td></tr><tr><td>71</td><td>sochi</td><td>Sochi Autodrom</td><td>Sochi</td><td>Russia</td><td>43.4057</td><td>39.9578</td><td>2.0</td><td>2024-10-25T07:33:49.584Z</td></tr><tr><td>72</td><td>port_imperial</td><td>Port Imperial Street Circuit</td><td>New Jersey</td><td>USA</td><td>40.7769</td><td>-74.0111</td><td>4.0</td><td>2024-10-25T07:33:49.584Z</td></tr><tr><td>73</td><td>BAK</td><td>Baku City Circuit</td><td>Baku</td><td>Azerbaijan</td><td>40.3725</td><td>49.8533</td><td>-7.0</td><td>2024-10-25T07:33:49.584Z</td></tr><tr><td>74</td><td>hanoi</td><td>Hanoi Street Circuit</td><td>Hanoi</td><td>Vietnam</td><td>21.0166</td><td>105.766</td><td>9.0</td><td>2024-10-25T07:33:49.584Z</td></tr><tr><td>75</td><td>portimao</td><td>Autódromo Internacional do Algarve</td><td>Portimão</td><td>Portugal</td><td>37.227</td><td>-8.6267</td><td>108.0</td><td>2024-10-25T07:33:49.584Z</td></tr><tr><td>76</td><td>mugello</td><td>Autodromo Internazionale del Mugello</td><td>Mugello</td><td>Italy</td><td>43.9975</td><td>11.3719</td><td>255.0</td><td>2024-10-25T07:33:49.584Z</td></tr><tr><td>77</td><td>jeddah</td><td>Jeddah Street Circuit</td><td>Jeddah</td><td>Saudi Arabia</td><td>21.5433</td><td>39.1728</td><td>15.0</td><td>2024-10-25T07:33:49.584Z</td></tr></tbody></table></div>"
      ]
     },
     "metadata": {
      "application/vnd.databricks.v1+output": {
       "addedWidgets": {},
       "aggData": [],
       "aggError": "",
       "aggOverflow": false,
       "aggSchema": [],
       "aggSeriesLimitReached": false,
       "aggType": "",
       "arguments": {},
       "columnCustomDisplayInfos": {},
       "data": [
        [
         1,
         "albert_park",
         "Albert Park Grand Prix Circuit",
         "Melbourne",
         "Australia",
         -37.8497,
         144.968,
         10.0,
         "2024-10-25T07:33:49.584Z"
        ],
        [
         2,
         "sepang",
         "Sepang International Circuit",
         "Kuala Lumpur",
         "Malaysia",
         2.76083,
         101.738,
         18.0,
         "2024-10-25T07:33:49.584Z"
        ],
        [
         3,
         "bahrain",
         "Bahrain International Circuit",
         "Sakhir",
         "Bahrain",
         26.0325,
         50.5106,
         7.0,
         "2024-10-25T07:33:49.584Z"
        ],
        [
         4,
         "catalunya",
         "Circuit de Barcelona-Catalunya",
         "Montmeló",
         "Spain",
         41.57,
         2.26111,
         109.0,
         "2024-10-25T07:33:49.584Z"
        ],
        [
         5,
         "istanbul",
         "Istanbul Park",
         "Istanbul",
         "Turkey",
         40.9517,
         29.405,
         130.0,
         "2024-10-25T07:33:49.584Z"
        ],
        [
         6,
         "monaco",
         "Circuit de Monaco",
         "Monte-Carlo",
         "Monaco",
         43.7347,
         7.42056,
         7.0,
         "2024-10-25T07:33:49.584Z"
        ],
        [
         7,
         "villeneuve",
         "Circuit Gilles Villeneuve",
         "Montreal",
         "Canada",
         45.5,
         -73.5228,
         13.0,
         "2024-10-25T07:33:49.584Z"
        ],
        [
         8,
         "magny_cours",
         "Circuit de Nevers Magny-Cours",
         "Magny Cours",
         "France",
         46.8642,
         3.16361,
         228.0,
         "2024-10-25T07:33:49.584Z"
        ],
        [
         9,
         "silverstone",
         "Silverstone Circuit",
         "Silverstone",
         "UK",
         52.0786,
         -1.01694,
         153.0,
         "2024-10-25T07:33:49.584Z"
        ],
        [
         10,
         "hockenheimring",
         "Hockenheimring",
         "Hockenheim",
         "Germany",
         49.3278,
         8.56583,
         103.0,
         "2024-10-25T07:33:49.584Z"
        ],
        [
         11,
         "hungaroring",
         "Hungaroring",
         "Budapest",
         "Hungary",
         47.5789,
         19.2486,
         264.0,
         "2024-10-25T07:33:49.584Z"
        ],
        [
         12,
         "valencia",
         "Valencia Street Circuit",
         "Valencia",
         "Spain",
         39.4589,
         -0.331667,
         4.0,
         "2024-10-25T07:33:49.584Z"
        ],
        [
         13,
         "spa",
         "Circuit de Spa-Francorchamps",
         "Spa",
         "Belgium",
         50.4372,
         5.97139,
         401.0,
         "2024-10-25T07:33:49.584Z"
        ],
        [
         14,
         "monza",
         "Autodromo Nazionale di Monza",
         "Monza",
         "Italy",
         45.6156,
         9.28111,
         162.0,
         "2024-10-25T07:33:49.584Z"
        ],
        [
         15,
         "marina_bay",
         "Marina Bay Street Circuit",
         "Marina Bay",
         "Singapore",
         1.2914,
         103.864,
         18.0,
         "2024-10-25T07:33:49.584Z"
        ],
        [
         16,
         "fuji",
         "Fuji Speedway",
         "Oyama",
         "Japan",
         35.3717,
         138.927,
         583.0,
         "2024-10-25T07:33:49.584Z"
        ],
        [
         17,
         "shanghai",
         "Shanghai International Circuit",
         "Shanghai",
         "China",
         31.3389,
         121.22,
         5.0,
         "2024-10-25T07:33:49.584Z"
        ],
        [
         18,
         "interlagos",
         "Autódromo José Carlos Pace",
         "São Paulo",
         "Brazil",
         -23.7036,
         -46.6997,
         785.0,
         "2024-10-25T07:33:49.584Z"
        ],
        [
         19,
         "indianapolis",
         "Indianapolis Motor Speedway",
         "Indianapolis",
         "USA",
         39.795,
         -86.2347,
         223.0,
         "2024-10-25T07:33:49.584Z"
        ],
        [
         20,
         "nurburgring",
         "Nürburgring",
         "Nürburg",
         "Germany",
         50.3356,
         6.9475,
         578.0,
         "2024-10-25T07:33:49.584Z"
        ],
        [
         21,
         "imola",
         "Autodromo Enzo e Dino Ferrari",
         "Imola",
         "Italy",
         44.3439,
         11.7167,
         37.0,
         "2024-10-25T07:33:49.584Z"
        ],
        [
         22,
         "suzuka",
         "Suzuka Circuit",
         "Suzuka",
         "Japan",
         34.8431,
         136.541,
         45.0,
         "2024-10-25T07:33:49.584Z"
        ],
        [
         23,
         "osterreichring",
         "A1-Ring",
         "Spielburg",
         "Austria",
         47.2197,
         14.7647,
         678.0,
         "2024-10-25T07:33:49.584Z"
        ],
        [
         24,
         "yas_marina",
         "Yas Marina Circuit",
         "Abu Dhabi",
         "UAE",
         24.4672,
         54.6031,
         3.0,
         "2024-10-25T07:33:49.584Z"
        ],
        [
         25,
         "galvez",
         "Autódromo Juan y Oscar Gálvez",
         "Buenos Aires",
         "Argentina",
         -34.6943,
         -58.4593,
         8.0,
         "2024-10-25T07:33:49.584Z"
        ],
        [
         26,
         "jerez",
         "Circuito de Jerez",
         "Jerez de la Frontera",
         "Spain",
         36.7083,
         -6.03417,
         37.0,
         "2024-10-25T07:33:49.584Z"
        ],
        [
         27,
         "estoril",
         "Autódromo do Estoril",
         "Estoril",
         "Portugal",
         38.7506,
         -9.39417,
         130.0,
         "2024-10-25T07:33:49.584Z"
        ],
        [
         28,
         "okayama",
         "Okayama International Circuit",
         "Okayama",
         "Japan",
         34.915,
         134.221,
         266.0,
         "2024-10-25T07:33:49.584Z"
        ],
        [
         29,
         "adelaide",
         "Adelaide Street Circuit",
         "Adelaide",
         "Australia",
         -34.9272,
         138.617,
         58.0,
         "2024-10-25T07:33:49.584Z"
        ],
        [
         30,
         "kyalami",
         "Kyalami",
         "Midrand",
         "South Africa",
         -25.9894,
         28.0767,
         1460.0,
         "2024-10-25T07:33:49.584Z"
        ],
        [
         31,
         "donington",
         "Donington Park",
         "Castle Donington",
         "UK",
         52.8306,
         -1.37528,
         88.0,
         "2024-10-25T07:33:49.584Z"
        ],
        [
         32,
         "rodriguez",
         "Autódromo Hermanos Rodríguez",
         "Mexico City",
         "Mexico",
         19.4042,
         -99.0907,
         2227.0,
         "2024-10-25T07:33:49.584Z"
        ],
        [
         33,
         "phoenix",
         "Phoenix street circuit",
         "Phoenix",
         "USA",
         33.4479,
         -112.075,
         345.0,
         "2024-10-25T07:33:49.584Z"
        ],
        [
         34,
         "ricard",
         "Circuit Paul Ricard",
         "Le Castellet",
         "France",
         43.2506,
         5.79167,
         432.0,
         "2024-10-25T07:33:49.584Z"
        ],
        [
         35,
         "yeongam",
         "Korean International Circuit",
         "Yeongam County",
         "Korea",
         34.7333,
         126.417,
         0.0,
         "2024-10-25T07:33:49.584Z"
        ],
        [
         36,
         "jacarepagua",
         "Autódromo Internacional Nelson Piquet",
         "Rio de Janeiro",
         "Brazil",
         -22.9756,
         -43.395,
         1126.0,
         "2024-10-25T07:33:49.584Z"
        ],
        [
         37,
         "detroit",
         "Detroit Street Circuit",
         "Detroit",
         "USA",
         42.3298,
         -83.0401,
         177.0,
         "2024-10-25T07:33:49.584Z"
        ],
        [
         38,
         "brands_hatch",
         "Brands Hatch",
         "Kent",
         "UK",
         51.3569,
         0.263056,
         145.0,
         "2024-10-25T07:33:49.584Z"
        ],
        [
         39,
         "zandvoort",
         "Circuit Park Zandvoort",
         "Zandvoort",
         "Netherlands",
         52.3888,
         4.54092,
         6.0,
         "2024-10-25T07:33:49.584Z"
        ],
        [
         40,
         "zolder",
         "Zolder",
         "Heusden-Zolder",
         "Belgium",
         50.9894,
         5.25694,
         36.0,
         "2024-10-25T07:33:49.584Z"
        ],
        [
         41,
         "dijon",
         "Dijon-Prenois",
         "Dijon",
         "France",
         47.3625,
         4.89913,
         484.0,
         "2024-10-25T07:33:49.584Z"
        ],
        [
         42,
         "dallas",
         "Fair Park",
         "Dallas",
         "USA",
         32.7774,
         -96.7587,
         139.0,
         "2024-10-25T07:33:49.584Z"
        ],
        [
         43,
         "long_beach",
         "Long Beach",
         "California",
         "USA",
         33.7651,
         -118.189,
         12.0,
         "2024-10-25T07:33:49.584Z"
        ],
        [
         44,
         "las_vegas",
         "Las Vegas Street Circuit",
         "Nevada",
         "USA",
         36.1162,
         -115.174,
         639.0,
         "2024-10-25T07:33:49.584Z"
        ],
        [
         45,
         "jarama",
         "Jarama",
         "Madrid",
         "Spain",
         40.6171,
         -3.58558,
         609.0,
         "2024-10-25T07:33:49.584Z"
        ],
        [
         46,
         "watkins_glen",
         "Watkins Glen",
         "New York State",
         "USA",
         42.3369,
         -76.9272,
         485.0,
         "2024-10-25T07:33:49.584Z"
        ],
        [
         47,
         "anderstorp",
         "Scandinavian Raceway",
         "Anderstorp",
         "Sweden",
         57.2653,
         13.6042,
         153.0,
         "2024-10-25T07:33:49.584Z"
        ],
        [
         48,
         "mosport",
         "Mosport International Raceway",
         "Ontario",
         "Canada",
         44.0481,
         -78.6756,
         332.0,
         "2024-10-25T07:33:49.584Z"
        ],
        [
         49,
         "montjuic",
         "Montjuïc",
         "Barcelona",
         "Spain",
         41.3664,
         2.15167,
         79.0,
         "2024-10-25T07:33:49.584Z"
        ],
        [
         50,
         "nivelles",
         "Nivelles-Baulers",
         "Brussels",
         "Belgium",
         50.6211,
         4.32694,
         139.0,
         "2024-10-25T07:33:49.584Z"
        ],
        [
         51,
         "charade",
         "Charade Circuit",
         "Clermont-Ferrand",
         "France",
         45.7472,
         3.03889,
         790.0,
         "2024-10-25T07:33:49.584Z"
        ],
        [
         52,
         "tremblant",
         "Circuit Mont-Tremblant",
         "Quebec",
         "Canada",
         46.1877,
         -74.6099,
         214.0,
         "2024-10-25T07:33:49.584Z"
        ],
        [
         53,
         "essarts",
         "Rouen-Les-Essarts",
         "Rouen",
         "France",
         49.3306,
         1.00458,
         81.0,
         "2024-10-25T07:33:49.584Z"
        ],
        [
         54,
         "lemans",
         "Le Mans",
         "Le Mans",
         "France",
         47.95,
         0.224231,
         67.0,
         "2024-10-25T07:33:49.584Z"
        ],
        [
         55,
         "reims",
         "Reims-Gueux",
         "Reims",
         "France",
         49.2542,
         3.93083,
         88.0,
         "2024-10-25T07:33:49.584Z"
        ],
        [
         56,
         "george",
         "Prince George Circuit",
         "Eastern Cape Province",
         "South Africa",
         -33.0486,
         27.8736,
         15.0,
         "2024-10-25T07:33:49.584Z"
        ],
        [
         57,
         "zeltweg",
         "Zeltweg",
         "Styria",
         "Austria",
         47.2039,
         14.7478,
         676.0,
         "2024-10-25T07:33:49.584Z"
        ],
        [
         58,
         "aintree",
         "Aintree",
         "Liverpool",
         "UK",
         53.4769,
         -2.94056,
         20.0,
         "2024-10-25T07:33:49.584Z"
        ],
        [
         59,
         "boavista",
         "Circuito da Boavista",
         "Oporto",
         "Portugal",
         41.1705,
         -8.67325,
         28.0,
         "2024-10-25T07:33:49.584Z"
        ],
        [
         60,
         "riverside",
         "Riverside International Raceway",
         "California",
         "USA",
         33.937,
         -117.273,
         470.0,
         "2024-10-25T07:33:49.584Z"
        ],
        [
         61,
         "avus",
         "AVUS",
         "Berlin",
         "Germany",
         52.4806,
         13.2514,
         53.0,
         "2024-10-25T07:33:49.584Z"
        ],
        [
         62,
         "monsanto",
         "Monsanto Park Circuit",
         "Lisbon",
         "Portugal",
         38.7197,
         -9.20306,
         158.0,
         "2024-10-25T07:33:49.584Z"
        ],
        [
         63,
         "sebring",
         "Sebring International Raceway",
         "Florida",
         "USA",
         27.4547,
         -81.3483,
         18.0,
         "2024-10-25T07:33:49.584Z"
        ],
        [
         64,
         "ain-diab",
         "Ain Diab",
         "Casablanca",
         "Morocco",
         33.5786,
         -7.6875,
         19.0,
         "2024-10-25T07:33:49.584Z"
        ],
        [
         65,
         "pescara",
         "Pescara Circuit",
         "Pescara",
         "Italy",
         42.475,
         14.1508,
         129.0,
         "2024-10-25T07:33:49.584Z"
        ],
        [
         66,
         "bremgarten",
         "Circuit Bremgarten",
         "Bern",
         "Switzerland",
         46.9589,
         7.40194,
         551.0,
         "2024-10-25T07:33:49.584Z"
        ],
        [
         67,
         "pedralbes",
         "Circuit de Pedralbes",
         "Barcelona",
         "Spain",
         41.3903,
         2.11667,
         85.0,
         "2024-10-25T07:33:49.584Z"
        ],
        [
         68,
         "buddh",
         "Buddh International Circuit",
         "Uttar Pradesh",
         "India",
         28.3487,
         77.5331,
         194.0,
         "2024-10-25T07:33:49.584Z"
        ],
        [
         69,
         "americas",
         "Circuit of the Americas",
         "Austin",
         "USA",
         30.1328,
         -97.6411,
         161.0,
         "2024-10-25T07:33:49.584Z"
        ],
        [
         70,
         "red_bull_ring",
         "Red Bull Ring",
         "Spielburg",
         "Austria",
         47.2197,
         14.7647,
         678.0,
         "2024-10-25T07:33:49.584Z"
        ],
        [
         71,
         "sochi",
         "Sochi Autodrom",
         "Sochi",
         "Russia",
         43.4057,
         39.9578,
         2.0,
         "2024-10-25T07:33:49.584Z"
        ],
        [
         72,
         "port_imperial",
         "Port Imperial Street Circuit",
         "New Jersey",
         "USA",
         40.7769,
         -74.0111,
         4.0,
         "2024-10-25T07:33:49.584Z"
        ],
        [
         73,
         "BAK",
         "Baku City Circuit",
         "Baku",
         "Azerbaijan",
         40.3725,
         49.8533,
         -7.0,
         "2024-10-25T07:33:49.584Z"
        ],
        [
         74,
         "hanoi",
         "Hanoi Street Circuit",
         "Hanoi",
         "Vietnam",
         21.0166,
         105.766,
         9.0,
         "2024-10-25T07:33:49.584Z"
        ],
        [
         75,
         "portimao",
         "Autódromo Internacional do Algarve",
         "Portimão",
         "Portugal",
         37.227,
         -8.6267,
         108.0,
         "2024-10-25T07:33:49.584Z"
        ],
        [
         76,
         "mugello",
         "Autodromo Internazionale del Mugello",
         "Mugello",
         "Italy",
         43.9975,
         11.3719,
         255.0,
         "2024-10-25T07:33:49.584Z"
        ],
        [
         77,
         "jeddah",
         "Jeddah Street Circuit",
         "Jeddah",
         "Saudi Arabia",
         21.5433,
         39.1728,
         15.0,
         "2024-10-25T07:33:49.584Z"
        ]
       ],
       "datasetInfos": [],
       "dbfsResultPath": null,
       "isJsonSchema": true,
       "metadata": {},
       "overflow": false,
       "plotOptions": {
        "customPlotOptions": {},
        "displayType": "table",
        "pivotAggregation": null,
        "pivotColumns": null,
        "xColumns": null,
        "yColumns": null
       },
       "removedWidgets": [],
       "schema": [
        {
         "metadata": "{}",
         "name": "circuit_id",
         "type": "\"integer\""
        },
        {
         "metadata": "{}",
         "name": "circuit_ref",
         "type": "\"string\""
        },
        {
         "metadata": "{}",
         "name": "name",
         "type": "\"string\""
        },
        {
         "metadata": "{}",
         "name": "location",
         "type": "\"string\""
        },
        {
         "metadata": "{}",
         "name": "country",
         "type": "\"string\""
        },
        {
         "metadata": "{}",
         "name": "latitude",
         "type": "\"double\""
        },
        {
         "metadata": "{}",
         "name": "longitude",
         "type": "\"double\""
        },
        {
         "metadata": "{}",
         "name": "altitude",
         "type": "\"double\""
        },
        {
         "metadata": "{}",
         "name": "ingestion_date",
         "type": "\"timestamp\""
        }
       ],
       "type": "table"
      }
     },
     "output_type": "display_data"
    }
   ],
   "source": [
    "display(spark.read.parquet(\"abfss://processed@formulaonedl01.dfs.core.windows.net/circuits\"))"
   ]
  }
 ],
 "metadata": {
  "application/vnd.databricks.v1+notebook": {
   "dashboards": [],
   "environmentMetadata": {
    "base_environment": "",
    "client": "1"
   },
   "language": "python",
   "notebookMetadata": {
    "mostRecentlyExecutedCommandWithImplicitDF": {
     "commandId": 2566125763859391,
     "dataframes": [
      "_sqldf"
     ]
    },
    "pythonIndentUnit": 4
   },
   "notebookName": "1. Ingest Circuits File",
   "widgets": {}
  }
 },
 "nbformat": 4,
 "nbformat_minor": 0
}
